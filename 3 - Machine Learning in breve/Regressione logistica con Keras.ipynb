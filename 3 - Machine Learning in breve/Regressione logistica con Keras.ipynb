{
 "cells": [
  {
   "cell_type": "markdown",
   "metadata": {},
   "source": [
    "# Regressione logistica con Keras\n",
    "La regressione logistica è un modello di classificazione lineare che ci permete di eseguire classificazioni binomiali, ovvero tra due classi.\n",
    "<br><br>\n",
    "Un problema di classificazione può essere ridotto nel trovare i coefficenti della retta che meglio separa gli esempi appartenenti a diverse classi.\n",
    "<img src=\"res/classification.png\" width=\"500px\" />\n",
    "<br><br>\n",
    "In questo notebook eseguiremo una regressione logistica sul [Winsconsis breast cancer dataset](https://archive.ics.uci.edu/ml/datasets/Breast+Cancer+Wisconsin+(Diagnostic)), un dataset contenente proprietà estratte da immagini digitali di tumori al seno.<br>Lo scopo della nostra classificazione è riconoscere un tumore maligno.<br>\n",
    "Importiamo le librerie che ci serviranno."
   ]
  },
  {
   "cell_type": "code",
   "execution_count": 1,
   "metadata": {},
   "outputs": [],
   "source": [
    "import pandas as pd\n",
    "\n",
    "import matplotlib.pyplot as plt\n",
    "\n",
    "from sklearn.model_selection import train_test_split\n",
    "from sklearn.preprocessing import StandardScaler\n",
    "from sklearn.preprocessing import LabelEncoder"
   ]
  },
  {
   "cell_type": "code",
   "execution_count": 2,
   "metadata": {},
   "outputs": [
    {
     "data": {
      "text/html": [
       "<div>\n",
       "<style scoped>\n",
       "    .dataframe tbody tr th:only-of-type {\n",
       "        vertical-align: middle;\n",
       "    }\n",
       "\n",
       "    .dataframe tbody tr th {\n",
       "        vertical-align: top;\n",
       "    }\n",
       "\n",
       "    .dataframe thead th {\n",
       "        text-align: right;\n",
       "    }\n",
       "</style>\n",
       "<table border=\"1\" class=\"dataframe\">\n",
       "  <thead>\n",
       "    <tr style=\"text-align: right;\">\n",
       "      <th></th>\n",
       "      <th>id</th>\n",
       "      <th>diagnosis</th>\n",
       "      <th>radius_mean</th>\n",
       "      <th>texture_mean</th>\n",
       "      <th>perimeter_mean</th>\n",
       "      <th>area_mean</th>\n",
       "      <th>smoothness_mean</th>\n",
       "      <th>compactness_mean</th>\n",
       "      <th>concavity_mean</th>\n",
       "      <th>concave points_mean</th>\n",
       "      <th>...</th>\n",
       "      <th>radius_worst</th>\n",
       "      <th>texture_worst</th>\n",
       "      <th>perimeter_worst</th>\n",
       "      <th>area_worst</th>\n",
       "      <th>smoothness_worst</th>\n",
       "      <th>compactness_worst</th>\n",
       "      <th>concavity_worst</th>\n",
       "      <th>concave points_worst</th>\n",
       "      <th>symmetry_worst</th>\n",
       "      <th>fractal_dimension_worst</th>\n",
       "    </tr>\n",
       "  </thead>\n",
       "  <tbody>\n",
       "    <tr>\n",
       "      <th>0</th>\n",
       "      <td>842302</td>\n",
       "      <td>M</td>\n",
       "      <td>17.99</td>\n",
       "      <td>10.38</td>\n",
       "      <td>122.80</td>\n",
       "      <td>1001.0</td>\n",
       "      <td>0.11840</td>\n",
       "      <td>0.27760</td>\n",
       "      <td>0.3001</td>\n",
       "      <td>0.14710</td>\n",
       "      <td>...</td>\n",
       "      <td>25.38</td>\n",
       "      <td>17.33</td>\n",
       "      <td>184.60</td>\n",
       "      <td>2019.0</td>\n",
       "      <td>0.1622</td>\n",
       "      <td>0.6656</td>\n",
       "      <td>0.7119</td>\n",
       "      <td>0.2654</td>\n",
       "      <td>0.4601</td>\n",
       "      <td>0.11890</td>\n",
       "    </tr>\n",
       "    <tr>\n",
       "      <th>1</th>\n",
       "      <td>842517</td>\n",
       "      <td>M</td>\n",
       "      <td>20.57</td>\n",
       "      <td>17.77</td>\n",
       "      <td>132.90</td>\n",
       "      <td>1326.0</td>\n",
       "      <td>0.08474</td>\n",
       "      <td>0.07864</td>\n",
       "      <td>0.0869</td>\n",
       "      <td>0.07017</td>\n",
       "      <td>...</td>\n",
       "      <td>24.99</td>\n",
       "      <td>23.41</td>\n",
       "      <td>158.80</td>\n",
       "      <td>1956.0</td>\n",
       "      <td>0.1238</td>\n",
       "      <td>0.1866</td>\n",
       "      <td>0.2416</td>\n",
       "      <td>0.1860</td>\n",
       "      <td>0.2750</td>\n",
       "      <td>0.08902</td>\n",
       "    </tr>\n",
       "    <tr>\n",
       "      <th>2</th>\n",
       "      <td>84300903</td>\n",
       "      <td>M</td>\n",
       "      <td>19.69</td>\n",
       "      <td>21.25</td>\n",
       "      <td>130.00</td>\n",
       "      <td>1203.0</td>\n",
       "      <td>0.10960</td>\n",
       "      <td>0.15990</td>\n",
       "      <td>0.1974</td>\n",
       "      <td>0.12790</td>\n",
       "      <td>...</td>\n",
       "      <td>23.57</td>\n",
       "      <td>25.53</td>\n",
       "      <td>152.50</td>\n",
       "      <td>1709.0</td>\n",
       "      <td>0.1444</td>\n",
       "      <td>0.4245</td>\n",
       "      <td>0.4504</td>\n",
       "      <td>0.2430</td>\n",
       "      <td>0.3613</td>\n",
       "      <td>0.08758</td>\n",
       "    </tr>\n",
       "    <tr>\n",
       "      <th>3</th>\n",
       "      <td>84348301</td>\n",
       "      <td>M</td>\n",
       "      <td>11.42</td>\n",
       "      <td>20.38</td>\n",
       "      <td>77.58</td>\n",
       "      <td>386.1</td>\n",
       "      <td>0.14250</td>\n",
       "      <td>0.28390</td>\n",
       "      <td>0.2414</td>\n",
       "      <td>0.10520</td>\n",
       "      <td>...</td>\n",
       "      <td>14.91</td>\n",
       "      <td>26.50</td>\n",
       "      <td>98.87</td>\n",
       "      <td>567.7</td>\n",
       "      <td>0.2098</td>\n",
       "      <td>0.8663</td>\n",
       "      <td>0.6869</td>\n",
       "      <td>0.2575</td>\n",
       "      <td>0.6638</td>\n",
       "      <td>0.17300</td>\n",
       "    </tr>\n",
       "    <tr>\n",
       "      <th>4</th>\n",
       "      <td>84358402</td>\n",
       "      <td>M</td>\n",
       "      <td>20.29</td>\n",
       "      <td>14.34</td>\n",
       "      <td>135.10</td>\n",
       "      <td>1297.0</td>\n",
       "      <td>0.10030</td>\n",
       "      <td>0.13280</td>\n",
       "      <td>0.1980</td>\n",
       "      <td>0.10430</td>\n",
       "      <td>...</td>\n",
       "      <td>22.54</td>\n",
       "      <td>16.67</td>\n",
       "      <td>152.20</td>\n",
       "      <td>1575.0</td>\n",
       "      <td>0.1374</td>\n",
       "      <td>0.2050</td>\n",
       "      <td>0.4000</td>\n",
       "      <td>0.1625</td>\n",
       "      <td>0.2364</td>\n",
       "      <td>0.07678</td>\n",
       "    </tr>\n",
       "  </tbody>\n",
       "</table>\n",
       "<p>5 rows × 32 columns</p>\n",
       "</div>"
      ],
      "text/plain": [
       "         id diagnosis  radius_mean  texture_mean  perimeter_mean  area_mean  \\\n",
       "0    842302         M        17.99         10.38          122.80     1001.0   \n",
       "1    842517         M        20.57         17.77          132.90     1326.0   \n",
       "2  84300903         M        19.69         21.25          130.00     1203.0   \n",
       "3  84348301         M        11.42         20.38           77.58      386.1   \n",
       "4  84358402         M        20.29         14.34          135.10     1297.0   \n",
       "\n",
       "   smoothness_mean  compactness_mean  concavity_mean  concave points_mean  \\\n",
       "0          0.11840           0.27760          0.3001              0.14710   \n",
       "1          0.08474           0.07864          0.0869              0.07017   \n",
       "2          0.10960           0.15990          0.1974              0.12790   \n",
       "3          0.14250           0.28390          0.2414              0.10520   \n",
       "4          0.10030           0.13280          0.1980              0.10430   \n",
       "\n",
       "            ...             radius_worst  texture_worst  perimeter_worst  \\\n",
       "0           ...                    25.38          17.33           184.60   \n",
       "1           ...                    24.99          23.41           158.80   \n",
       "2           ...                    23.57          25.53           152.50   \n",
       "3           ...                    14.91          26.50            98.87   \n",
       "4           ...                    22.54          16.67           152.20   \n",
       "\n",
       "   area_worst  smoothness_worst  compactness_worst  concavity_worst  \\\n",
       "0      2019.0            0.1622             0.6656           0.7119   \n",
       "1      1956.0            0.1238             0.1866           0.2416   \n",
       "2      1709.0            0.1444             0.4245           0.4504   \n",
       "3       567.7            0.2098             0.8663           0.6869   \n",
       "4      1575.0            0.1374             0.2050           0.4000   \n",
       "\n",
       "   concave points_worst  symmetry_worst  fractal_dimension_worst  \n",
       "0                0.2654          0.4601                  0.11890  \n",
       "1                0.1860          0.2750                  0.08902  \n",
       "2                0.2430          0.3613                  0.08758  \n",
       "3                0.2575          0.6638                  0.17300  \n",
       "4                0.1625          0.2364                  0.07678  \n",
       "\n",
       "[5 rows x 32 columns]"
      ]
     },
     "execution_count": 2,
     "metadata": {},
     "output_type": "execute_result"
    }
   ],
   "source": [
    "breast_cancer = pd.read_csv(\"https://archive.ics.uci.edu/ml/machine-learning-databases/breast-cancer-wisconsin/wdbc.data\",\n",
    "                           names=[\"id\",\"diagnosis\",\"radius_mean\",\"texture_mean\",\"perimeter_mean\",\"area_mean\",\"smoothness_mean\",\"compactness_mean\",\"concavity_mean\",\"concave points_mean\",\"symmetry_mean\",\"fractal_dimension_mean\",\"radius_se\",\"texture_se\",\"perimeter_se\",\"area_se\",\"smoothness_se\",\"compactness_se\",\"concavity_se\",\"concave points_se\",\"symmetry_se\",\"fractal_dimension_se\",\"radius_worst\",\"texture_worst\",\"perimeter_worst\",\"area_worst\",\"smoothness_worst\",\"compactness_worst\",\"concavity_worst\",\"concave points_worst\",\"symmetry_worst\",\"fractal_dimension_worst\"])\n",
    "\n",
    "breast_cancer.head()"
   ]
  },
  {
   "cell_type": "markdown",
   "metadata": {},
   "source": [
    "Diamo uno sguardo alle proprietà del dataset."
   ]
  },
  {
   "cell_type": "code",
   "execution_count": 3,
   "metadata": {},
   "outputs": [
    {
     "name": "stdout",
     "output_type": "stream",
     "text": [
      "<class 'pandas.core.frame.DataFrame'>\n",
      "RangeIndex: 569 entries, 0 to 568\n",
      "Data columns (total 32 columns):\n",
      "id                         569 non-null int64\n",
      "diagnosis                  569 non-null object\n",
      "radius_mean                569 non-null float64\n",
      "texture_mean               569 non-null float64\n",
      "perimeter_mean             569 non-null float64\n",
      "area_mean                  569 non-null float64\n",
      "smoothness_mean            569 non-null float64\n",
      "compactness_mean           569 non-null float64\n",
      "concavity_mean             569 non-null float64\n",
      "concave points_mean        569 non-null float64\n",
      "symmetry_mean              569 non-null float64\n",
      "fractal_dimension_mean     569 non-null float64\n",
      "radius_se                  569 non-null float64\n",
      "texture_se                 569 non-null float64\n",
      "perimeter_se               569 non-null float64\n",
      "area_se                    569 non-null float64\n",
      "smoothness_se              569 non-null float64\n",
      "compactness_se             569 non-null float64\n",
      "concavity_se               569 non-null float64\n",
      "concave points_se          569 non-null float64\n",
      "symmetry_se                569 non-null float64\n",
      "fractal_dimension_se       569 non-null float64\n",
      "radius_worst               569 non-null float64\n",
      "texture_worst              569 non-null float64\n",
      "perimeter_worst            569 non-null float64\n",
      "area_worst                 569 non-null float64\n",
      "smoothness_worst           569 non-null float64\n",
      "compactness_worst          569 non-null float64\n",
      "concavity_worst            569 non-null float64\n",
      "concave points_worst       569 non-null float64\n",
      "symmetry_worst             569 non-null float64\n",
      "fractal_dimension_worst    569 non-null float64\n",
      "dtypes: float64(30), int64(1), object(1)\n",
      "memory usage: 142.3+ KB\n"
     ]
    }
   ],
   "source": [
    "breast_cancer.info()"
   ]
  },
  {
   "cell_type": "markdown",
   "metadata": {},
   "source": [
    "Il DataFrame contiene 32 colonne, 31 features e una variabile target **diagnosis**, che ci dice se un tumore è maligno o benigno:\n",
    "* **M** il tuomore è maligno\n",
    "* **B** il tumore è benigno"
   ]
  },
  {
   "cell_type": "markdown",
   "metadata": {},
   "source": [
    "## Regressione logistica con due features\n",
    "Eseguiamo una regressione logistica utilizzando solo due features del dataset:\n",
    "* **radius_se** l'errore standard del raggio del tumore\n",
    "* **concave points_worst** il numero peggiore di punti di concavità nel contorno del tumore\n",
    "\n",
    "Creiamo gli array numpy per addestramento e test."
   ]
  },
  {
   "cell_type": "code",
   "execution_count": 4,
   "metadata": {},
   "outputs": [],
   "source": [
    "X = breast_cancer[[\"radius_se\",\"concave points_worst\"]].values\n",
    "Y = breast_cancer['diagnosis'].values\n",
    "\n",
    "X_train, X_test, Y_train, Y_test = train_test_split(X,Y, test_size=0.3, random_state=0)"
   ]
  },
  {
   "cell_type": "markdown",
   "metadata": {},
   "source": [
    "Le classi di appartenenza sono rappresentate da due label (M, B), utilizziamo il LabelEncoder per convertirli in valori numerici:\n",
    "* **M => 1 = Classe positiva**\n",
    "* **B => 0 = Classe negativa**"
   ]
  },
  {
   "cell_type": "code",
   "execution_count": 5,
   "metadata": {},
   "outputs": [],
   "source": [
    "le = LabelEncoder()\n",
    "Y_train = le.fit_transform(Y_train)\n",
    "Y_test = le.transform(Y_test)"
   ]
  },
  {
   "cell_type": "markdown",
   "metadata": {},
   "source": [
    "Standardizziamo il DataFrame"
   ]
  },
  {
   "cell_type": "code",
   "execution_count": 6,
   "metadata": {},
   "outputs": [],
   "source": [
    "ss = StandardScaler()\n",
    "X_train = ss.fit_transform(X_train)\n",
    "X_test = ss.transform(X_test)"
   ]
  },
  {
   "cell_type": "markdown",
   "metadata": {},
   "source": [
    "Adesso possiamo costruire il nostro modello di regressione logistica utilizzando Keras.\n",
    "<br><br>\n",
    "La prima cosa da fare è creare un modello sequenziale, possiamo farlo utilizzando la classe <span style=\"font-family: Monaco\">Sequential</span> di Keras. Un modello sequenziale ci permttere di distribuire diversi modelli su livelli diversi, perché dovremmo fare una cosa del genere ? Perchè le reti neurali funzionano così !\n",
    "<br><br>\n",
    "Il nostro scopo è creare una semplice modello di regressione logistica e per farlo ci basta aggiungere un unico livello, facciamolo utilizando la classe <span style=\"font-family: Monaco\">Dense</span>, specificando il numero di features all'interno del parametro <span style=\"font-family: Monaco\">input_dim</span> e la funzione di attivazione da utilizzare all'interno del parametro <span style=\"font-family: Monaco\">activation</span>."
   ]
  },
  {
   "cell_type": "code",
   "execution_count": 7,
   "metadata": {},
   "outputs": [
    {
     "name": "stderr",
     "output_type": "stream",
     "text": [
      "/anaconda3/lib/python3.6/site-packages/h5py/__init__.py:36: FutureWarning: Conversion of the second argument of issubdtype from `float` to `np.floating` is deprecated. In future, it will be treated as `np.float64 == np.dtype(float).type`.\n",
      "  from ._conv import register_converters as _register_converters\n",
      "Using TensorFlow backend.\n"
     ]
    }
   ],
   "source": [
    "from keras.models import Sequential\n",
    "from keras.layers import Dense\n",
    "from keras.optimizers import SGD\n",
    "\n",
    "model = Sequential()\n",
    "model.add(Dense(1, input_dim=2, activation=\"sigmoid\"))"
   ]
  },
  {
   "cell_type": "markdown",
   "metadata": {},
   "source": [
    "Dopo aver creato il modello dobbiamo configurare il proceso di addestramento, possiamo farlo utilizzando il metodo compile passando come parametri la funzione di ottimizzazione da utilizzare, la funzione di costo da minimizzare e la metrica da utilizzare."
   ]
  },
  {
   "cell_type": "code",
   "execution_count": 8,
   "metadata": {},
   "outputs": [],
   "source": [
    "model.compile(optimizer='sgd', loss='binary_crossentropy', metrics=['accuracy'])"
   ]
  },
  {
   "cell_type": "markdown",
   "metadata": {},
   "source": [
    "Adesso che abbiamo configurato la fase di addestramento possiamo avviarla utilizzando il metodo <span style=\"font-family: Monaco\">fit</span> e passando i set di addestramento e il numero di epoche per lo stochastic gradient descent."
   ]
  },
  {
   "cell_type": "code",
   "execution_count": 9,
   "metadata": {},
   "outputs": [
    {
     "name": "stdout",
     "output_type": "stream",
     "text": [
      "Epoch 1/25\n",
      "398/398 [==============================] - 0s 349us/step - loss: 0.2852 - acc: 0.9422\n",
      "Epoch 2/25\n",
      "398/398 [==============================] - 0s 33us/step - loss: 0.2828 - acc: 0.9447\n",
      "Epoch 3/25\n",
      "398/398 [==============================] - 0s 35us/step - loss: 0.2804 - acc: 0.9472\n",
      "Epoch 4/25\n",
      "398/398 [==============================] - 0s 34us/step - loss: 0.2781 - acc: 0.9472\n",
      "Epoch 5/25\n",
      "398/398 [==============================] - 0s 31us/step - loss: 0.2758 - acc: 0.9447\n",
      "Epoch 6/25\n",
      "398/398 [==============================] - 0s 34us/step - loss: 0.2736 - acc: 0.9447\n",
      "Epoch 7/25\n",
      "398/398 [==============================] - 0s 31us/step - loss: 0.2715 - acc: 0.9447\n",
      "Epoch 8/25\n",
      "398/398 [==============================] - 0s 32us/step - loss: 0.2695 - acc: 0.9447\n",
      "Epoch 9/25\n",
      "398/398 [==============================] - 0s 38us/step - loss: 0.2675 - acc: 0.9447\n",
      "Epoch 10/25\n",
      "398/398 [==============================] - 0s 36us/step - loss: 0.2656 - acc: 0.9447\n",
      "Epoch 11/25\n",
      "398/398 [==============================] - 0s 32us/step - loss: 0.2637 - acc: 0.9447\n",
      "Epoch 12/25\n",
      "398/398 [==============================] - 0s 31us/step - loss: 0.2619 - acc: 0.9447\n",
      "Epoch 13/25\n",
      "398/398 [==============================] - 0s 35us/step - loss: 0.2602 - acc: 0.9447\n",
      "Epoch 14/25\n",
      "398/398 [==============================] - 0s 32us/step - loss: 0.2585 - acc: 0.9472\n",
      "Epoch 15/25\n",
      "398/398 [==============================] - 0s 36us/step - loss: 0.2568 - acc: 0.9472\n",
      "Epoch 16/25\n",
      "398/398 [==============================] - 0s 33us/step - loss: 0.2552 - acc: 0.9472\n",
      "Epoch 17/25\n",
      "398/398 [==============================] - 0s 34us/step - loss: 0.2536 - acc: 0.9472\n",
      "Epoch 18/25\n",
      "398/398 [==============================] - 0s 33us/step - loss: 0.2521 - acc: 0.9472\n",
      "Epoch 19/25\n",
      "398/398 [==============================] - 0s 38us/step - loss: 0.2506 - acc: 0.9472\n",
      "Epoch 20/25\n",
      "398/398 [==============================] - 0s 40us/step - loss: 0.2492 - acc: 0.9472\n",
      "Epoch 21/25\n",
      "398/398 [==============================] - 0s 36us/step - loss: 0.2478 - acc: 0.9472\n",
      "Epoch 22/25\n",
      "398/398 [==============================] - 0s 37us/step - loss: 0.2464 - acc: 0.9472\n",
      "Epoch 23/25\n",
      "398/398 [==============================] - 0s 33us/step - loss: 0.2451 - acc: 0.9472\n",
      "Epoch 24/25\n",
      "398/398 [==============================] - 0s 35us/step - loss: 0.2438 - acc: 0.9472\n",
      "Epoch 25/25\n",
      "398/398 [==============================] - 0s 34us/step - loss: 0.2426 - acc: 0.9472\n"
     ]
    },
    {
     "data": {
      "text/plain": [
       "<keras.callbacks.History at 0x1a2620c978>"
      ]
     },
     "execution_count": 9,
     "metadata": {},
     "output_type": "execute_result"
    }
   ],
   "source": [
    "model.fit(X_train, Y_train, epochs=25)"
   ]
  },
  {
   "cell_type": "markdown",
   "metadata": {},
   "source": [
    "Nel mio caso l'addestramento si è concluso alla 25esima epoca con una accuracy di 0.897 e un loss di 0.3495. Osserviamo le metriche sul set di test utilizzando il metodo <span style=\"font-family: Monaco\">evaluate</span>."
   ]
  },
  {
   "cell_type": "code",
   "execution_count": 10,
   "metadata": {},
   "outputs": [
    {
     "name": "stdout",
     "output_type": "stream",
     "text": [
      "171/171 [==============================] - 0s 191us/step\n",
      "Loss sul test set: 0.2695\n",
      "Accuracy sul test set: 0.9123\n"
     ]
    }
   ],
   "source": [
    "loss, acc = model.evaluate(X_test, Y_test)\n",
    "print(\"Loss sul test set: %.4f\" % loss)\n",
    "print(\"Accuracy sul test set: %.4f\" % acc)"
   ]
  },
  {
   "cell_type": "markdown",
   "metadata": {},
   "source": [
    "Considerando la semplicità del modello, le metriche sono molto buone."
   ]
  },
  {
   "cell_type": "markdown",
   "metadata": {},
   "source": [
    "Visualizziamo il decision boundary sul train_set utilizzano la funzione <span style=\"font-family: Monaco\">showBounds</span> che ho implementato all'interno del file viz.py."
   ]
  },
  {
   "cell_type": "code",
   "execution_count": 11,
   "metadata": {},
   "outputs": [
    {
     "data": {
      "image/png": "[encoded data removed]",
      "text/plain": [
       "<Figure size 432x288 with 1 Axes>"
      ]
     },
     "metadata": {},
     "output_type": "display_data"
    }
   ],
   "source": [
    "from viz import showBounds\n",
    "\n",
    "showBounds(X_train, Y_train, model)"
   ]
  },
  {
   "cell_type": "markdown",
   "metadata": {},
   "source": [
    "e sul test set"
   ]
  },
  {
   "cell_type": "code",
   "execution_count": 12,
   "metadata": {},
   "outputs": [
    {
     "data": {
      "image/png": "[encoded data removed]",
      "text/plain": [
       "<Figure size 432x288 with 1 Axes>"
      ]
     },
     "metadata": {},
     "output_type": "display_data"
    }
   ],
   "source": [
    "showBounds(X_test, Y_test, model)"
   ]
  },
  {
   "cell_type": "markdown",
   "metadata": {},
   "source": [
    "**NOTA BENE** Non farti ingannare dai graifici, il confine decisionale è ovviamente sempre lo stesso, sembra essere diverso nei due graifici per il range differente, infatti nel grafico del train set l'ase delle x va da -1 a 8, mentre nel test set va da -1 a 3."
   ]
  },
  {
   "cell_type": "markdown",
   "metadata": {},
   "source": [
    "## Regressione logistica con tutte le features\n",
    "Proviamo a rieseguire la regressione logistica, questa volta utilizzando tutte le proprietà del dataset"
   ]
  },
  {
   "cell_type": "code",
   "execution_count": 13,
   "metadata": {},
   "outputs": [
    {
     "name": "stdout",
     "output_type": "stream",
     "text": [
      "Epoch 1/30\n",
      "398/398 [==============================] - 0s 376us/step - loss: 0.3614 - acc: 0.8518\n",
      "Epoch 2/30\n",
      "398/398 [==============================] - 0s 35us/step - loss: 0.3354 - acc: 0.8568\n",
      "Epoch 3/30\n",
      "398/398 [==============================] - 0s 34us/step - loss: 0.3136 - acc: 0.8643\n",
      "Epoch 4/30\n",
      "398/398 [==============================] - 0s 34us/step - loss: 0.2953 - acc: 0.8794\n",
      "Epoch 5/30\n",
      "398/398 [==============================] - 0s 34us/step - loss: 0.2798 - acc: 0.8894\n",
      "Epoch 6/30\n",
      "398/398 [==============================] - 0s 32us/step - loss: 0.2666 - acc: 0.8995\n",
      "Epoch 7/30\n",
      "398/398 [==============================] - 0s 31us/step - loss: 0.2549 - acc: 0.9020\n",
      "Epoch 8/30\n",
      "398/398 [==============================] - 0s 38us/step - loss: 0.2443 - acc: 0.9070\n",
      "Epoch 9/30\n",
      "398/398 [==============================] - 0s 35us/step - loss: 0.2351 - acc: 0.9070\n",
      "Epoch 10/30\n",
      "398/398 [==============================] - 0s 34us/step - loss: 0.2268 - acc: 0.9146\n",
      "Epoch 11/30\n",
      "398/398 [==============================] - 0s 32us/step - loss: 0.2193 - acc: 0.9196\n",
      "Epoch 12/30\n",
      "398/398 [==============================] - 0s 37us/step - loss: 0.2123 - acc: 0.9196\n",
      "Epoch 13/30\n",
      "398/398 [==============================] - 0s 34us/step - loss: 0.2063 - acc: 0.9246\n",
      "Epoch 14/30\n",
      "398/398 [==============================] - 0s 31us/step - loss: 0.2005 - acc: 0.9246\n",
      "Epoch 15/30\n",
      "398/398 [==============================] - 0s 33us/step - loss: 0.1953 - acc: 0.9347\n",
      "Epoch 16/30\n",
      "398/398 [==============================] - 0s 36us/step - loss: 0.1904 - acc: 0.9372\n",
      "Epoch 17/30\n",
      "398/398 [==============================] - 0s 39us/step - loss: 0.1861 - acc: 0.9422\n",
      "Epoch 18/30\n",
      "398/398 [==============================] - 0s 34us/step - loss: 0.1817 - acc: 0.9397\n",
      "Epoch 19/30\n",
      "398/398 [==============================] - 0s 34us/step - loss: 0.1778 - acc: 0.9447\n",
      "Epoch 20/30\n",
      "398/398 [==============================] - 0s 35us/step - loss: 0.1739 - acc: 0.9447\n",
      "Epoch 21/30\n",
      "398/398 [==============================] - 0s 35us/step - loss: 0.1703 - acc: 0.9472\n",
      "Epoch 22/30\n",
      "398/398 [==============================] - 0s 35us/step - loss: 0.1671 - acc: 0.9472\n",
      "Epoch 23/30\n",
      "398/398 [==============================] - 0s 39us/step - loss: 0.1638 - acc: 0.9472\n",
      "Epoch 24/30\n",
      "398/398 [==============================] - 0s 35us/step - loss: 0.1609 - acc: 0.9472\n",
      "Epoch 25/30\n",
      "398/398 [==============================] - 0s 35us/step - loss: 0.1580 - acc: 0.9497\n",
      "Epoch 26/30\n",
      "398/398 [==============================] - 0s 36us/step - loss: 0.1554 - acc: 0.9472\n",
      "Epoch 27/30\n",
      "398/398 [==============================] - 0s 36us/step - loss: 0.1529 - acc: 0.9497\n",
      "Epoch 28/30\n",
      "398/398 [==============================] - 0s 38us/step - loss: 0.1506 - acc: 0.9497\n",
      "Epoch 29/30\n",
      "398/398 [==============================] - 0s 37us/step - loss: 0.1482 - acc: 0.9497\n",
      "Epoch 30/30\n",
      "398/398 [==============================] - 0s 34us/step - loss: 0.1457 - acc: 0.9497\n"
     ]
    },
    {
     "data": {
      "text/plain": [
       "<keras.callbacks.History at 0x1a260575c0>"
      ]
     },
     "execution_count": 13,
     "metadata": {},
     "output_type": "execute_result"
    }
   ],
   "source": [
    "X = breast_cancer.drop('diagnosis',axis=1).values\n",
    "Y = breast_cancer['diagnosis'].values\n",
    "\n",
    "X_train, X_test, Y_train, Y_test = train_test_split(X,Y, test_size=0.3, random_state=0)\n",
    "\n",
    "le = LabelEncoder()\n",
    "Y_train = le.fit_transform(Y_train)\n",
    "Y_test = le.transform(Y_test)\n",
    "\n",
    "ss = StandardScaler()\n",
    "X_train = ss.fit_transform(X_train)\n",
    "X_test = ss.transform(X_test)\n",
    "\n",
    "model = Sequential()\n",
    "model.add(Dense(1, input_dim=X_train.shape[1], activation=\"sigmoid\"))\n",
    "optimizer = SGD()\n",
    "model.compile(optimizer=optimizer, loss='binary_crossentropy', metrics=['accuracy'])\n",
    "\n",
    "model.fit(X_train, Y_train, epochs=30)"
   ]
  },
  {
   "cell_type": "markdown",
   "metadata": {},
   "source": [
    "Verifichiamo il modello utilizzando sempre <span style=\"font-family: Monaco\">accuracy</span>\n",
    " e <span style=\"font-family: Monaco\">loss</span>"
   ]
  },
  {
   "cell_type": "code",
   "execution_count": 14,
   "metadata": {},
   "outputs": [
    {
     "name": "stdout",
     "output_type": "stream",
     "text": [
      "171/171 [==============================] - 0s 221us/step\n",
      "Loss sul test set: 0.1623\n",
      "Accuracy sul test set: 0.9357\n"
     ]
    }
   ],
   "source": [
    "loss, acc = model.evaluate(X_test, Y_test)\n",
    "print(\"Loss sul test set: %.4f\" % loss)\n",
    "print(\"Accuracy sul test set: %.4f\" % acc)"
   ]
  },
  {
   "cell_type": "markdown",
   "metadata": {},
   "source": [
    "Avendo più informazioni a disposizione, il modello addestrato con tutte le proprietà è notevolmente migliore."
   ]
  },
  {
   "cell_type": "markdown",
   "metadata": {},
   "source": [
    "### Regolarizzare la regressione logistica\n",
    "Hai già utilizzato la regolarizzazione sulla tua regressione logistica senza saperlo, infatti si controlla utilizzando i seguenti parametri:\n",
    "\n",
    "* **<span style=\"font-family: Monaco\">penalty</span>**: tipo di regolarizzazione da utilizzare, i possibi valori sono 'l1' e 'l2', il valore di default è 'l2'\n",
    "* **<span style=\"font-family: Monaco\">C</span>**: è l'inversa del parametro di regolarizzazione lambda (o alpha), un valore maggiore ridurrà l'intensità della regolarizzazione, il valore di default è 1.0.\n",
    "\n",
    "Dato i valori di default, non specificando questi parametri la regressione logistica utilizzerà la regolarizzazione l2 con un lambda di 1.0."
   ]
  },
  {
   "cell_type": "code",
   "execution_count": null,
   "metadata": {},
   "outputs": [],
   "source": [
    "#lr = LogisticRegression(penalty='l2', C=0.001) # utilizziamo la regolarizzazione l2 in maniera intensa\n",
    "#lr = LogisticRegression(penalty='l1', C=10.) # utilizziamo la regolarizzazione l1 in maniera debole\n",
    "lr.fit(X_train, Y_train)"
   ]
  }
 ],
 "metadata": {
  "kernelspec": {
   "display_name": "Python 3",
   "language": "python",
   "name": "python3"
  },
  "language_info": {
   "codemirror_mode": {
    "name": "ipython",
    "version": 3
   },
   "file_extension": ".py",
   "mimetype": "text/x-python",
   "name": "python",
   "nbconvert_exporter": "python",
   "pygments_lexer": "ipython3",
   "version": "3.6.5"
  }
 },
 "nbformat": 4,
 "nbformat_minor": 2
}
