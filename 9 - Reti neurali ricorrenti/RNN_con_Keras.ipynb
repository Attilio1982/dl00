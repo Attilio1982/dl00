{
  "nbformat": 4,
  "nbformat_minor": 0,
  "metadata": {
    "colab": {
      "name": "RNN con Keras.ipynb",
      "version": "0.3.2",
      "provenance": []
    },
    "kernelspec": {
      "name": "python3",
      "display_name": "Python 3"
    },
    "accelerator": "GPU"
  },
  "cells": [
    {
      "metadata": {
        "id": "FQO8Jse2Ouqe",
        "colab_type": "text"
      },
      "cell_type": "markdown",
      "source": [
        "### RNN e Word Embedding con Keras\n",
        "Le reti neurali ricorrenti (RNNs - Recurrent Neural Networks) sono un'architettura di reti neurali artificiali che mantenedo una memoria interna ci permettono di analizzare sequenze temporale di dati.\n",
        "<br><br>\n",
        "In questo costruiremo una rete neurale ricorrente per un problema di sentiment analysis, utilizzando sempre il dataset l'Internet Movie Database.\n",
        "<br><br>\n",
        "Carichiamo i moduli che ci serviranno."
      ]
    },
    {
      "metadata": {
        "id": "Rm4MbdwhuDWw",
        "colab_type": "code",
        "colab": {}
      },
      "cell_type": "code",
      "source": [
        "import numpy as np\n",
        "import matplotlib.pyplot as plt\n",
        "\n",
        "from keras.utils import to_categorical\n",
        "\n",
        "from keras.models import Sequential\n",
        "from keras.layers import Dense"
      ],
      "execution_count": 0,
      "outputs": []
    },
    {
      "metadata": {
        "id": "HZycdrxbQDlR",
        "colab_type": "text"
      },
      "cell_type": "markdown",
      "source": [
        "## Scarichiamo il dataset\n",
        "Utilizziamo Keras per caricare l'imdb dataset, limitandolo alle 10000 parole più comuni."
      ]
    },
    {
      "metadata": {
        "id": "L62nyM6MukfQ",
        "colab_type": "code",
        "outputId": "44694c02-5ef2-48ba-878a-e3f90eecbbe9",
        "colab": {
          "base_uri": "https://localhost:8080/",
          "height": 51
        }
      },
      "cell_type": "code",
      "source": [
        "from keras.datasets import imdb \n",
        "\n",
        "num_words = 10000\n",
        "\n",
        "(X_train, y_train), (X_test, y_test) = imdb.load_data(num_words=num_words)\n",
        "\n",
        "print(\"Numero di esempi nel train set: %d\" % len(X_train))\n",
        "print(\"Numero di esempi nel test set: %d\" % len(X_test))"
      ],
      "execution_count": 3,
      "outputs": [
        {
          "output_type": "stream",
          "text": [
            "Numero di esempi nel train set: 25000\n",
            "Numero di esempi nel test set: 25000\n"
          ],
          "name": "stdout"
        }
      ]
    },
    {
      "metadata": {
        "id": "l-bczOoCQX7S",
        "colab_type": "text"
      },
      "cell_type": "markdown",
      "source": [
        "## Preprocessiamo i dati\n",
        "Per rappresentare le nostre sequenze utilizzeremo il Word Embedding, che va aggiunto come strato iniziale della nostra rete neurale.\n",
        "Le recensioni all'interno del corpus di testo hanno ovviamente lunghezza differente\n"
      ]
    },
    {
      "metadata": {
        "id": "1H8r5LCZVBRT",
        "colab_type": "code",
        "outputId": "11a98b1f-bc37-4ea8-b293-a7abc176f29d",
        "colab": {
          "base_uri": "https://localhost:8080/",
          "height": 51
        }
      },
      "cell_type": "code",
      "source": [
        "longest_review = max(X_train,key=len)\n",
        "shortest_review = min(X_train,key=len)\n",
        "\n",
        "print(\"La review più lunga ha %d parole\" % len(longest_review))\n",
        "print(\"La review più corta ha %d parole\" % len(shortest_review))"
      ],
      "execution_count": 4,
      "outputs": [
        {
          "output_type": "stream",
          "text": [
            "La review più lunga ha 2494 parole\n",
            "La review più corta ha 11 parole\n"
          ],
          "name": "stdout"
        }
      ]
    },
    {
      "metadata": {
        "id": "JSd0oDGQbVzc",
        "colab_type": "text"
      },
      "cell_type": "markdown",
      "source": [
        "trochiamole dopo 100 parole utilizzando la funzione pad_sequence di keras. Se una recensione ha meno di 100 parole verranno aggiunti una serie di zeri al termine per portarla alla lunghezza corretta."
      ]
    },
    {
      "metadata": {
        "id": "c9QQd_iA0Fir",
        "colab_type": "code",
        "outputId": "2f1e865d-9682-4d94-cc4d-444435181dc6",
        "colab": {
          "base_uri": "https://localhost:8080/",
          "height": 34
        }
      },
      "cell_type": "code",
      "source": [
        "from keras.preprocessing.sequence import pad_sequences\n",
        "\n",
        "maxlen = 50\n",
        "\n",
        "X_train = pad_sequences(X_train, maxlen = maxlen)\n",
        "X_test = pad_sequences(X_test, maxlen = maxlen)\n",
        "\n",
        "X_train.shape"
      ],
      "execution_count": 7,
      "outputs": [
        {
          "output_type": "execute_result",
          "data": {
            "text/plain": [
              "(25000, 50)"
            ]
          },
          "metadata": {
            "tags": []
          },
          "execution_count": 7
        }
      ]
    },
    {
      "metadata": {
        "id": "tN2k7t6nSS0o",
        "colab_type": "text"
      },
      "cell_type": "markdown",
      "source": [
        "## Creiamo il modello\n",
        "Il primo strato del nostro modello eseguirà il Word Embedding. Il Word embedding è un modello che ci permette di generare una serie di vettori (embedding vectors) ognuno dei quali quantifica una caratteristica delle parole. Questo tipo di rappresentazione che tiene conto di relazioni e dipendenze tra le parole è un ottimo input per una RNN.\n",
        "<br><br>\n",
        "La classe Embedding di Keras ha due parametri:\n",
        " - 1: Il numero di parole nel nostro dizionario\n",
        " - 2: Il numero di embedding vectors da generare\n",
        " \n",
        " \n",
        "Per aggiungere lo strato ricorrente alla nostra rete possiamo usare la classe SimpleRNN.\n",
        " "
      ]
    },
    {
      "metadata": {
        "id": "Ntgn386tv-kC",
        "colab_type": "code",
        "outputId": "2c2f67f6-8aa0-4ead-9468-b882b4d0b04f",
        "colab": {
          "base_uri": "https://localhost:8080/",
          "height": 240
        }
      },
      "cell_type": "code",
      "source": [
        "from keras.layers import Embedding, SimpleRNN\n",
        "\n",
        "model = Sequential()\n",
        "\n",
        "model.add(Embedding(num_words, 50))\n",
        "model.add(SimpleRNN(32))\n",
        "model.add(Dense(1, activation='sigmoid'))\n",
        "\n",
        "model.summary()"
      ],
      "execution_count": 8,
      "outputs": [
        {
          "output_type": "stream",
          "text": [
            "_________________________________________________________________\n",
            "Layer (type)                 Output Shape              Param #   \n",
            "=================================================================\n",
            "embedding_2 (Embedding)      (None, None, 50)          500000    \n",
            "_________________________________________________________________\n",
            "simple_rnn_2 (SimpleRNN)     (None, 32)                2656      \n",
            "_________________________________________________________________\n",
            "dense_2 (Dense)              (None, 1)                 33        \n",
            "=================================================================\n",
            "Total params: 502,689\n",
            "Trainable params: 502,689\n",
            "Non-trainable params: 0\n",
            "_________________________________________________________________\n"
          ],
          "name": "stdout"
        }
      ]
    },
    {
      "metadata": {
        "id": "cGiEUcX9VSyC",
        "colab_type": "text"
      },
      "cell_type": "markdown",
      "source": [
        "Compiliamo il modello ed eseguiamo l'addestramento per sole 10 epoche.\n",
        "<br>\n",
        "Come algoritmo di ottimizzazione per reti neurali ricorrenti Keras consiglia di utilizzare **RMSprop**, come puoi leggere [qui](https://keras.io/optimizers/). Non sono riuscito a trovare evidenze sperimentali per questa affermazione (e non sono l'unico, come puoi vedere [qui](https://github.com/keras-team/keras/pull/12469) e [qui](https://github.com/keras-team/keras/issues/12460)), ma seguiamo il consiglio di Keras e utilizziamo **RMSprop**. "
      ]
    },
    {
      "metadata": {
        "id": "7HNvO2UlxqZU",
        "colab_type": "code",
        "outputId": "eec42c62-d1f3-4ef7-85f9-b46bf277ed45",
        "colab": {
          "base_uri": "https://localhost:8080/",
          "height": 483
        }
      },
      "cell_type": "code",
      "source": [
        "model.compile(loss='binary_crossentropy', optimizer='rmsprop', metrics=['accuracy'])\n",
        "model.fit(X_train, y_train, batch_size=512, validation_split=0.2, epochs=10)\n",
        "model.evaluate(X_test, y_test)"
      ],
      "execution_count": 9,
      "outputs": [
        {
          "output_type": "stream",
          "text": [
            "WARNING:tensorflow:From /usr/local/lib/python3.6/dist-packages/tensorflow/python/ops/math_ops.py:3066: to_int32 (from tensorflow.python.ops.math_ops) is deprecated and will be removed in a future version.\n",
            "Instructions for updating:\n",
            "Use tf.cast instead.\n",
            "Train on 20000 samples, validate on 5000 samples\n",
            "Epoch 1/10\n",
            "20000/20000 [==============================] - 2s 116us/step - loss: 0.5922 - acc: 0.6806 - val_loss: 0.4939 - val_acc: 0.7678\n",
            "Epoch 2/10\n",
            "20000/20000 [==============================] - 1s 65us/step - loss: 0.4271 - acc: 0.8145 - val_loss: 0.4715 - val_acc: 0.7830\n",
            "Epoch 3/10\n",
            "20000/20000 [==============================] - 1s 65us/step - loss: 0.3411 - acc: 0.8612 - val_loss: 0.4714 - val_acc: 0.7732\n",
            "Epoch 4/10\n",
            "20000/20000 [==============================] - 1s 64us/step - loss: 0.2675 - acc: 0.8994 - val_loss: 0.5078 - val_acc: 0.7468\n",
            "Epoch 5/10\n",
            "20000/20000 [==============================] - 1s 66us/step - loss: 0.2041 - acc: 0.9289 - val_loss: 0.5309 - val_acc: 0.7566\n",
            "Epoch 6/10\n",
            "20000/20000 [==============================] - 1s 65us/step - loss: 0.1451 - acc: 0.9539 - val_loss: 0.5605 - val_acc: 0.7560\n",
            "Epoch 7/10\n",
            "20000/20000 [==============================] - 1s 65us/step - loss: 0.0934 - acc: 0.9760 - val_loss: 0.5523 - val_acc: 0.7776\n",
            "Epoch 8/10\n",
            "20000/20000 [==============================] - 1s 65us/step - loss: 0.0610 - acc: 0.9855 - val_loss: 0.6052 - val_acc: 0.7694\n",
            "Epoch 9/10\n",
            "20000/20000 [==============================] - 2s 78us/step - loss: 0.0355 - acc: 0.9936 - val_loss: 0.8073 - val_acc: 0.7010\n",
            "Epoch 10/10\n",
            "20000/20000 [==============================] - 1s 65us/step - loss: 0.0267 - acc: 0.9940 - val_loss: 0.7326 - val_acc: 0.7792\n",
            "25000/25000 [==============================] - 6s 248us/step\n"
          ],
          "name": "stdout"
        },
        {
          "output_type": "execute_result",
          "data": {
            "text/plain": [
              "[0.7293543283653259, 0.77716]"
            ]
          },
          "metadata": {
            "tags": []
          },
          "execution_count": 9
        }
      ]
    },
    {
      "metadata": {
        "id": "e38UJg0MOV5D",
        "colab_type": "text"
      },
      "cell_type": "markdown",
      "source": [
        "I risultati della nostra rette ricorrente sono scarsi se confrontati a quelli che abbiamo ottenuto in precedenza con un semplice percettrone multistrato. Inoltre  il modello soffre di un problema di un evidente problema di overfitting sul set di addestramento.\n",
        "<br>\n",
        "Le reti ricorrenti soffrono del problema della **scomparsa del gradiente** tra le diverse esecuzioni della rete e questo le rende inadatte per sequenze di dati troppo lunghe.\n",
        "<br><br>\n",
        "In questi casi la soluzione migliore è utilizzare le **Long short-term memory** network."
      ]
    }
  ]
}