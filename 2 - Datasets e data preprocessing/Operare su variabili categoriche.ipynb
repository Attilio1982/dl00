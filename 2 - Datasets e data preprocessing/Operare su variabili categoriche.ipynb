{
  "nbformat": 4,
  "nbformat_minor": 0,
  "metadata": {
    "colab": {
      "name": "Operare su variabili categoriche.ipynb",
      "provenance": [],
      "include_colab_link": true
    },
    "kernelspec": {
      "display_name": "Python 3",
      "language": "python",
      "name": "python3"
    }
  },
  "cells": [
    {
      "cell_type": "markdown",
      "metadata": {
        "id": "view-in-github",
        "colab_type": "text"
      },
      "source": [
        "<a href=\"https://colab.research.google.com/github/ProfAI/dl00/blob/master/2%20-%20Datasets%20e%20data%20preprocessing/Operare%20su%20variabili%20categoriche.ipynb\" target=\"_parent\"><img src=\"https://colab.research.google.com/assets/colab-badge.svg\" alt=\"Open In Colab\"/></a>"
      ]
    },
    {
      "cell_type": "markdown",
      "metadata": {
        "id": "e4__to0e8oV9"
      },
      "source": [
        "# Operare su dati qualitativi\n",
        "\n",
        "All'interno di un dataset strutturato puoi trovare due tipologie di dati\n",
        "<ul>\n",
        "    <li>**Variabili quantitative continue:** numeri che indicano una quantità</li>\n",
        "    <li>**Variabili qualiative ordinate (ordinali):** numeri o stringhe che rappresentano delle classi che possono essere ordinate</li>\n",
        "    <li>**Variabili qualitative sconnesse (nominali):** numeri e stringhe rappresentanti classi che non hanno un ordine</li>\n",
        "</ul>\n",
        "\n",
        "<img src=\"https://github.com/ProfAI/ml00/blob/master/2%20-%20Datasets%20e%20data%20preprocessing/res/variables.png?raw=1\" width=\"350px\">\n",
        "\n",
        "Le variabili qualitative possono essere rappresentate anche da stringhe, in questo caso bisogna codificarle all'interno di numeri per poterle usare come input per un algoritmo di machine learning.\n",
        "Cominciamo caricando il dataset di esempio, questo contiene un elenco di maglie con le seguenti caratteristiche: prezzo, taglie e colore."
      ]
    },
    {
      "cell_type": "code",
      "metadata": {
        "id": "eOWQ9lS-8oV-",
        "colab": {
          "base_uri": "https://localhost:8080/",
          "height": 195
        },
        "outputId": "ec151580-3ecd-41ff-c22c-1a0f4dd40d42"
      },
      "source": [
        "import pandas as pd\n",
        "\n",
        "shirts = pd.read_csv(\"https://raw.githubusercontent.com/ProfAI/ml00/master/2%20-%20Datasets%20e%20data%20preprocessing/data/shirts.csv\",index_col=0)\n",
        "shirts.head()"
      ],
      "execution_count": 1,
      "outputs": [
        {
          "output_type": "execute_result",
          "data": {
            "text/html": [
              "<div>\n",
              "<style scoped>\n",
              "    .dataframe tbody tr th:only-of-type {\n",
              "        vertical-align: middle;\n",
              "    }\n",
              "\n",
              "    .dataframe tbody tr th {\n",
              "        vertical-align: top;\n",
              "    }\n",
              "\n",
              "    .dataframe thead th {\n",
              "        text-align: right;\n",
              "    }\n",
              "</style>\n",
              "<table border=\"1\" class=\"dataframe\">\n",
              "  <thead>\n",
              "    <tr style=\"text-align: right;\">\n",
              "      <th></th>\n",
              "      <th>taglia</th>\n",
              "      <th>colore</th>\n",
              "      <th>prezzo</th>\n",
              "    </tr>\n",
              "  </thead>\n",
              "  <tbody>\n",
              "    <tr>\n",
              "      <th>0</th>\n",
              "      <td>S</td>\n",
              "      <td>bianco</td>\n",
              "      <td>4.99</td>\n",
              "    </tr>\n",
              "    <tr>\n",
              "      <th>1</th>\n",
              "      <td>M</td>\n",
              "      <td>bianco</td>\n",
              "      <td>19.99</td>\n",
              "    </tr>\n",
              "    <tr>\n",
              "      <th>2</th>\n",
              "      <td>XL</td>\n",
              "      <td>bianco</td>\n",
              "      <td>12.49</td>\n",
              "    </tr>\n",
              "    <tr>\n",
              "      <th>3</th>\n",
              "      <td>XL</td>\n",
              "      <td>bianco</td>\n",
              "      <td>14.99</td>\n",
              "    </tr>\n",
              "    <tr>\n",
              "      <th>4</th>\n",
              "      <td>S</td>\n",
              "      <td>bianco</td>\n",
              "      <td>14.99</td>\n",
              "    </tr>\n",
              "  </tbody>\n",
              "</table>\n",
              "</div>"
            ],
            "text/plain": [
              "  taglia  colore  prezzo\n",
              "0      S  bianco    4.99\n",
              "1      M  bianco   19.99\n",
              "2     XL  bianco   12.49\n",
              "3     XL  bianco   14.99\n",
              "4      S  bianco   14.99"
            ]
          },
          "metadata": {
            "tags": []
          },
          "execution_count": 1
        }
      ]
    },
    {
      "cell_type": "markdown",
      "metadata": {
        "id": "A1hUNGzP8oWD"
      },
      "source": [
        "**NOTA BENE**<br>\n",
        "In inglese le variabili qualitative sono conosciute come *categorical variables (ordinal e nominal)*."
      ]
    },
    {
      "cell_type": "markdown",
      "metadata": {
        "id": "rmFUvWem8oWE"
      },
      "source": [
        "## Mapping delle caratteristiche ordinali\n",
        "Le variabili qualitative ordinate (ordinali) possono essere ordinate pertanto è possibile rappresentarle come una lista di numeri che rappresentano la posizione dell'elemento all'interno della lista ordinata.\n",
        "Una funzione non può stimare la posizione di un elemento nella lista, quindi bisogna definirla manualmente con un dizionario."
      ]
    },
    {
      "cell_type": "markdown",
      "metadata": {
        "id": "AEyvm7gW8oWF"
      },
      "source": [
        "### Numpy e Scikit-learn\n",
        "Utilizzando il metodo vectorize di numpy possiamo creare una funzione ottimizzata per operare sugli array, questa funzione ci permetterà di sostituire i labels con i numeri corrispondenti definiti nel dizionario."
      ]
    },
    {
      "cell_type": "code",
      "metadata": {
        "id": "_8w14Gjt8oWG",
        "colab": {
          "base_uri": "https://localhost:8080/"
        },
        "outputId": "67a64d35-f857-4a43-a58f-c6b1f78156c1"
      },
      "source": [
        "import numpy as np\n",
        "\n",
        "shirts = pd.read_csv(\"https://raw.githubusercontent.com/ProfAI/ml00/master/2%20-%20Datasets%20e%20data%20preprocessing/data/shirts.csv\",index_col=0)\n",
        "X = shirts.values\n",
        "\n",
        "size_mapping = {\"S\":0,\"M\":1,\"L\":2,\"XL\":3} #dizionario che ordina le misure\n",
        "fmap = np.vectorize(lambda t:size_mapping[t])\n",
        "X[:,0] = fmap(X[:,0])\n",
        "X[:5]"
      ],
      "execution_count": 2,
      "outputs": [
        {
          "output_type": "execute_result",
          "data": {
            "text/plain": [
              "array([[0, 'bianco', 4.99],\n",
              "       [1, 'bianco', 19.99],\n",
              "       [3, 'bianco', 12.49],\n",
              "       [3, 'bianco', 14.99],\n",
              "       [0, 'bianco', 14.99]], dtype=object)"
            ]
          },
          "metadata": {
            "tags": []
          },
          "execution_count": 2
        }
      ]
    },
    {
      "cell_type": "markdown",
      "metadata": {
        "id": "Kv8GM_0Z8oWJ"
      },
      "source": [
        "### Pandas\n",
        "Per sostituire labels con i numeri nel DataFrame possiamo usare il metodo map."
      ]
    },
    {
      "cell_type": "code",
      "metadata": {
        "id": "TRJU9Yv78oWK",
        "colab": {
          "base_uri": "https://localhost:8080/",
          "height": 195
        },
        "outputId": "6a52fa22-9b20-45fe-ed0c-fe483f379342"
      },
      "source": [
        "size_mapping = {\"S\":0,\"M\":1,\"L\":2,\"XL\":3} #dizionario che ordina le misure\n",
        "shirts[\"taglia\"] = shirts[\"taglia\"].map(size_mapping) #mappiamo la misura con il numero corrispondente\n",
        "shirts.head()"
      ],
      "execution_count": 3,
      "outputs": [
        {
          "output_type": "execute_result",
          "data": {
            "text/html": [
              "<div>\n",
              "<style scoped>\n",
              "    .dataframe tbody tr th:only-of-type {\n",
              "        vertical-align: middle;\n",
              "    }\n",
              "\n",
              "    .dataframe tbody tr th {\n",
              "        vertical-align: top;\n",
              "    }\n",
              "\n",
              "    .dataframe thead th {\n",
              "        text-align: right;\n",
              "    }\n",
              "</style>\n",
              "<table border=\"1\" class=\"dataframe\">\n",
              "  <thead>\n",
              "    <tr style=\"text-align: right;\">\n",
              "      <th></th>\n",
              "      <th>taglia</th>\n",
              "      <th>colore</th>\n",
              "      <th>prezzo</th>\n",
              "    </tr>\n",
              "  </thead>\n",
              "  <tbody>\n",
              "    <tr>\n",
              "      <th>0</th>\n",
              "      <td>0</td>\n",
              "      <td>bianco</td>\n",
              "      <td>4.99</td>\n",
              "    </tr>\n",
              "    <tr>\n",
              "      <th>1</th>\n",
              "      <td>1</td>\n",
              "      <td>bianco</td>\n",
              "      <td>19.99</td>\n",
              "    </tr>\n",
              "    <tr>\n",
              "      <th>2</th>\n",
              "      <td>3</td>\n",
              "      <td>bianco</td>\n",
              "      <td>12.49</td>\n",
              "    </tr>\n",
              "    <tr>\n",
              "      <th>3</th>\n",
              "      <td>3</td>\n",
              "      <td>bianco</td>\n",
              "      <td>14.99</td>\n",
              "    </tr>\n",
              "    <tr>\n",
              "      <th>4</th>\n",
              "      <td>0</td>\n",
              "      <td>bianco</td>\n",
              "      <td>14.99</td>\n",
              "    </tr>\n",
              "  </tbody>\n",
              "</table>\n",
              "</div>"
            ],
            "text/plain": [
              "   taglia  colore  prezzo\n",
              "0       0  bianco    4.99\n",
              "1       1  bianco   19.99\n",
              "2       3  bianco   12.49\n",
              "3       3  bianco   14.99\n",
              "4       0  bianco   14.99"
            ]
          },
          "metadata": {
            "tags": []
          },
          "execution_count": 3
        }
      ]
    },
    {
      "cell_type": "markdown",
      "metadata": {
        "id": "gwVG4Ai_8oWO"
      },
      "source": [
        "# One-hot encoding\n",
        "Le variabili qualitative sconnesse (nominali) non possono essere mappate come le ordinali, poiché non presentano un ordine interno e quindi è sbagliato assegnare un numero univoco ad ognuna.\n",
        "Il metodo utilizzato in questo caso è il One-hot encoding, e consiste nel creare una nuova colonna per ogni classe che assumerà il valore 1 se l'esempio appartiene alla classe, 0 nell'altro caso, queste variabili sono chiamate **variabili di comodo (dummy variables)**\n",
        "<img src=\"https://github.com/ProfAI/ml00/blob/master/2%20-%20Datasets%20e%20data%20preprocessing/res/onehot.png?raw=1\" width=\"500px\">"
      ]
    },
    {
      "cell_type": "markdown",
      "metadata": {
        "id": "V_iPdBAz8oWO"
      },
      "source": [
        "### Numpy e Scikit-learn\n",
        "Se il nostro dataset è un array numpy possiamo utilizzare le classi di scikit-learn LabelEncoder e OneHotEncoder"
      ]
    },
    {
      "cell_type": "code",
      "metadata": {
        "id": "_AT3khFB8oWP",
        "colab": {
          "base_uri": "https://localhost:8080/",
          "height": 238
        },
        "outputId": "5dd4eab1-842a-4e43-be1d-9283a0161303"
      },
      "source": [
        "from sklearn.preprocessing import LabelEncoder\n",
        "from sklearn.preprocessing import OneHotEncoder\n",
        "\n",
        "X = shirts.values # Otteniamo l'array numpy corrispondente al DataFrame\n",
        "\n",
        "le = LabelEncoder() # Per prima cosa mappiamo le classi in numeri \n",
        "X[:,1] = le.fit_transform(X[:,1]) # eseguiamo il mapping solo sulla colonna del colore (X[:,1])\n",
        "enc = OneHotEncoder(categorical_features=[1]) # Dopo eseguiamo il one hot encoding, \n",
        "                                              # specifichiamo di eseguirlo sulla colonna del colore con l'attributo categorical_features \n",
        "X_sparse = enc.fit_transform(X) # Il risultato sarà una matrice sparsa\n",
        "X = X_sparse.toarray() # riconvertiamo la matrice sparsa in un array numpy\n",
        "X[:5] #le prime tre colonne rappresentano la classe-colore (bianco, rosso e verde), la quarta la taglia e la quinta il prezzo"
      ],
      "execution_count": 4,
      "outputs": [
        {
          "output_type": "error",
          "ename": "TypeError",
          "evalue": "ignored",
          "traceback": [
            "\u001b[0;31m---------------------------------------------------------------------------\u001b[0m",
            "\u001b[0;31mTypeError\u001b[0m                                 Traceback (most recent call last)",
            "\u001b[0;32m<ipython-input-4-6e7faca730de>\u001b[0m in \u001b[0;36m<module>\u001b[0;34m()\u001b[0m\n\u001b[1;32m      6\u001b[0m \u001b[0mle\u001b[0m \u001b[0;34m=\u001b[0m \u001b[0mLabelEncoder\u001b[0m\u001b[0;34m(\u001b[0m\u001b[0;34m)\u001b[0m \u001b[0;31m# Per prima cosa mappiamo le classi in numeri\u001b[0m\u001b[0;34m\u001b[0m\u001b[0;34m\u001b[0m\u001b[0m\n\u001b[1;32m      7\u001b[0m \u001b[0mX\u001b[0m\u001b[0;34m[\u001b[0m\u001b[0;34m:\u001b[0m\u001b[0;34m,\u001b[0m\u001b[0;36m1\u001b[0m\u001b[0;34m]\u001b[0m \u001b[0;34m=\u001b[0m \u001b[0mle\u001b[0m\u001b[0;34m.\u001b[0m\u001b[0mfit_transform\u001b[0m\u001b[0;34m(\u001b[0m\u001b[0mX\u001b[0m\u001b[0;34m[\u001b[0m\u001b[0;34m:\u001b[0m\u001b[0;34m,\u001b[0m\u001b[0;36m1\u001b[0m\u001b[0;34m]\u001b[0m\u001b[0;34m)\u001b[0m \u001b[0;31m# eseguiamo il mapping solo sulla colonna del colore (X[:,1])\u001b[0m\u001b[0;34m\u001b[0m\u001b[0;34m\u001b[0m\u001b[0m\n\u001b[0;32m----> 8\u001b[0;31m \u001b[0menc\u001b[0m \u001b[0;34m=\u001b[0m \u001b[0mOneHotEncoder\u001b[0m\u001b[0;34m(\u001b[0m\u001b[0mcategorical_features\u001b[0m\u001b[0;34m=\u001b[0m\u001b[0;34m[\u001b[0m\u001b[0;36m1\u001b[0m\u001b[0;34m]\u001b[0m\u001b[0;34m)\u001b[0m \u001b[0;31m# Dopo eseguiamo il one hot encoding,\u001b[0m\u001b[0;34m\u001b[0m\u001b[0;34m\u001b[0m\u001b[0m\n\u001b[0m\u001b[1;32m      9\u001b[0m                                               \u001b[0;31m# specifichiamo di eseguirlo sulla colonna del colore con l'attributo categorical_features\u001b[0m\u001b[0;34m\u001b[0m\u001b[0;34m\u001b[0m\u001b[0;34m\u001b[0m\u001b[0m\n\u001b[1;32m     10\u001b[0m \u001b[0mX_sparse\u001b[0m \u001b[0;34m=\u001b[0m \u001b[0menc\u001b[0m\u001b[0;34m.\u001b[0m\u001b[0mfit_transform\u001b[0m\u001b[0;34m(\u001b[0m\u001b[0mX\u001b[0m\u001b[0;34m)\u001b[0m \u001b[0;31m# Il risultato sarà una matrice sparsa\u001b[0m\u001b[0;34m\u001b[0m\u001b[0;34m\u001b[0m\u001b[0m\n",
            "\u001b[0;31mTypeError\u001b[0m: __init__() got an unexpected keyword argument 'categorical_features'"
          ]
        }
      ]
    },
    {
      "cell_type": "markdown",
      "metadata": {
        "id": "dEpcjoYE9C1D"
      },
      "source": [
        "### UPDATE Aprile 2021\n",
        "Nella versione 0.20 di scikit-learn il parametro *caterogical_features* della classe *OneHotEncoder* è stato deprecato e verrà rimosso nella versione 0.22,  inoltre non è più necessario usare il LabelEncoder prima del OneHotEncoder. \n",
        "Possiamo usare la classe [ColumnTransformer](https://scikit-learn.org/stable/modules/generated/sklearn.compose.ColumnTransformer.html) che applica le trasformazioni solo a determiante colonne. Passiamo al ColumnTransformer una lista di tuple con dentro:\n",
        " - un alias per la trasformazione scelto da noi\n",
        " - La trasformazione da applicare\n",
        " - Una lista con gli indici delle colonne a cui applicare la trasformazione\n",
        " \n",
        " \n",
        "Utilizzando il parametro *remainder* possiamo definire come comportarci con le colonne che non sono state trasformate, il valore di default è \"drop\" che le rimuove, impostandolo a \"passthrough\" le aggiungeremo alla matrice senza applicare alcuna trasformazione."
      ]
    },
    {
      "cell_type": "code",
      "metadata": {
        "id": "xybQKi529c0p",
        "colab": {
          "base_uri": "https://localhost:8080/"
        },
        "outputId": "29d80f25-18e8-4021-f367-3b81c7ea0abc"
      },
      "source": [
        "from sklearn.preprocessing import LabelEncoder\n",
        "from sklearn.preprocessing import OneHotEncoder\n",
        "from sklearn.compose import ColumnTransformer\n",
        "\n",
        "\n",
        "X = shirts.values \n",
        "transf = ColumnTransformer([('ohe', OneHotEncoder(), [1])], remainder=\"passthrough\")\n",
        "\n",
        "X = transf.fit_transform(X)\n",
        "\n",
        "X[:5] "
      ],
      "execution_count": 5,
      "outputs": [
        {
          "output_type": "execute_result",
          "data": {
            "text/plain": [
              "array([[1.0, 0.0, 0.0, 0, 4.99],\n",
              "       [1.0, 0.0, 0.0, 1, 19.99],\n",
              "       [1.0, 0.0, 0.0, 3, 12.49],\n",
              "       [1.0, 0.0, 0.0, 3, 14.99],\n",
              "       [1.0, 0.0, 0.0, 0, 14.99]], dtype=object)"
            ]
          },
          "metadata": {
            "tags": []
          },
          "execution_count": 5
        }
      ]
    },
    {
      "cell_type": "markdown",
      "metadata": {
        "id": "unAcrOPB8oWS"
      },
      "source": [
        "### Pandas\n",
        "Se invece vogliamo eseguire il one-hot encoding su un Dataframe possiamo semplicemente usare il metodo pandas get_dummies"
      ]
    },
    {
      "cell_type": "code",
      "metadata": {
        "id": "-INxQq8z8oWT",
        "colab": {
          "base_uri": "https://localhost:8080/",
          "height": 195
        },
        "outputId": "fd09cf02-9c62-4e58-bea5-4394b22be08c"
      },
      "source": [
        "shirts = pd.get_dummies(shirts,columns=[\"colore\"])\n",
        "shirts.head()"
      ],
      "execution_count": 6,
      "outputs": [
        {
          "output_type": "execute_result",
          "data": {
            "text/html": [
              "<div>\n",
              "<style scoped>\n",
              "    .dataframe tbody tr th:only-of-type {\n",
              "        vertical-align: middle;\n",
              "    }\n",
              "\n",
              "    .dataframe tbody tr th {\n",
              "        vertical-align: top;\n",
              "    }\n",
              "\n",
              "    .dataframe thead th {\n",
              "        text-align: right;\n",
              "    }\n",
              "</style>\n",
              "<table border=\"1\" class=\"dataframe\">\n",
              "  <thead>\n",
              "    <tr style=\"text-align: right;\">\n",
              "      <th></th>\n",
              "      <th>taglia</th>\n",
              "      <th>prezzo</th>\n",
              "      <th>colore_bianco</th>\n",
              "      <th>colore_rosso</th>\n",
              "      <th>colore_verde</th>\n",
              "    </tr>\n",
              "  </thead>\n",
              "  <tbody>\n",
              "    <tr>\n",
              "      <th>0</th>\n",
              "      <td>0</td>\n",
              "      <td>4.99</td>\n",
              "      <td>1</td>\n",
              "      <td>0</td>\n",
              "      <td>0</td>\n",
              "    </tr>\n",
              "    <tr>\n",
              "      <th>1</th>\n",
              "      <td>1</td>\n",
              "      <td>19.99</td>\n",
              "      <td>1</td>\n",
              "      <td>0</td>\n",
              "      <td>0</td>\n",
              "    </tr>\n",
              "    <tr>\n",
              "      <th>2</th>\n",
              "      <td>3</td>\n",
              "      <td>12.49</td>\n",
              "      <td>1</td>\n",
              "      <td>0</td>\n",
              "      <td>0</td>\n",
              "    </tr>\n",
              "    <tr>\n",
              "      <th>3</th>\n",
              "      <td>3</td>\n",
              "      <td>14.99</td>\n",
              "      <td>1</td>\n",
              "      <td>0</td>\n",
              "      <td>0</td>\n",
              "    </tr>\n",
              "    <tr>\n",
              "      <th>4</th>\n",
              "      <td>0</td>\n",
              "      <td>14.99</td>\n",
              "      <td>1</td>\n",
              "      <td>0</td>\n",
              "      <td>0</td>\n",
              "    </tr>\n",
              "  </tbody>\n",
              "</table>\n",
              "</div>"
            ],
            "text/plain": [
              "   taglia  prezzo  colore_bianco  colore_rosso  colore_verde\n",
              "0       0    4.99              1             0             0\n",
              "1       1   19.99              1             0             0\n",
              "2       3   12.49              1             0             0\n",
              "3       3   14.99              1             0             0\n",
              "4       0   14.99              1             0             0"
            ]
          },
          "metadata": {
            "tags": []
          },
          "execution_count": 6
        }
      ]
    }
  ]
}