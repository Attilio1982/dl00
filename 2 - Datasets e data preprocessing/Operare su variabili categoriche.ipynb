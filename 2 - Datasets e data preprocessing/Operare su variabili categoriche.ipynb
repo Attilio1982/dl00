{
  "nbformat": 4,
  "nbformat_minor": 0,
  "metadata": {
    "kernelspec": {
      "display_name": "Python 3",
      "language": "python",
      "name": "python3"
    },
    "language_info": {
      "codemirror_mode": {
        "name": "ipython",
        "version": 3
      },
      "file_extension": ".py",
      "mimetype": "text/x-python",
      "name": "python",
      "nbconvert_exporter": "python",
      "pygments_lexer": "ipython3",
      "version": "3.6.4"
    },
    "colab": {
      "name": "Operare su variabili categoriche.ipynb",
      "provenance": []
    }
  },
  "cells": [
    {
      "cell_type": "markdown",
      "metadata": {
        "id": "Nj6n21TSni9J",
        "colab_type": "text"
      },
      "source": [
        "# Operare su dati qualitativi\n",
        "\n",
        "All'interno di un dataset strutturato puoi trovare due tipologie di dati\n",
        "<ul>\n",
        "    <li>**Variabili quantitative continue:** numeri che indicano una quantità</li>\n",
        "    <li>**Variabili qualiative ordinate (ordinali):** numeri o stringhe che rappresentano delle classi che possono essere ordinate</li>\n",
        "    <li>**Variabili qualitative sconnesse (nominali):** numeri e stringhe rappresentanti classi che non hanno un ordine</li>\n",
        "</ul>\n",
        "\n",
        "<img src=\"https://github.com/ProfAI/dl00/blob/master/2%20-%20Datasets%20e%20data%20preprocessing/res/variables.png?raw=1\" width=\"350px\">\n",
        "\n",
        "Le variabili qualitative possono essere rappresentate anche da stringhe, in questo caso bisogna codificarle all'interno di numeri per poterle usare come input per un algoritmo di machine learning.\n",
        "Cominciamo caricando il dataset di esempio, questo contiene un elenco di maglie con le seguenti caratteristiche: prezzo, taglie e colore."
      ]
    },
    {
      "cell_type": "code",
      "metadata": {
        "id": "kYHmG7cCni9J",
        "colab_type": "code",
        "colab": {
          "base_uri": "https://localhost:8080/",
          "height": 202
        },
        "outputId": "b0234a42-7f2d-40da-ad11-dabced0836cf"
      },
      "source": [
        "import pandas as pd\n",
        "\n",
        "shirts = pd.read_csv(\"data/shirts.csv\",index_col=0)\n",
        "shirts.head()"
      ],
      "execution_count": 1,
      "outputs": [
        {
          "output_type": "execute_result",
          "data": {
            "text/html": [
              "<div>\n",
              "<style scoped>\n",
              "    .dataframe tbody tr th:only-of-type {\n",
              "        vertical-align: middle;\n",
              "    }\n",
              "\n",
              "    .dataframe tbody tr th {\n",
              "        vertical-align: top;\n",
              "    }\n",
              "\n",
              "    .dataframe thead th {\n",
              "        text-align: right;\n",
              "    }\n",
              "</style>\n",
              "<table border=\"1\" class=\"dataframe\">\n",
              "  <thead>\n",
              "    <tr style=\"text-align: right;\">\n",
              "      <th></th>\n",
              "      <th>taglia</th>\n",
              "      <th>colore</th>\n",
              "      <th>prezzo</th>\n",
              "    </tr>\n",
              "  </thead>\n",
              "  <tbody>\n",
              "    <tr>\n",
              "      <th>0</th>\n",
              "      <td>S</td>\n",
              "      <td>bianco</td>\n",
              "      <td>4.99</td>\n",
              "    </tr>\n",
              "    <tr>\n",
              "      <th>1</th>\n",
              "      <td>M</td>\n",
              "      <td>bianco</td>\n",
              "      <td>19.99</td>\n",
              "    </tr>\n",
              "    <tr>\n",
              "      <th>2</th>\n",
              "      <td>XL</td>\n",
              "      <td>bianco</td>\n",
              "      <td>12.49</td>\n",
              "    </tr>\n",
              "    <tr>\n",
              "      <th>3</th>\n",
              "      <td>XL</td>\n",
              "      <td>bianco</td>\n",
              "      <td>14.99</td>\n",
              "    </tr>\n",
              "    <tr>\n",
              "      <th>4</th>\n",
              "      <td>S</td>\n",
              "      <td>bianco</td>\n",
              "      <td>14.99</td>\n",
              "    </tr>\n",
              "  </tbody>\n",
              "</table>\n",
              "</div>"
            ],
            "text/plain": [
              "  taglia  colore  prezzo\n",
              "0      S  bianco    4.99\n",
              "1      M  bianco   19.99\n",
              "2     XL  bianco   12.49\n",
              "3     XL  bianco   14.99\n",
              "4      S  bianco   14.99"
            ]
          },
          "metadata": {
            "tags": []
          },
          "execution_count": 1
        }
      ]
    },
    {
      "cell_type": "markdown",
      "metadata": {
        "id": "QPdBeWe_ni9M",
        "colab_type": "text"
      },
      "source": [
        "**NOTA BENE**<br>\n",
        "In inglese le variabili qualitative sono conosciute come *categorical variables (ordinal e nominal)*."
      ]
    },
    {
      "cell_type": "markdown",
      "metadata": {
        "id": "O5bJNrBIni9N",
        "colab_type": "text"
      },
      "source": [
        "## Mapping delle caratteristiche ordinali\n",
        "Le variabili qualitative ordinate (ordinali) possono essere ordinate pertanto è possibile rappresentarle come una lista di numeri che rappresentano la posizione dell'elemento all'interno della lista ordinata.\n",
        "Una funzione non può stimare la posizione di un elemento nella lista, quindi bisogna definirla manualmente con un dizionario."
      ]
    },
    {
      "cell_type": "markdown",
      "metadata": {
        "id": "3HyR2864ni9N",
        "colab_type": "text"
      },
      "source": [
        "### Numpy e Scikit-learn\n",
        "Utilizzando il metodo vectorize di numpy possiamo creare una funzione ottimizzata per operare sugli array, questa funzione ci permetterà di sostituire i labels con i numeri corrispondenti definiti nel dizionario."
      ]
    },
    {
      "cell_type": "code",
      "metadata": {
        "id": "QIHcJkjfni9O",
        "colab_type": "code",
        "colab": {
          "base_uri": "https://localhost:8080/",
          "height": 107
        },
        "outputId": "3afaaac1-0cf6-4b3e-dfac-ee164d8af263"
      },
      "source": [
        "import numpy as np\n",
        "\n",
        "shirts = pd.read_csv(\"data/shirts.csv\",index_col=0)\n",
        "X = shirts.values\n",
        "\n",
        "size_mapping = {\"S\":0,\"M\":1,\"L\":2,\"XL\":3} #dizionario che ordina le misure\n",
        "fmap = np.vectorize(lambda t:size_mapping[t])\n",
        "X[:,0] = fmap(X[:,0])\n",
        "X[:5]"
      ],
      "execution_count": 18,
      "outputs": [
        {
          "output_type": "execute_result",
          "data": {
            "text/plain": [
              "array([[0, 'bianco', 4.99],\n",
              "       [1, 'bianco', 19.99],\n",
              "       [3, 'bianco', 12.49],\n",
              "       [3, 'bianco', 14.99],\n",
              "       [0, 'bianco', 14.99]], dtype=object)"
            ]
          },
          "metadata": {
            "tags": []
          },
          "execution_count": 18
        }
      ]
    },
    {
      "cell_type": "markdown",
      "metadata": {
        "id": "vqvg0lUMni9P",
        "colab_type": "text"
      },
      "source": [
        "### Pandas\n",
        "Per sostituire labels con i numeri nel DataFrame possiamo usare il metodo map."
      ]
    },
    {
      "cell_type": "code",
      "metadata": {
        "id": "rxaG_nXYni9Q",
        "colab_type": "code",
        "colab": {
          "base_uri": "https://localhost:8080/",
          "height": 202
        },
        "outputId": "76f0b36d-615f-4c68-a6fc-acb2e077b959"
      },
      "source": [
        "size_mapping = {\"S\":0,\"M\":1,\"L\":2,\"XL\":3} #dizionario che ordina le misure\n",
        "shirts[\"taglia\"] = shirts[\"taglia\"].map(size_mapping) #mappiamo la misura con il numero corrispondente\n",
        "shirts.head()"
      ],
      "execution_count": 19,
      "outputs": [
        {
          "output_type": "execute_result",
          "data": {
            "text/html": [
              "<div>\n",
              "<style scoped>\n",
              "    .dataframe tbody tr th:only-of-type {\n",
              "        vertical-align: middle;\n",
              "    }\n",
              "\n",
              "    .dataframe tbody tr th {\n",
              "        vertical-align: top;\n",
              "    }\n",
              "\n",
              "    .dataframe thead th {\n",
              "        text-align: right;\n",
              "    }\n",
              "</style>\n",
              "<table border=\"1\" class=\"dataframe\">\n",
              "  <thead>\n",
              "    <tr style=\"text-align: right;\">\n",
              "      <th></th>\n",
              "      <th>taglia</th>\n",
              "      <th>colore</th>\n",
              "      <th>prezzo</th>\n",
              "    </tr>\n",
              "  </thead>\n",
              "  <tbody>\n",
              "    <tr>\n",
              "      <th>0</th>\n",
              "      <td>0</td>\n",
              "      <td>bianco</td>\n",
              "      <td>4.99</td>\n",
              "    </tr>\n",
              "    <tr>\n",
              "      <th>1</th>\n",
              "      <td>1</td>\n",
              "      <td>bianco</td>\n",
              "      <td>19.99</td>\n",
              "    </tr>\n",
              "    <tr>\n",
              "      <th>2</th>\n",
              "      <td>3</td>\n",
              "      <td>bianco</td>\n",
              "      <td>12.49</td>\n",
              "    </tr>\n",
              "    <tr>\n",
              "      <th>3</th>\n",
              "      <td>3</td>\n",
              "      <td>bianco</td>\n",
              "      <td>14.99</td>\n",
              "    </tr>\n",
              "    <tr>\n",
              "      <th>4</th>\n",
              "      <td>0</td>\n",
              "      <td>bianco</td>\n",
              "      <td>14.99</td>\n",
              "    </tr>\n",
              "  </tbody>\n",
              "</table>\n",
              "</div>"
            ],
            "text/plain": [
              "   taglia  colore  prezzo\n",
              "0       0  bianco    4.99\n",
              "1       1  bianco   19.99\n",
              "2       3  bianco   12.49\n",
              "3       3  bianco   14.99\n",
              "4       0  bianco   14.99"
            ]
          },
          "metadata": {
            "tags": []
          },
          "execution_count": 19
        }
      ]
    },
    {
      "cell_type": "markdown",
      "metadata": {
        "id": "1_g3nhldni9S",
        "colab_type": "text"
      },
      "source": [
        "# One-hot encoding\n",
        "Le variabili qualitative sconnesse (nominali) non possono essere mappate come le ordinali, poiché non presentano un ordine interno e quindi è sbagliato assegnare un numero univoco ad ognuna.\n",
        "Il metodo utilizzato in questo caso è il One-hot encoding, e consiste nel creare una nuova colonna per ogni classe che assumerà il valore 1 se l'esempio appartiene alla classe, 0 nell'altro caso, queste variabili sono chiamate **variabili di comodo (dummy variables)**\n",
        "<img src=\"https://github.com/ProfAI/dl00/blob/master/2%20-%20Datasets%20e%20data%20preprocessing/res/onehot.png?raw=1\" width=\"500px\">"
      ]
    },
    {
      "cell_type": "markdown",
      "metadata": {
        "id": "sL4VVzqVni9S",
        "colab_type": "text"
      },
      "source": [
        "### Numpy e Scikit-learn\n",
        "Se il nostro dataset è un array numpy possiamo utilizzare la classe OneHotEncoder di scikit-learn. Per eseguire il One Hot Encoding su solamente una o più colonne del dataset possiamo sfruttare la classe ColumnTransformer, questa richiede in input una lista di tuple, in cui ogni tupla corrisponde ad una trasformazione da eseguire su una colonna che contiene i seguenti elementi:\n",
        "1. Una stringa che indica un nome arbitrario da dare alla trasformazione\n",
        "2. Il trasformatore istanziato, cioè l'oggetto che vogliamo usare per eseguire la trasformazione.\n",
        "3. Una lista con gli indici delle colonne alla quale vogliamo applicare la trasformazione.\n",
        "\n",
        "Il comportamente sulle colonne non trasformate viene definito tramite il parametro *remainder*, se questo è uguale a \"drop\" esse verranno rimosse, se invece è uguale a \"passthrough\" verranno passate immutate all'array numpy di output del ColumnTransformer."
      ]
    },
    {
      "cell_type": "code",
      "metadata": {
        "id": "y-saqmnwni9S",
        "colab_type": "code",
        "colab": {
          "base_uri": "https://localhost:8080/",
          "height": 107
        },
        "outputId": "0dd691ef-6820-4487-cf04-fd9d539f79b3"
      },
      "source": [
        "from sklearn.preprocessing import LabelEncoder\n",
        "from sklearn.preprocessing import OneHotEncoder\n",
        "from sklearn.compose import ColumnTransformer\n",
        "\n",
        "X = shirts.values # Otteniamo l'array numpy corrispondente al DataFrame\n",
        "\n",
        "ct = ColumnTransformer([(\"colore\", OneHotEncoder(), [1])], remainder = 'passthrough')\n",
        "X = ct.fit_transform(X)\n",
        "\n",
        "X[:5] #le prime tre colonne rappresentano la classe-colore (bianco, rosso e verde), la quarta la taglia e la quinta il prezzo"
      ],
      "execution_count": 20,
      "outputs": [
        {
          "output_type": "execute_result",
          "data": {
            "text/plain": [
              "array([[1.0, 0.0, 0.0, 0, 4.99],\n",
              "       [1.0, 0.0, 0.0, 1, 19.99],\n",
              "       [1.0, 0.0, 0.0, 3, 12.49],\n",
              "       [1.0, 0.0, 0.0, 3, 14.99],\n",
              "       [1.0, 0.0, 0.0, 0, 14.99]], dtype=object)"
            ]
          },
          "metadata": {
            "tags": []
          },
          "execution_count": 20
        }
      ]
    },
    {
      "cell_type": "markdown",
      "metadata": {
        "id": "wbs8c4Lkni9U",
        "colab_type": "text"
      },
      "source": [
        "### Pandas\n",
        "Se invece vogliamo eseguire il one-hot encoding su un Dataframe possiamo semplicemente usare il metodo pandas get_dummies"
      ]
    },
    {
      "cell_type": "code",
      "metadata": {
        "id": "1vrha-Koni9U",
        "colab_type": "code",
        "colab": {},
        "outputId": "f790c82a-d702-4fe7-f329-b6b65a69d2cf"
      },
      "source": [
        "shirts = pd.get_dummies(shirts,columns=[\"colore\"])\n",
        "shirts.head()"
      ],
      "execution_count": 0,
      "outputs": [
        {
          "output_type": "execute_result",
          "data": {
            "text/html": [
              "<div>\n",
              "<style scoped>\n",
              "    .dataframe tbody tr th:only-of-type {\n",
              "        vertical-align: middle;\n",
              "    }\n",
              "\n",
              "    .dataframe tbody tr th {\n",
              "        vertical-align: top;\n",
              "    }\n",
              "\n",
              "    .dataframe thead th {\n",
              "        text-align: right;\n",
              "    }\n",
              "</style>\n",
              "<table border=\"1\" class=\"dataframe\">\n",
              "  <thead>\n",
              "    <tr style=\"text-align: right;\">\n",
              "      <th></th>\n",
              "      <th>taglia</th>\n",
              "      <th>prezzo</th>\n",
              "      <th>size</th>\n",
              "      <th>colore_bianco</th>\n",
              "      <th>colore_rosso</th>\n",
              "      <th>colore_verde</th>\n",
              "    </tr>\n",
              "  </thead>\n",
              "  <tbody>\n",
              "    <tr>\n",
              "      <th>0</th>\n",
              "      <td>S</td>\n",
              "      <td>4.99</td>\n",
              "      <td>0</td>\n",
              "      <td>1</td>\n",
              "      <td>0</td>\n",
              "      <td>0</td>\n",
              "    </tr>\n",
              "    <tr>\n",
              "      <th>1</th>\n",
              "      <td>M</td>\n",
              "      <td>19.99</td>\n",
              "      <td>1</td>\n",
              "      <td>1</td>\n",
              "      <td>0</td>\n",
              "      <td>0</td>\n",
              "    </tr>\n",
              "    <tr>\n",
              "      <th>2</th>\n",
              "      <td>XL</td>\n",
              "      <td>12.49</td>\n",
              "      <td>3</td>\n",
              "      <td>1</td>\n",
              "      <td>0</td>\n",
              "      <td>0</td>\n",
              "    </tr>\n",
              "    <tr>\n",
              "      <th>3</th>\n",
              "      <td>XL</td>\n",
              "      <td>14.99</td>\n",
              "      <td>3</td>\n",
              "      <td>1</td>\n",
              "      <td>0</td>\n",
              "      <td>0</td>\n",
              "    </tr>\n",
              "    <tr>\n",
              "      <th>4</th>\n",
              "      <td>S</td>\n",
              "      <td>14.99</td>\n",
              "      <td>0</td>\n",
              "      <td>1</td>\n",
              "      <td>0</td>\n",
              "      <td>0</td>\n",
              "    </tr>\n",
              "  </tbody>\n",
              "</table>\n",
              "</div>"
            ],
            "text/plain": [
              "  taglia  prezzo  size  colore_bianco  colore_rosso  colore_verde\n",
              "0      S    4.99     0              1             0             0\n",
              "1      M   19.99     1              1             0             0\n",
              "2     XL   12.49     3              1             0             0\n",
              "3     XL   14.99     3              1             0             0\n",
              "4      S   14.99     0              1             0             0"
            ]
          },
          "metadata": {
            "tags": []
          },
          "execution_count": 15
        }
      ]
    }
  ]
}