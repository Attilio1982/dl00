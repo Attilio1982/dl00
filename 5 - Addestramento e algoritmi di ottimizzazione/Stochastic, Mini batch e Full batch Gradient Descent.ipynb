{
 "cells": [
  {
   "cell_type": "markdown",
   "metadata": {},
   "source": [
    "# Stochastic, Mini batch e Full batch Gradient Descent\n",
    "In questo notebook faremo un confronto tra le tre varianti dell'algoritmo di ottimizzazione Gradient Descent\n",
    " * **Full Batch**: Il gradient descent utilizza tutti gli esempi per correggere i coefficienti.\n",
    " * **Stochastic**: Il gradient descent utilizza un solo esempio per volta per correggere i coefficienti.\n",
    " * **Mini Batch**: Il gradient descent utilizza un determinato numero di esempi per volta per coreggere i coefficienti.\n",
    " \n",
    "Per questo esempio utilizzeremo il dataset [Fashion MNIST](https://github.com/zalandoresearch/fashion-mnist), un dataset contenente capi di abbigliamento correttamente classificati, creato dalla popolare piattaforma di e-commerce Zalando.\n",
    "<br>\n",
    "<br>\n",
    "Cominciamo importando i moduli che ci serviranno"
   ]
  },
  {
   "cell_type": "code",
   "execution_count": 2,
   "metadata": {},
   "outputs": [
    {
     "name": "stderr",
     "output_type": "stream",
     "text": [
      "/anaconda3/lib/python3.6/site-packages/h5py/__init__.py:36: FutureWarning: Conversion of the second argument of issubdtype from `float` to `np.floating` is deprecated. In future, it will be treated as `np.float64 == np.dtype(float).type`.\n",
      "  from ._conv import register_converters as _register_converters\n",
      "Using TensorFlow backend.\n"
     ]
    }
   ],
   "source": [
    "import numpy as np\n",
    "import matplotlib.pyplot as plt\n",
    "\n",
    "from keras.models import Sequential\n",
    "from keras.layers import Dense\n",
    "\n",
    "from time import time\n",
    "\n",
    "from scripts.random import set_seed # da utilizzare per poter riprodurre i miei risultati"
   ]
  },
  {
   "cell_type": "markdown",
   "metadata": {},
   "source": [
    "## Preparazione dei dati\n",
    "Piuttosto che scaricare i files in formato binario dalla repository, possiamo caricare il dataset utilizzando l'utility inclusa in Keras."
   ]
  },
  {
   "cell_type": "code",
   "execution_count": 3,
   "metadata": {},
   "outputs": [
    {
     "name": "stdout",
     "output_type": "stream",
     "text": [
      "Numero totale di proprietà: 28\n",
      "Esempi di training: 60000\n",
      "Esempi di test: 10000\n"
     ]
    }
   ],
   "source": [
    "from keras.datasets import fashion_mnist\n",
    "\n",
    "labels = [\"T-shirt/top\",\"Pantalone\",\"Pullover\",\"Vestito\",\"Cappotto\",\"Sandalo\",\"Maglietta\",\"Sneaker\",\"Borsa\",\"Stivaletto\"]\n",
    "\n",
    "(X_train, y_train), (X_test, y_test) = fashion_mnist.load_data()\n",
    "\n",
    "print(\"Numero totale di proprietà: \"+str(X_train.shape[1]))\n",
    "print(\"Esempi di training: \"+str(X_train.shape[0]))\n",
    "print(\"Esempi di test: \"+str(X_test.shape[0]))"
   ]
  },
  {
   "cell_type": "markdown",
   "metadata": {},
   "source": [
    "Le immagini appartengono ad una delle seguenti classi: *T-shirt/top, Pantalone, Pullover, Vestito, Cappotto, Sandalo, Maglietta, Sneaker, Borsa, Stivaletto*.\n",
    "<br><br>\n",
    "Ogni immagine è rappresentata da una matrice di 28x28 pixel, proviamo a visualizzare la prima osservazione del test set utilizzando la funzione <span style=\"font-family: Monaco\">imshow</span> di matplotlib."
   ]
  },
  {
   "cell_type": "code",
   "execution_count": 4,
   "metadata": {},
   "outputs": [
    {
     "name": "stdout",
     "output_type": "stream",
     "text": [
      "L'immagine figura un/o Stivaletto\n"
     ]
    },
    {
     "data": {
      "image/png": "[encoded data removed]",
      "text/plain": [
       "<Figure size 432x288 with 1 Axes>"
      ]
     },
     "metadata": {},
     "output_type": "display_data"
    }
   ],
   "source": [
    "plt.axis(\"off\")\n",
    "plt.imshow(X_test[0], cmap=\"gray\")\n",
    "print(\"L'immagine figura un/o %s\" % labels[y_test[0]])"
   ]
  },
  {
   "cell_type": "markdown",
   "metadata": {},
   "source": [
    "Dato che una singola osservazione è una matrice, dobbiamo spacchettare le righe all'interno di un singolo vettore. Per farlo possiamo utilizzare il metodo <span style=\"font-family: Monaco\">reshape</span>."
   ]
  },
  {
   "cell_type": "code",
   "execution_count": 5,
   "metadata": {},
   "outputs": [
    {
     "data": {
      "text/plain": [
       "(60000, 784)"
      ]
     },
     "execution_count": 5,
     "metadata": {},
     "output_type": "execute_result"
    }
   ],
   "source": [
    "X_train = X_train.reshape(X_train.shape[0],28*28)\n",
    "X_test = X_test.reshape(X_test.shape[0],28*28)\n",
    "\n",
    "X_train.shape"
   ]
  },
  {
   "cell_type": "markdown",
   "metadata": {},
   "source": [
    "Ogni pixel dell'immagine ha un valore che va da 0 a 255, eseguiamo la normalizzazione per ridurre questi valori in una scala da 0.0 a 1.0."
   ]
  },
  {
   "cell_type": "code",
   "execution_count": 6,
   "metadata": {},
   "outputs": [
    {
     "name": "stdout",
     "output_type": "stream",
     "text": [
      "Prima della normalizzazione\n",
      "Valore massimo: 255\n",
      "Dopo la normalizzazione\n",
      "Valore massimo: 1\n"
     ]
    }
   ],
   "source": [
    "print(\"Prima della normalizzazione\")\n",
    "print(\"Valore massimo: %d\" % X_train.max())\n",
    "\n",
    "X_train = X_train/255\n",
    "X_test = X_test/255\n",
    "\n",
    "print(\"Dopo la normalizzazione\")\n",
    "print(\"Valore massimo: %d\" % X_train.max())"
   ]
  },
  {
   "cell_type": "markdown",
   "metadata": {},
   "source": [
    "Passiamo agli array con i target, questi contengono un valore numerico che va da 0 a 9, il quale rappresenta la categoria di appartenenza dell'articolo raffigurato nell'immagine, tra quelle elencate sopra.<br>\n",
    "Per poter eseguire una classificazione multiclasse dobbiamo creare 10 variabili dummy per ogni osservazione, una per ogni classe. Possiamo farlo utilizzando la funzione <span style=\"font-family: Monaco\">to_categorical</span> di Keras."
   ]
  },
  {
   "cell_type": "code",
   "execution_count": 7,
   "metadata": {},
   "outputs": [],
   "source": [
    "from keras.utils import to_categorical\n",
    "\n",
    "num_classes=10\n",
    "\n",
    "y_train_dummy = to_categorical(y_train, num_classes)\n",
    "y_test_dummy = to_categorical(y_test, num_classes)"
   ]
  },
  {
   "cell_type": "markdown",
   "metadata": {},
   "source": [
    "## Full batch Gradient Descent\n",
    "Cominciamo dal Full batch Gradient Descent. Per prima cosa creiamo il modello, possiamo utilizzare la stessa architettura che abbiamo utilizzato in un notebook precedente per il MNIST."
   ]
  },
  {
   "cell_type": "code",
   "execution_count": 7,
   "metadata": {},
   "outputs": [],
   "source": [
    "set_seed(0) # per poter riprodurre i miei risultati\n",
    "\n",
    "model = Sequential()\n",
    "model.add(Dense(512, activation='relu', input_dim=X_train.shape[1]))\n",
    "model.add(Dense(256, activation='relu'))\n",
    "model.add(Dense(128, activation='relu'))\n",
    "model.add(Dense(num_classes, activation='softmax'))"
   ]
  },
  {
   "cell_type": "markdown",
   "metadata": {},
   "source": [
    "Diamo uno sguardo al numero totale di parametri che il Full Batch Gradient Descent dovrà ottimizzare."
   ]
  },
  {
   "cell_type": "code",
   "execution_count": 8,
   "metadata": {},
   "outputs": [
    {
     "name": "stdout",
     "output_type": "stream",
     "text": [
      "_________________________________________________________________\n",
      "Layer (type)                 Output Shape              Param #   \n",
      "=================================================================\n",
      "dense_1 (Dense)              (None, 512)               401920    \n",
      "_________________________________________________________________\n",
      "dense_2 (Dense)              (None, 256)               131328    \n",
      "_________________________________________________________________\n",
      "dense_3 (Dense)              (None, 128)               32896     \n",
      "_________________________________________________________________\n",
      "dense_4 (Dense)              (None, 10)                1290      \n",
      "=================================================================\n",
      "Total params: 567,434\n",
      "Trainable params: 567,434\n",
      "Non-trainable params: 0\n",
      "_________________________________________________________________\n"
     ]
    }
   ],
   "source": [
    "model.summary()"
   ]
  },
  {
   "cell_type": "markdown",
   "metadata": {},
   "source": [
    "Sono oltre mezzo milione, diposti su 3 strati. Prepariamo il modello per l'addestramento con il metodo <span style=\"font-family: Monaco\">compile</span>, come ottimizzatore specifichiamo sempre lo stochastic gradient descent (si, lo so che il nostro scopo è utilizzare il full batch, ma fidati di me :) )"
   ]
  },
  {
   "cell_type": "code",
   "execution_count": 9,
   "metadata": {},
   "outputs": [],
   "source": [
    "model.compile(loss='categorical_crossentropy', optimizer='sgd', metrics=['accuracy'])"
   ]
  },
  {
   "cell_type": "markdown",
   "metadata": {},
   "source": [
    "Adesso, per utilizzare il full batch gradient descent, non dobbiamo far altro che specificare all'interno del metodo  <span style=\"font-family: Monaco\">fit</span> che la dimensione di un batch deve essere pari al numero di osservazioni nel set di addestramento, in tal modo l'algoritmo di ottimizzazione utilizzerà un unico batch con tutte le osservazioni ad ogni iterazione del gradient descent.\n",
    "<br>\n",
    "Per poter costruire un grafico della funzione di costo ad ogni epoca dobbiamo tener traccia di questi valori, per farlo dobbiamo definire un callback."
   ]
  },
  {
   "cell_type": "code",
   "execution_count": 10,
   "metadata": {},
   "outputs": [
    {
     "name": "stdout",
     "output_type": "stream",
     "text": [
      "Epoch 1/100\n",
      "60000/60000 [==============================] - 2s 29us/step - loss: 2.2785 - acc: 0.1393\n",
      "Epoch 2/100\n",
      "60000/60000 [==============================] - 2s 27us/step - loss: 2.2526 - acc: 0.1510\n",
      "Epoch 3/100\n",
      "60000/60000 [==============================] - 2s 30us/step - loss: 2.2282 - acc: 0.1653\n",
      "Epoch 4/100\n",
      "60000/60000 [==============================] - 2s 30us/step - loss: 2.2052 - acc: 0.1871\n",
      "Epoch 5/100\n",
      "60000/60000 [==============================] - 2s 30us/step - loss: 2.1836 - acc: 0.2175\n",
      "Epoch 6/100\n",
      "60000/60000 [==============================] - 2s 31us/step - loss: 2.1633 - acc: 0.2484\n",
      "Epoch 7/100\n",
      "60000/60000 [==============================] - 2s 32us/step - loss: 2.1439 - acc: 0.2740\n",
      "Epoch 8/100\n",
      "60000/60000 [==============================] - 3s 43us/step - loss: 2.1254 - acc: 0.2957\n",
      "Epoch 9/100\n",
      "60000/60000 [==============================] - 2s 41us/step - loss: 2.1075 - acc: 0.3129\n",
      "Epoch 10/100\n",
      "60000/60000 [==============================] - 2s 38us/step - loss: 2.0902 - acc: 0.3302\n",
      "Epoch 11/100\n",
      "60000/60000 [==============================] - 2s 38us/step - loss: 2.0733 - acc: 0.3456\n",
      "Epoch 12/100\n",
      "60000/60000 [==============================] - 2s 35us/step - loss: 2.0567 - acc: 0.3611\n",
      "Epoch 13/100\n",
      "60000/60000 [==============================] - 2s 35us/step - loss: 2.0404 - acc: 0.3762\n",
      "Epoch 14/100\n",
      "60000/60000 [==============================] - 2s 34us/step - loss: 2.0243 - acc: 0.3897\n",
      "Epoch 15/100\n",
      "60000/60000 [==============================] - 2s 33us/step - loss: 2.0085 - acc: 0.4031\n",
      "Epoch 16/100\n",
      "60000/60000 [==============================] - 2s 34us/step - loss: 1.9929 - acc: 0.4164\n",
      "Epoch 17/100\n",
      "60000/60000 [==============================] - 2s 34us/step - loss: 1.9775 - acc: 0.4298\n",
      "Epoch 18/100\n",
      "60000/60000 [==============================] - 2s 34us/step - loss: 1.9623 - acc: 0.4436\n",
      "Epoch 19/100\n",
      "60000/60000 [==============================] - 2s 35us/step - loss: 1.9473 - acc: 0.4551\n",
      "Epoch 20/100\n",
      "60000/60000 [==============================] - 2s 35us/step - loss: 1.9324 - acc: 0.4668\n",
      "Epoch 21/100\n",
      "60000/60000 [==============================] - 2s 35us/step - loss: 1.9177 - acc: 0.4773\n",
      "Epoch 22/100\n",
      "60000/60000 [==============================] - 2s 34us/step - loss: 1.9032 - acc: 0.4875\n",
      "Epoch 23/100\n",
      "60000/60000 [==============================] - 2s 34us/step - loss: 1.8889 - acc: 0.4963\n",
      "Epoch 24/100\n",
      "60000/60000 [==============================] - 2s 34us/step - loss: 1.8747 - acc: 0.5047\n",
      "Epoch 25/100\n",
      "60000/60000 [==============================] - 2s 35us/step - loss: 1.8607 - acc: 0.5116\n",
      "Epoch 26/100\n",
      "60000/60000 [==============================] - 2s 33us/step - loss: 1.8469 - acc: 0.5178\n",
      "Epoch 27/100\n",
      "60000/60000 [==============================] - 2s 34us/step - loss: 1.8332 - acc: 0.5239\n",
      "Epoch 28/100\n",
      "60000/60000 [==============================] - 2s 34us/step - loss: 1.8196 - acc: 0.5294\n",
      "Epoch 29/100\n",
      "60000/60000 [==============================] - 2s 36us/step - loss: 1.8062 - acc: 0.5342\n",
      "Epoch 30/100\n",
      "60000/60000 [==============================] - 2s 35us/step - loss: 1.7928 - acc: 0.5398\n",
      "Epoch 31/100\n",
      "60000/60000 [==============================] - 2s 34us/step - loss: 1.7796 - acc: 0.5444\n",
      "Epoch 32/100\n",
      "60000/60000 [==============================] - 2s 34us/step - loss: 1.7666 - acc: 0.5483\n",
      "Epoch 33/100\n",
      "60000/60000 [==============================] - 2s 33us/step - loss: 1.7536 - acc: 0.5526\n",
      "Epoch 34/100\n",
      "60000/60000 [==============================] - 2s 33us/step - loss: 1.7407 - acc: 0.5567\n",
      "Epoch 35/100\n",
      "60000/60000 [==============================] - 2s 33us/step - loss: 1.7280 - acc: 0.5604\n",
      "Epoch 36/100\n",
      "60000/60000 [==============================] - 2s 33us/step - loss: 1.7153 - acc: 0.5635\n",
      "Epoch 37/100\n",
      "60000/60000 [==============================] - 2s 34us/step - loss: 1.7028 - acc: 0.5672\n",
      "Epoch 38/100\n",
      "60000/60000 [==============================] - 2s 34us/step - loss: 1.6904 - acc: 0.5698\n",
      "Epoch 39/100\n",
      "60000/60000 [==============================] - 2s 34us/step - loss: 1.6781 - acc: 0.5729\n",
      "Epoch 40/100\n",
      "60000/60000 [==============================] - 2s 34us/step - loss: 1.6659 - acc: 0.5755\n",
      "Epoch 41/100\n",
      "60000/60000 [==============================] - 2s 34us/step - loss: 1.6538 - acc: 0.5784\n",
      "Epoch 42/100\n",
      "60000/60000 [==============================] - 2s 34us/step - loss: 1.6418 - acc: 0.5812\n",
      "Epoch 43/100\n",
      "60000/60000 [==============================] - 2s 32us/step - loss: 1.6300 - acc: 0.5842\n",
      "Epoch 44/100\n",
      "60000/60000 [==============================] - 2s 34us/step - loss: 1.6183 - acc: 0.5866\n",
      "Epoch 45/100\n",
      "60000/60000 [==============================] - 2s 33us/step - loss: 1.6066 - acc: 0.5893\n",
      "Epoch 46/100\n",
      "60000/60000 [==============================] - 2s 32us/step - loss: 1.5951 - acc: 0.5921\n",
      "Epoch 47/100\n",
      "60000/60000 [==============================] - 2s 32us/step - loss: 1.5837 - acc: 0.5936\n",
      "Epoch 48/100\n",
      "60000/60000 [==============================] - 2s 32us/step - loss: 1.5724 - acc: 0.5961\n",
      "Epoch 49/100\n",
      "60000/60000 [==============================] - 2s 33us/step - loss: 1.5612 - acc: 0.5984\n",
      "Epoch 50/100\n",
      "60000/60000 [==============================] - 2s 33us/step - loss: 1.5502 - acc: 0.6004\n",
      "Epoch 51/100\n",
      "60000/60000 [==============================] - 2s 33us/step - loss: 1.5392 - acc: 0.6020\n",
      "Epoch 52/100\n",
      "60000/60000 [==============================] - 2s 33us/step - loss: 1.5284 - acc: 0.6036\n",
      "Epoch 53/100\n",
      "60000/60000 [==============================] - 2s 33us/step - loss: 1.5177 - acc: 0.6053\n",
      "Epoch 54/100\n",
      "60000/60000 [==============================] - 2s 33us/step - loss: 1.5071 - acc: 0.6070\n",
      "Epoch 55/100\n",
      "60000/60000 [==============================] - 2s 33us/step - loss: 1.4967 - acc: 0.6083\n",
      "Epoch 56/100\n",
      "60000/60000 [==============================] - 2s 34us/step - loss: 1.4863 - acc: 0.6098\n",
      "Epoch 57/100\n",
      "60000/60000 [==============================] - 2s 33us/step - loss: 1.4761 - acc: 0.6109\n",
      "Epoch 58/100\n",
      "60000/60000 [==============================] - 2s 33us/step - loss: 1.4660 - acc: 0.6126\n",
      "Epoch 59/100\n",
      "60000/60000 [==============================] - 2s 34us/step - loss: 1.4560 - acc: 0.6140\n",
      "Epoch 60/100\n",
      "60000/60000 [==============================] - 2s 33us/step - loss: 1.4462 - acc: 0.6158\n",
      "Epoch 61/100\n",
      "60000/60000 [==============================] - 2s 33us/step - loss: 1.4365 - acc: 0.6172\n",
      "Epoch 62/100\n",
      "60000/60000 [==============================] - 2s 33us/step - loss: 1.4269 - acc: 0.6183\n",
      "Epoch 63/100\n",
      "60000/60000 [==============================] - 2s 34us/step - loss: 1.4175 - acc: 0.6195\n",
      "Epoch 64/100\n",
      "60000/60000 [==============================] - 2s 34us/step - loss: 1.4081 - acc: 0.6209\n",
      "Epoch 65/100\n",
      "60000/60000 [==============================] - 2s 39us/step - loss: 1.3989 - acc: 0.6221\n",
      "Epoch 66/100\n",
      "60000/60000 [==============================] - 3s 46us/step - loss: 1.3899 - acc: 0.6234\n",
      "Epoch 67/100\n",
      "60000/60000 [==============================] - 3s 47us/step - loss: 1.3810 - acc: 0.6245\n",
      "Epoch 68/100\n",
      "60000/60000 [==============================] - 3s 45us/step - loss: 1.3722 - acc: 0.6258\n",
      "Epoch 69/100\n",
      "60000/60000 [==============================] - 3s 48us/step - loss: 1.3635 - acc: 0.6269\n",
      "Epoch 70/100\n",
      "60000/60000 [==============================] - 3s 43us/step - loss: 1.3549 - acc: 0.6277\n",
      "Epoch 71/100\n",
      "60000/60000 [==============================] - 2s 38us/step - loss: 1.3465 - acc: 0.6288\n",
      "Epoch 72/100\n",
      "60000/60000 [==============================] - 2s 35us/step - loss: 1.3382 - acc: 0.6297\n",
      "Epoch 73/100\n",
      "60000/60000 [==============================] - 2s 35us/step - loss: 1.3300 - acc: 0.6311\n",
      "Epoch 74/100\n",
      "60000/60000 [==============================] - 2s 34us/step - loss: 1.3219 - acc: 0.6322\n",
      "Epoch 75/100\n",
      "60000/60000 [==============================] - 2s 35us/step - loss: 1.3140 - acc: 0.6334\n",
      "Epoch 76/100\n",
      "60000/60000 [==============================] - 2s 36us/step - loss: 1.3061 - acc: 0.6344\n",
      "Epoch 77/100\n",
      "60000/60000 [==============================] - 2s 35us/step - loss: 1.2984 - acc: 0.6354\n",
      "Epoch 78/100\n",
      "60000/60000 [==============================] - 2s 35us/step - loss: 1.2908 - acc: 0.6363\n",
      "Epoch 79/100\n",
      "60000/60000 [==============================] - 2s 34us/step - loss: 1.2834 - acc: 0.6374\n",
      "Epoch 80/100\n",
      "60000/60000 [==============================] - 2s 35us/step - loss: 1.2760 - acc: 0.6383\n",
      "Epoch 81/100\n",
      "60000/60000 [==============================] - 2s 35us/step - loss: 1.2687 - acc: 0.6393\n"
     ]
    },
    {
     "name": "stdout",
     "output_type": "stream",
     "text": [
      "Epoch 82/100\n",
      "60000/60000 [==============================] - 2s 35us/step - loss: 1.2616 - acc: 0.6403\n",
      "Epoch 83/100\n",
      "60000/60000 [==============================] - 2s 35us/step - loss: 1.2545 - acc: 0.6412\n",
      "Epoch 84/100\n",
      "60000/60000 [==============================] - 2s 34us/step - loss: 1.2476 - acc: 0.6420\n",
      "Epoch 85/100\n",
      "60000/60000 [==============================] - 2s 34us/step - loss: 1.2408 - acc: 0.6429\n",
      "Epoch 86/100\n",
      "60000/60000 [==============================] - 2s 35us/step - loss: 1.2340 - acc: 0.6437\n",
      "Epoch 87/100\n",
      "60000/60000 [==============================] - 2s 35us/step - loss: 1.2274 - acc: 0.6446\n",
      "Epoch 88/100\n",
      "60000/60000 [==============================] - 2s 34us/step - loss: 1.2209 - acc: 0.6454\n",
      "Epoch 89/100\n",
      "60000/60000 [==============================] - 2s 35us/step - loss: 1.2145 - acc: 0.6460\n",
      "Epoch 90/100\n",
      "60000/60000 [==============================] - 2s 37us/step - loss: 1.2081 - acc: 0.6469\n",
      "Epoch 91/100\n",
      "60000/60000 [==============================] - 2s 38us/step - loss: 1.2019 - acc: 0.6478\n",
      "Epoch 92/100\n",
      "60000/60000 [==============================] - 3s 44us/step - loss: 1.1958 - acc: 0.6487\n",
      "Epoch 93/100\n",
      "60000/60000 [==============================] - 3s 47us/step - loss: 1.1897 - acc: 0.6498\n",
      "Epoch 94/100\n",
      "60000/60000 [==============================] - 3s 44us/step - loss: 1.1838 - acc: 0.6506\n",
      "Epoch 95/100\n",
      "60000/60000 [==============================] - 3s 52us/step - loss: 1.1779 - acc: 0.6513\n",
      "Epoch 96/100\n",
      "60000/60000 [==============================] - 3s 46us/step - loss: 1.1722 - acc: 0.6520\n",
      "Epoch 97/100\n",
      "60000/60000 [==============================] - 3s 43us/step - loss: 1.1665 - acc: 0.6528\n",
      "Epoch 98/100\n",
      "60000/60000 [==============================] - 3s 46us/step - loss: 1.1609 - acc: 0.6535\n",
      "Epoch 99/100\n",
      "60000/60000 [==============================] - 3s 50us/step - loss: 1.1554 - acc: 0.6544\n",
      "Epoch 100/100\n",
      "60000/60000 [==============================] - 3s 51us/step - loss: 1.1500 - acc: 0.6551\n",
      "Tempo di addestramento: 3 minuti e 35 secondi\n"
     ]
    }
   ],
   "source": [
    "from keras.callbacks import History \n",
    "history = History()\n",
    "\n",
    "start_at = time()\n",
    "model.fit(X_train, y_train_dummy, epochs=100, batch_size=X_train.shape[0], callbacks=[history])\n",
    "exec_time = time() - start_at\n",
    "\n",
    "print(\"Tempo di addestramento: %d minuti e %d secondi\" % (exec_time/60, exec_time%60))"
   ]
  },
  {
   "cell_type": "markdown",
   "metadata": {},
   "source": [
    "I risultati del modello sono piuttosto scarsi, perché le 100 epoche non erano sufficenti a portare alla convergenza, infatti con ulteriori epoche il modello avrebbe continuato a migliorare.\n",
    "<br>\n",
    "Utilizziamo i valori della funzione di costo raccolti per visualizzare la sua variazione a ogni epoche su di un grafico."
   ]
  },
  {
   "cell_type": "code",
   "execution_count": 11,
   "metadata": {},
   "outputs": [
    {
     "data": {
      "text/plain": [
       "[<matplotlib.lines.Line2D at 0xb46ba22e8>]"
      ]
     },
     "execution_count": 11,
     "metadata": {},
     "output_type": "execute_result"
    },
    {
     "data": {
      "image/png": "[encoded data removed]",
      "text/plain": [
       "<Figure size 1008x720 with 1 Axes>"
      ]
     },
     "metadata": {},
     "output_type": "display_data"
    }
   ],
   "source": [
    "plt.figure(figsize=(14,10))\n",
    "plt.title(\"Full Batch Gradient Descent\")\n",
    "plt.xlabel(\"Epoca\")\n",
    "plt.ylabel(\"Log-Loss\")\n",
    "plt.plot(history.history['loss'])"
   ]
  },
  {
   "cell_type": "markdown",
   "metadata": {},
   "source": [
    "Come possiamo osservare, l'errore del modello si è ridotto in maniera abbastanza pulita senza oscillazioni."
   ]
  },
  {
   "cell_type": "markdown",
   "metadata": {},
   "source": [
    "## Stochastic Gradient Descent\n",
    "Passiamo adesso all'estremo opposto del Gradient Descent: lo Stochastic Gradient Descent.<br>\n",
    "Cominciamo ricostruendo lo stesso modello."
   ]
  },
  {
   "cell_type": "code",
   "execution_count": 13,
   "metadata": {},
   "outputs": [],
   "source": [
    "set_seed(0) # per poter riprodurre i miei risultati\n",
    "\n",
    "model = Sequential()\n",
    "model.add(Dense(512, activation='relu', input_dim=X_train.shape[1]))\n",
    "model.add(Dense(256, activation='relu'))\n",
    "model.add(Dense(128, activation='relu'))\n",
    "model.add(Dense(num_classes, activation='softmax'))"
   ]
  },
  {
   "cell_type": "markdown",
   "metadata": {},
   "source": [
    "Perché abbiamo dovuto ridefinire di nuovo lo stesso modello di prima ? Perché altrimenti, chiamando il metodo <span style=\"font-family: Monaco\">fit</span> l'addestramento sarebbe ripartito da dove si era fermato all'esecuzione precedente, continuando a ottimizzare i coefficienti che già aveva trovato.\n",
    "<br>\n",
    "<br>\n",
    "Compiliamo il modello, esattamente come fatto prima."
   ]
  },
  {
   "cell_type": "code",
   "execution_count": 14,
   "metadata": {},
   "outputs": [],
   "source": [
    "model.compile(loss='categorical_crossentropy', optimizer='sgd', metrics=['accuracy'])"
   ]
  },
  {
   "cell_type": "markdown",
   "metadata": {},
   "source": [
    "Adesso, per utilizzare lo Stochastic Gradient Descent, impostiamo come dimensione del singolo batch 1, in modo tale da far utilizzare all'algoritmo di ottimizzazione un esempio per volta. Facendo questo il gradient descent ad ogni epoca viene eseguito un numero di volte pari al numero di esempi nel set di addestramento (nel nostro caso 60.000), ne segue che il completamento di un'epoca richiederà molto più tempo rispetto al full batch. Per questo motivo impostiamo il numero di epoche a 5."
   ]
  },
  {
   "cell_type": "code",
   "execution_count": 15,
   "metadata": {},
   "outputs": [
    {
     "name": "stdout",
     "output_type": "stream",
     "text": [
      "Epoch 1/5\n",
      "60000/60000 [==============================] - 133s 2ms/step - loss: 0.5098 - acc: 0.8116\n",
      "Epoch 2/5\n",
      "60000/60000 [==============================] - 141s 2ms/step - loss: 0.3874 - acc: 0.8582\n",
      "Epoch 3/5\n",
      "60000/60000 [==============================] - 206s 3ms/step - loss: 0.3467 - acc: 0.8710\n",
      "Epoch 4/5\n",
      "60000/60000 [==============================] - 153s 3ms/step - loss: 0.3246 - acc: 0.8796\n",
      "Epoch 5/5\n",
      "60000/60000 [==============================] - 159s 3ms/step - loss: 0.3065 - acc: 0.8852\n",
      "Tempo di addestramento: 13 minuti e 12 secondi\n"
     ]
    }
   ],
   "source": [
    "start_at = time()\n",
    "model.fit(X_train, y_train_dummy, epochs=5, batch_size=1)\n",
    "exec_time = time() - start_at\n",
    "\n",
    "print(\"Tempo di addestramento: %d minuti e %d secondi\" % (exec_time/60, exec_time%60))"
   ]
  },
  {
   "cell_type": "markdown",
   "metadata": {},
   "source": [
    "Nel mio caso, l'esecuzione di 5 epoche di stochastic gradient descent ha richiesto 4 volte il tempo del full batch, ma l'addestramento si è concluso con un risultato decisamente migliore."
   ]
  },
  {
   "cell_type": "markdown",
   "metadata": {},
   "source": [
    "## Mini Batch Gradient Descent\n",
    "Completiamo eseguendo la versione intermedia del Gradient Descent e anche quella più consigliata da utilizzare: il Mini Batch Gradient Descent.\n",
    "<br>\n",
    "Ricreiamo il modello e compiliamolo."
   ]
  },
  {
   "cell_type": "code",
   "execution_count": 8,
   "metadata": {},
   "outputs": [],
   "source": [
    "set_seed(0) # per poter riprodurre i miei risultati\n",
    "\n",
    "model = Sequential()\n",
    "model.add(Dense(512, activation='relu', input_dim=X_train.shape[1]))\n",
    "model.add(Dense(256, activation='relu'))\n",
    "model.add(Dense(128, activation='relu'))\n",
    "model.add(Dense(num_classes, activation='softmax'))"
   ]
  },
  {
   "cell_type": "code",
   "execution_count": 9,
   "metadata": {},
   "outputs": [],
   "source": [
    "model.compile(loss='categorical_crossentropy', optimizer='sgd', metrics=['accuracy'])"
   ]
  },
  {
   "cell_type": "markdown",
   "metadata": {},
   "source": [
    "E adesso specifichiamo all'interno del metodo <span style=\"font-family: Monaco\">fit</span> la dimensione di ogni batch, i valori consigliati sono 32, 64, 128, 256 e 512.<br>\n",
    "Optiamo per 512."
   ]
  },
  {
   "cell_type": "code",
   "execution_count": 11,
   "metadata": {},
   "outputs": [
    {
     "name": "stdout",
     "output_type": "stream",
     "text": [
      "Epoch 1/100\n",
      "60000/60000 [==============================] - 2s 28us/step - loss: 1.5249 - acc: 0.5611\n",
      "Epoch 2/100\n",
      "60000/60000 [==============================] - 1s 24us/step - loss: 0.9108 - acc: 0.7052\n",
      "Epoch 3/100\n",
      "60000/60000 [==============================] - 1s 24us/step - loss: 0.7514 - acc: 0.7560\n",
      "Epoch 4/100\n",
      "60000/60000 [==============================] - 1s 24us/step - loss: 0.6705 - acc: 0.7830\n",
      "Epoch 5/100\n",
      "60000/60000 [==============================] - 1s 24us/step - loss: 0.6190 - acc: 0.7984\n",
      "Epoch 6/100\n",
      "60000/60000 [==============================] - 1s 24us/step - loss: 0.5824 - acc: 0.8082\n",
      "Epoch 7/100\n",
      "60000/60000 [==============================] - 1s 24us/step - loss: 0.5563 - acc: 0.8148\n",
      "Epoch 8/100\n",
      "60000/60000 [==============================] - 1s 25us/step - loss: 0.5352 - acc: 0.8194\n",
      "Epoch 9/100\n",
      "60000/60000 [==============================] - 2s 25us/step - loss: 0.5185 - acc: 0.8246\n",
      "Epoch 10/100\n",
      "60000/60000 [==============================] - 2s 26us/step - loss: 0.5058 - acc: 0.8271\n",
      "Epoch 11/100\n",
      "60000/60000 [==============================] - 2s 27us/step - loss: 0.4945 - acc: 0.8307\n",
      "Epoch 12/100\n",
      "60000/60000 [==============================] - 2s 27us/step - loss: 0.4850 - acc: 0.8328\n",
      "Epoch 13/100\n",
      "60000/60000 [==============================] - 2s 28us/step - loss: 0.4758 - acc: 0.8360\n",
      "Epoch 14/100\n",
      "60000/60000 [==============================] - 2s 29us/step - loss: 0.4700 - acc: 0.8364\n",
      "Epoch 15/100\n",
      "60000/60000 [==============================] - 2s 28us/step - loss: 0.4616 - acc: 0.8408\n",
      "Epoch 16/100\n",
      "60000/60000 [==============================] - 2s 28us/step - loss: 0.4565 - acc: 0.8412\n",
      "Epoch 17/100\n",
      "60000/60000 [==============================] - 2s 28us/step - loss: 0.4525 - acc: 0.8431\n",
      "Epoch 18/100\n",
      "60000/60000 [==============================] - 2s 28us/step - loss: 0.4446 - acc: 0.8450\n",
      "Epoch 19/100\n",
      "60000/60000 [==============================] - 2s 28us/step - loss: 0.4402 - acc: 0.8467\n",
      "Epoch 20/100\n",
      "60000/60000 [==============================] - 2s 29us/step - loss: 0.4347 - acc: 0.8484\n",
      "Epoch 21/100\n",
      "60000/60000 [==============================] - 2s 29us/step - loss: 0.4320 - acc: 0.8492\n",
      "Epoch 22/100\n",
      "60000/60000 [==============================] - 2s 29us/step - loss: 0.4274 - acc: 0.8508\n",
      "Epoch 23/100\n",
      "60000/60000 [==============================] - 2s 29us/step - loss: 0.4232 - acc: 0.8514\n",
      "Epoch 24/100\n",
      "60000/60000 [==============================] - 2s 28us/step - loss: 0.4226 - acc: 0.8519\n",
      "Epoch 25/100\n",
      "60000/60000 [==============================] - 2s 29us/step - loss: 0.4201 - acc: 0.8528\n",
      "Epoch 26/100\n",
      "60000/60000 [==============================] - 2s 29us/step - loss: 0.4164 - acc: 0.8566\n",
      "Epoch 27/100\n",
      "60000/60000 [==============================] - 2s 30us/step - loss: 0.4097 - acc: 0.8579\n",
      "Epoch 28/100\n",
      "60000/60000 [==============================] - 2s 29us/step - loss: 0.4074 - acc: 0.8578\n",
      "Epoch 29/100\n",
      "60000/60000 [==============================] - 2s 30us/step - loss: 0.4077 - acc: 0.8580\n",
      "Epoch 30/100\n",
      "60000/60000 [==============================] - 2s 30us/step - loss: 0.4043 - acc: 0.8583\n",
      "Epoch 31/100\n",
      "60000/60000 [==============================] - 2s 30us/step - loss: 0.4001 - acc: 0.8609\n",
      "Epoch 32/100\n",
      "60000/60000 [==============================] - 2s 30us/step - loss: 0.3993 - acc: 0.8607\n",
      "Epoch 33/100\n",
      "60000/60000 [==============================] - 2s 30us/step - loss: 0.3956 - acc: 0.8623\n",
      "Epoch 34/100\n",
      "60000/60000 [==============================] - 2s 30us/step - loss: 0.3923 - acc: 0.8628\n",
      "Epoch 35/100\n",
      "60000/60000 [==============================] - 2s 30us/step - loss: 0.3946 - acc: 0.8620\n",
      "Epoch 36/100\n",
      "60000/60000 [==============================] - 2s 31us/step - loss: 0.3889 - acc: 0.8651\n",
      "Epoch 37/100\n",
      "60000/60000 [==============================] - 2s 30us/step - loss: 0.3869 - acc: 0.8657\n",
      "Epoch 38/100\n",
      "60000/60000 [==============================] - 2s 31us/step - loss: 0.3825 - acc: 0.8658\n",
      "Epoch 39/100\n",
      "60000/60000 [==============================] - 2s 31us/step - loss: 0.3820 - acc: 0.8664\n",
      "Epoch 40/100\n",
      "60000/60000 [==============================] - 2s 30us/step - loss: 0.3794 - acc: 0.8676\n",
      "Epoch 41/100\n",
      "60000/60000 [==============================] - 2s 30us/step - loss: 0.3773 - acc: 0.8685\n",
      "Epoch 42/100\n",
      "60000/60000 [==============================] - 2s 30us/step - loss: 0.3784 - acc: 0.8675\n",
      "Epoch 43/100\n",
      "60000/60000 [==============================] - 2s 31us/step - loss: 0.3753 - acc: 0.8677\n",
      "Epoch 44/100\n",
      "60000/60000 [==============================] - 2s 31us/step - loss: 0.3705 - acc: 0.8704\n",
      "Epoch 45/100\n",
      "60000/60000 [==============================] - 2s 31us/step - loss: 0.3690 - acc: 0.8708\n",
      "Epoch 46/100\n",
      "60000/60000 [==============================] - 2s 30us/step - loss: 0.3710 - acc: 0.8696\n",
      "Epoch 47/100\n",
      "60000/60000 [==============================] - 2s 30us/step - loss: 0.3663 - acc: 0.8722\n",
      "Epoch 48/100\n",
      "60000/60000 [==============================] - 2s 30us/step - loss: 0.3659 - acc: 0.8724\n",
      "Epoch 49/100\n",
      "60000/60000 [==============================] - 2s 30us/step - loss: 0.3646 - acc: 0.8716\n",
      "Epoch 50/100\n",
      "60000/60000 [==============================] - 2s 30us/step - loss: 0.3636 - acc: 0.8719\n",
      "Epoch 51/100\n",
      "60000/60000 [==============================] - 2s 30us/step - loss: 0.3609 - acc: 0.8737\n",
      "Epoch 52/100\n",
      "60000/60000 [==============================] - 2s 33us/step - loss: 0.3586 - acc: 0.8744\n",
      "Epoch 53/100\n",
      "60000/60000 [==============================] - 2s 35us/step - loss: 0.3587 - acc: 0.8741\n",
      "Epoch 54/100\n",
      "60000/60000 [==============================] - 2s 32us/step - loss: 0.3564 - acc: 0.8753\n",
      "Epoch 55/100\n",
      "60000/60000 [==============================] - 2s 31us/step - loss: 0.3528 - acc: 0.8767\n",
      "Epoch 56/100\n",
      "60000/60000 [==============================] - 2s 31us/step - loss: 0.3527 - acc: 0.8767\n",
      "Epoch 57/100\n",
      "60000/60000 [==============================] - 2s 30us/step - loss: 0.3515 - acc: 0.8768\n",
      "Epoch 58/100\n",
      "60000/60000 [==============================] - 2s 31us/step - loss: 0.3506 - acc: 0.8772\n",
      "Epoch 59/100\n",
      "60000/60000 [==============================] - 2s 31us/step - loss: 0.3484 - acc: 0.8776\n",
      "Epoch 60/100\n",
      "60000/60000 [==============================] - 2s 32us/step - loss: 0.3491 - acc: 0.8770\n",
      "Epoch 61/100\n",
      "60000/60000 [==============================] - 2s 31us/step - loss: 0.3457 - acc: 0.8786\n",
      "Epoch 62/100\n",
      "60000/60000 [==============================] - 2s 32us/step - loss: 0.3436 - acc: 0.8786\n",
      "Epoch 63/100\n",
      "60000/60000 [==============================] - 2s 32us/step - loss: 0.3436 - acc: 0.8788\n",
      "Epoch 64/100\n",
      "60000/60000 [==============================] - 2s 31us/step - loss: 0.3405 - acc: 0.8803\n",
      "Epoch 65/100\n",
      "60000/60000 [==============================] - 2s 32us/step - loss: 0.3386 - acc: 0.8805\n",
      "Epoch 66/100\n",
      "60000/60000 [==============================] - 2s 33us/step - loss: 0.3361 - acc: 0.8815\n",
      "Epoch 67/100\n",
      "60000/60000 [==============================] - 2s 32us/step - loss: 0.3383 - acc: 0.8813\n",
      "Epoch 68/100\n",
      "60000/60000 [==============================] - 2s 32us/step - loss: 0.3348 - acc: 0.8820\n",
      "Epoch 69/100\n",
      "60000/60000 [==============================] - 2s 32us/step - loss: 0.3361 - acc: 0.8809\n",
      "Epoch 70/100\n",
      "60000/60000 [==============================] - 2s 32us/step - loss: 0.3333 - acc: 0.8820\n",
      "Epoch 71/100\n",
      "60000/60000 [==============================] - 2s 32us/step - loss: 0.3325 - acc: 0.8822\n",
      "Epoch 72/100\n",
      "60000/60000 [==============================] - 2s 33us/step - loss: 0.3310 - acc: 0.8827\n",
      "Epoch 73/100\n",
      "60000/60000 [==============================] - 2s 33us/step - loss: 0.3309 - acc: 0.8824\n",
      "Epoch 74/100\n",
      "60000/60000 [==============================] - 2s 31us/step - loss: 0.3289 - acc: 0.8842\n",
      "Epoch 75/100\n",
      "60000/60000 [==============================] - 2s 32us/step - loss: 0.3258 - acc: 0.8839\n",
      "Epoch 76/100\n",
      "60000/60000 [==============================] - 2s 32us/step - loss: 0.3270 - acc: 0.8840\n",
      "Epoch 77/100\n",
      "60000/60000 [==============================] - 2s 32us/step - loss: 0.3244 - acc: 0.8857\n",
      "Epoch 78/100\n",
      "60000/60000 [==============================] - 2s 32us/step - loss: 0.3237 - acc: 0.8848\n",
      "Epoch 79/100\n",
      "60000/60000 [==============================] - 2s 32us/step - loss: 0.3225 - acc: 0.8853\n",
      "Epoch 80/100\n",
      "60000/60000 [==============================] - 2s 32us/step - loss: 0.3232 - acc: 0.8849\n",
      "Epoch 81/100\n"
     ]
    },
    {
     "name": "stdout",
     "output_type": "stream",
     "text": [
      "60000/60000 [==============================] - 2s 33us/step - loss: 0.3207 - acc: 0.8863\n",
      "Epoch 82/100\n",
      "60000/60000 [==============================] - 2s 30us/step - loss: 0.3207 - acc: 0.8863\n",
      "Epoch 83/100\n",
      "60000/60000 [==============================] - 2s 30us/step - loss: 0.3203 - acc: 0.8864\n",
      "Epoch 84/100\n",
      "60000/60000 [==============================] - 2s 30us/step - loss: 0.3168 - acc: 0.8883\n",
      "Epoch 85/100\n",
      "60000/60000 [==============================] - 2s 30us/step - loss: 0.3155 - acc: 0.8888\n",
      "Epoch 86/100\n",
      "60000/60000 [==============================] - 2s 31us/step - loss: 0.3153 - acc: 0.8882\n",
      "Epoch 87/100\n",
      "60000/60000 [==============================] - 2s 30us/step - loss: 0.3123 - acc: 0.8899\n",
      "Epoch 88/100\n",
      "60000/60000 [==============================] - 2s 31us/step - loss: 0.3123 - acc: 0.8900\n",
      "Epoch 89/100\n",
      "60000/60000 [==============================] - 2s 31us/step - loss: 0.3106 - acc: 0.8896\n",
      "Epoch 90/100\n",
      "60000/60000 [==============================] - 2s 31us/step - loss: 0.3092 - acc: 0.8902\n",
      "Epoch 91/100\n",
      "60000/60000 [==============================] - 2s 31us/step - loss: 0.3110 - acc: 0.8896\n",
      "Epoch 92/100\n",
      "60000/60000 [==============================] - 2s 31us/step - loss: 0.3083 - acc: 0.8902\n",
      "Epoch 93/100\n",
      "60000/60000 [==============================] - 2s 31us/step - loss: 0.3091 - acc: 0.8901\n",
      "Epoch 94/100\n",
      "60000/60000 [==============================] - 2s 30us/step - loss: 0.3072 - acc: 0.8905\n",
      "Epoch 95/100\n",
      "60000/60000 [==============================] - 2s 31us/step - loss: 0.3062 - acc: 0.8913\n",
      "Epoch 96/100\n",
      "60000/60000 [==============================] - 2s 30us/step - loss: 0.3027 - acc: 0.8919\n",
      "Epoch 97/100\n",
      "60000/60000 [==============================] - 2s 31us/step - loss: 0.3036 - acc: 0.8929\n",
      "Epoch 98/100\n",
      "60000/60000 [==============================] - 2s 34us/step - loss: 0.3032 - acc: 0.8917\n",
      "Epoch 99/100\n",
      "60000/60000 [==============================] - 2s 33us/step - loss: 0.3010 - acc: 0.8927\n",
      "Epoch 100/100\n",
      "60000/60000 [==============================] - 2s 29us/step - loss: 0.3018 - acc: 0.8921\n",
      "Tempo di addestramento: 3 minuti e 0 secondi\n"
     ]
    }
   ],
   "source": [
    "from keras.callbacks import History \n",
    "history = History()\n",
    "\n",
    "start_at = time()\n",
    "model.fit(X_train, y_train_dummy, epochs=100, batch_size=512, callbacks=[history])\n",
    "exec_time = time() - start_at\n",
    "\n",
    "print(\"Tempo di addestramento: %d minuti e %d secondi\" % (exec_time/60, exec_time%60))"
   ]
  },
  {
   "cell_type": "markdown",
   "metadata": {},
   "source": [
    "Il mini batch con un batch size di 512 ha richiesto poco più tempo del full batch e ha portato a un risultato finale decisamente migliore.\n",
    "Visualizziamo la variazione dell'errore ad ogni epoca."
   ]
  },
  {
   "cell_type": "code",
   "execution_count": 12,
   "metadata": {},
   "outputs": [
    {
     "data": {
      "text/plain": [
       "[<matplotlib.lines.Line2D at 0x116c3c7b8>]"
      ]
     },
     "execution_count": 12,
     "metadata": {},
     "output_type": "execute_result"
    },
    {
     "data": {
      "image/png": "[encoded data removed]",
      "text/plain": [
       "<Figure size 1008x720 with 1 Axes>"
      ]
     },
     "metadata": {},
     "output_type": "display_data"
    }
   ],
   "source": [
    "plt.figure(figsize=(14,10))\n",
    "plt.title(\"Mini Batch Gradient Descent - Batch size = 512\")\n",
    "plt.xlabel(\"Epoca\")\n",
    "plt.ylabel(\"Log-Loss\")\n",
    "plt.plot(history.history['loss'])"
   ]
  },
  {
   "cell_type": "markdown",
   "metadata": {},
   "source": [
    "Come vedi l'errore si è ridotto molto in fretta durante le prime 10 epoche, dopodichè ha continuato a migliorare più lentamento oscillando leggermente."
   ]
  }
 ],
 "metadata": {
  "kernelspec": {
   "display_name": "Python 3",
   "language": "python",
   "name": "python3"
  },
  "language_info": {
   "codemirror_mode": {
    "name": "ipython",
    "version": 3
   },
   "file_extension": ".py",
   "mimetype": "text/x-python",
   "name": "python",
   "nbconvert_exporter": "python",
   "pygments_lexer": "ipython3",
   "version": "3.6.5"
  }
 },
 "nbformat": 4,
 "nbformat_minor": 2
}
