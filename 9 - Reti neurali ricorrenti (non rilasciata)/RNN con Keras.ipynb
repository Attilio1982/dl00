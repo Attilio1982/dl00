{
  "nbformat": 4,
  "nbformat_minor": 0,
  "metadata": {
    "colab": {
      "name": "RNN con Keras.ipynb",
      "version": "0.3.2",
      "provenance": []
    },
    "kernelspec": {
      "name": "python3",
      "display_name": "Python 3"
    },
    "accelerator": "GPU"
  },
  "cells": [
    {
      "metadata": {
        "id": "FQO8Jse2Ouqe",
        "colab_type": "text"
      },
      "cell_type": "markdown",
      "source": [
        "### RNN e Word Embedding con Keras\n",
        "Le reti neurali ricorrenti (RNNs - Recurrent Neural Networks) sono un'architettura di reti neurali artificiali che mantenedo una memoria interna ci permettono di analizzare sequenze temporale di dati.\n",
        "<br><br>\n",
        "In questo costruiremo una rete neurale ricorrente per un problema di sentiment analysis, utilizzando sempre il dataset l'Internet Movie Database.\n",
        "<br><br>\n",
        "Carichiamo i moduli che ci serviranno."
      ]
    },
    {
      "metadata": {
        "id": "Rm4MbdwhuDWw",
        "colab_type": "code",
        "colab": {}
      },
      "cell_type": "code",
      "source": [
        "import numpy as np\n",
        "import matplotlib.pyplot as plt\n",
        "\n",
        "from keras.utils import to_categorical\n",
        "\n",
        "from keras.models import Sequential\n",
        "from keras.layers import Dense"
      ],
      "execution_count": 0,
      "outputs": []
    },
    {
      "metadata": {
        "id": "HZycdrxbQDlR",
        "colab_type": "text"
      },
      "cell_type": "markdown",
      "source": [
        "## Scarichiamo il dataset\n",
        "Utilizziamo Keras per caricare l'imdb dataset, limitandolo alle 10000 parole più comuni."
      ]
    },
    {
      "metadata": {
        "id": "L62nyM6MukfQ",
        "colab_type": "code",
        "outputId": "204e775d-279d-4390-c502-9d087dfef082",
        "colab": {
          "base_uri": "https://localhost:8080/",
          "height": 51
        }
      },
      "cell_type": "code",
      "source": [
        "from keras.datasets import imdb \n",
        "\n",
        "num_words = 10000\n",
        "\n",
        "(X_train, y_train), (X_test, y_test) = imdb.load_data(num_words=num_words)\n",
        "\n",
        "print(\"Numero di esempi nel train set: %d\" % len(X_train))\n",
        "print(\"Numero di esempi nel test set: %d\" % len(X_test))"
      ],
      "execution_count": 30,
      "outputs": [
        {
          "output_type": "stream",
          "text": [
            "Numero di esempi nel train set: 25000\n",
            "Numero di esempi nel test set: 25000\n"
          ],
          "name": "stdout"
        }
      ]
    },
    {
      "metadata": {
        "id": "l-bczOoCQX7S",
        "colab_type": "text"
      },
      "cell_type": "markdown",
      "source": [
        "## Preprocessiamo i dati\n",
        "Per rappresentare le nostre sequenze utilizzeremo il Word Embedding, che va aggiunto come strato iniziale della nostra rete neurale.\n",
        "Le recensioni all'interno del corpus di testo hanno ovviamente lunghezza differente\n"
      ]
    },
    {
      "metadata": {
        "id": "1H8r5LCZVBRT",
        "colab_type": "code",
        "colab": {
          "base_uri": "https://localhost:8080/",
          "height": 51
        },
        "outputId": "8fa62224-2d42-4ad4-a03e-e04f7a93fa6c"
      },
      "cell_type": "code",
      "source": [
        "longest_review = max(X_train,key=len)\n",
        "shortest_review = min(X_train,key=len)\n",
        "\n",
        "print(\"La review più lunga ha %d parole\" % len(longest_review))\n",
        "print(\"La review più corta ha %d parole\" % len(shortest_review))"
      ],
      "execution_count": 31,
      "outputs": [
        {
          "output_type": "stream",
          "text": [
            "La review più lunga ha 2494 parole\n",
            "La review più corta ha 11 parole\n"
          ],
          "name": "stdout"
        }
      ]
    },
    {
      "metadata": {
        "id": "JSd0oDGQbVzc",
        "colab_type": "text"
      },
      "cell_type": "markdown",
      "source": [
        "trochiamole dopo 100 parole utilizzando la funzione pad_sequence di keras. Se una recensione ha meno di 100 parole verranno aggiunti una serie di zeri al termine per portarla alla lunghezza corretta."
      ]
    },
    {
      "metadata": {
        "id": "c9QQd_iA0Fir",
        "colab_type": "code",
        "outputId": "4bc24be8-5e7e-4387-8606-12b84bcfb311",
        "colab": {
          "base_uri": "https://localhost:8080/",
          "height": 34
        }
      },
      "cell_type": "code",
      "source": [
        "from keras.preprocessing.sequence import pad_sequences\n",
        "\n",
        "maxlen = 100\n",
        "\n",
        "X_train = pad_sequences(X_train, maxlen = maxlen)\n",
        "X_test = pad_sequences(X_test, maxlen = maxlen)\n",
        "\n",
        "X_train.shape"
      ],
      "execution_count": 32,
      "outputs": [
        {
          "output_type": "execute_result",
          "data": {
            "text/plain": [
              "(25000, 100)"
            ]
          },
          "metadata": {
            "tags": []
          },
          "execution_count": 32
        }
      ]
    },
    {
      "metadata": {
        "id": "tN2k7t6nSS0o",
        "colab_type": "text"
      },
      "cell_type": "markdown",
      "source": [
        "## Creiamo il modello\n",
        "Il primo strato del nostro modello eseguirà il Word Embedding. Il Word embedding è un modello che ci permette di generare una serie di vettori (embedding vectors) ognuno dei quali quantifica una caratteristica delle parole. Questo tipo di rappresentazione che tiene conto di relazioni e dipendenze tra le parole è un ottimo input per una RNN.\n",
        "<br><br>\n",
        "La classe Embedding di Keras ha due parametri:\n",
        " - 1: Il numero di parole nel nostro dizionario\n",
        " - 2: Il numero di embedding vectors da generare\n",
        " \n",
        " \n",
        "Per aggiungere lo strato ricorrente alla nostra rete possiamo usare la classe SimpleRNN.\n",
        " "
      ]
    },
    {
      "metadata": {
        "id": "Ntgn386tv-kC",
        "colab_type": "code",
        "outputId": "f1d09870-ed63-44e1-8fec-34158189f301",
        "colab": {
          "base_uri": "https://localhost:8080/",
          "height": 240
        }
      },
      "cell_type": "code",
      "source": [
        "from keras.layers import LSTM, SimpleRNN, Embedding\n",
        "\n",
        "model = Sequential()\n",
        "\n",
        "model.add(Embedding(num_words, 32))\n",
        "model.add(SimpleRNN(32))\n",
        "model.add(Dense(1, activation='sigmoid'))\n",
        "\n",
        "model.summary()"
      ],
      "execution_count": 25,
      "outputs": [
        {
          "output_type": "stream",
          "text": [
            "_________________________________________________________________\n",
            "Layer (type)                 Output Shape              Param #   \n",
            "=================================================================\n",
            "embedding_6 (Embedding)      (None, None, 10)          100000    \n",
            "_________________________________________________________________\n",
            "simple_rnn_6 (SimpleRNN)     (None, 10)                210       \n",
            "_________________________________________________________________\n",
            "dense_6 (Dense)              (None, 1)                 11        \n",
            "=================================================================\n",
            "Total params: 100,221\n",
            "Trainable params: 100,221\n",
            "Non-trainable params: 0\n",
            "_________________________________________________________________\n"
          ],
          "name": "stdout"
        }
      ]
    },
    {
      "metadata": {
        "id": "cGiEUcX9VSyC",
        "colab_type": "text"
      },
      "cell_type": "markdown",
      "source": [
        "Compiliamo il modello ed eseguiamo l'addestramento per sole 10 epoche."
      ]
    },
    {
      "metadata": {
        "id": "7HNvO2UlxqZU",
        "colab_type": "code",
        "colab": {
          "base_uri": "https://localhost:8080/",
          "height": 414
        },
        "outputId": "f01693bf-abcc-43e6-ffaa-e0bbb12e8d88"
      },
      "cell_type": "code",
      "source": [
        "model.compile(loss='binary_crossentropy', optimizer='adam', metrics=['accuracy'])\n",
        "model.fit(X_train, y_train, batch_size=512, validation_split=0.2, epochs=10)\n",
        "model.evaluate(X_test, y_test)"
      ],
      "execution_count": 26,
      "outputs": [
        {
          "output_type": "stream",
          "text": [
            "Train on 20000 samples, validate on 5000 samples\n",
            "Epoch 1/10\n",
            "20000/20000 [==============================] - 3s 160us/step - loss: 0.6913 - acc: 0.5274 - val_loss: 0.6869 - val_acc: 0.5692\n",
            "Epoch 2/10\n",
            "20000/20000 [==============================] - 2s 117us/step - loss: 0.6721 - acc: 0.6280 - val_loss: 0.6806 - val_acc: 0.5602\n",
            "Epoch 3/10\n",
            "20000/20000 [==============================] - 2s 118us/step - loss: 0.6273 - acc: 0.6930 - val_loss: 0.6766 - val_acc: 0.5704\n",
            "Epoch 4/10\n",
            "20000/20000 [==============================] - 2s 115us/step - loss: 0.5388 - acc: 0.7816 - val_loss: 0.6582 - val_acc: 0.6194\n",
            "Epoch 5/10\n",
            "20000/20000 [==============================] - 2s 119us/step - loss: 0.4305 - acc: 0.8557 - val_loss: 0.6072 - val_acc: 0.6796\n",
            "Epoch 6/10\n",
            "20000/20000 [==============================] - 2s 119us/step - loss: 0.3377 - acc: 0.9111 - val_loss: 0.5972 - val_acc: 0.6912\n",
            "Epoch 7/10\n",
            "20000/20000 [==============================] - 2s 119us/step - loss: 0.2619 - acc: 0.9419 - val_loss: 0.5759 - val_acc: 0.7090\n",
            "Epoch 8/10\n",
            "20000/20000 [==============================] - 2s 118us/step - loss: 0.2074 - acc: 0.9610 - val_loss: 0.5780 - val_acc: 0.7134\n",
            "Epoch 9/10\n",
            "20000/20000 [==============================] - 2s 116us/step - loss: 0.1669 - acc: 0.9733 - val_loss: 0.5937 - val_acc: 0.7052\n",
            "Epoch 10/10\n",
            "20000/20000 [==============================] - 2s 111us/step - loss: 0.1406 - acc: 0.9789 - val_loss: 0.5946 - val_acc: 0.7180\n"
          ],
          "name": "stdout"
        },
        {
          "output_type": "execute_result",
          "data": {
            "text/plain": [
              "<keras.callbacks.History at 0x7fb1bbb468d0>"
            ]
          },
          "metadata": {
            "tags": []
          },
          "execution_count": 26
        }
      ]
    },
    {
      "metadata": {
        "id": "e38UJg0MOV5D",
        "colab_type": "text"
      },
      "cell_type": "markdown",
      "source": [
        "I risultati della nostra rette ricorrente sono scarsi se confrontati a quelli che abbiamo ottenuto in precedenza con un semplice percettrone multistrato. Inoltre  il modello soffre di un problema di un evidente problema di overfitting sul set di addestramento.\n",
        "<br>\n",
        "Le reti ricorrenti soffrono del problema della **scomparsa del gradiente** tra le diverse esecuzioni della rete e questo le rende inadatte per sequenze di dati troppo lunghe.\n",
        "<br><br>\n",
        "In questi casi la soluzione migliore è utilizzare le **Long short-term memory** network."
      ]
    }
  ]
}