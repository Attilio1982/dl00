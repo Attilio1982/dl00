{
  "nbformat": 4,
  "nbformat_minor": 0,
  "metadata": {
    "colab": {
      "name": "RNN con Keras.ipynb",
      "version": "0.3.2",
      "provenance": []
    },
    "kernelspec": {
      "name": "python3",
      "display_name": "Python 3"
    },
    "accelerator": "GPU"
  },
  "cells": [
    {
      "metadata": {
        "id": "Rm4MbdwhuDWw",
        "colab_type": "code",
        "outputId": "0a939fe1-d4b6-43c0-b236-8d027b9a68a3",
        "colab": {
          "base_uri": "https://localhost:8080/",
          "height": 34
        }
      },
      "cell_type": "code",
      "source": [
        "import numpy as np\n",
        "import matplotlib.pyplot as plt\n",
        "\n",
        "from keras.utils import to_categorical\n",
        "\n",
        "from keras.models import Sequential\n",
        "from keras.layers import Dense"
      ],
      "execution_count": 1,
      "outputs": [
        {
          "output_type": "stream",
          "text": [
            "Using TensorFlow backend.\n"
          ],
          "name": "stderr"
        }
      ]
    },
    {
      "metadata": {
        "id": "L62nyM6MukfQ",
        "colab_type": "code",
        "outputId": "6cfe5681-430e-4f14-f16a-9012d4bfa9f8",
        "colab": {
          "base_uri": "https://localhost:8080/",
          "height": 50
        }
      },
      "cell_type": "code",
      "source": [
        "from keras.datasets import imdb \n",
        "\n",
        "num_words = 5000\n",
        "\n",
        "(X_train, y_train), (X_test, y_test) = imdb.load_data(num_words=num_words)\n",
        "\n",
        "print(\"Numero di esempi nel train set: %d\" % len(X_train))\n",
        "print(\"Numero di esempi nel test set: %d\" % len(X_test))"
      ],
      "execution_count": 53,
      "outputs": [
        {
          "output_type": "stream",
          "text": [
            "Numero di esempi nel train set: 25000\n",
            "Numero di esempi nel test set: 25000\n"
          ],
          "name": "stdout"
        }
      ]
    },
    {
      "metadata": {
        "id": "c9QQd_iA0Fir",
        "colab_type": "code",
        "colab": {
          "base_uri": "https://localhost:8080/",
          "height": 34
        },
        "outputId": "bfa947bb-cbcc-4936-dbc7-0ff517f4982b"
      },
      "cell_type": "code",
      "source": [
        "from keras.preprocessing.sequence import pad_sequences\n",
        "\n",
        "maxlen = 1000\n",
        "\n",
        "X_train = pad_sequences(X_train, maxlen = maxlen)\n",
        "X_test = pad_sequences(X_test, maxlen = maxlen)\n",
        "\n",
        "X_train.shape"
      ],
      "execution_count": 62,
      "outputs": [
        {
          "output_type": "execute_result",
          "data": {
            "text/plain": [
              "(25000, 1000)"
            ]
          },
          "metadata": {
            "tags": []
          },
          "execution_count": 62
        }
      ]
    },
    {
      "metadata": {
        "id": "Ntgn386tv-kC",
        "colab_type": "code",
        "colab": {
          "base_uri": "https://localhost:8080/",
          "height": 235
        },
        "outputId": "bfd6d474-e6c1-4dfa-cbdb-d7623e462ebb"
      },
      "cell_type": "code",
      "source": [
        "from keras.layers import SimpleRNN, Embedding, Dropout\n",
        "\n",
        "model = Sequential()\n",
        "model.add(Embedding(num_words, 128))\n",
        "model.add(SimpleRNN(128))\n",
        "model.add(Dense(1, activation='sigmoid'))\n",
        "\n",
        "model.summary()"
      ],
      "execution_count": 63,
      "outputs": [
        {
          "output_type": "stream",
          "text": [
            "_________________________________________________________________\n",
            "Layer (type)                 Output Shape              Param #   \n",
            "=================================================================\n",
            "embedding_13 (Embedding)     (None, None, 128)         640000    \n",
            "_________________________________________________________________\n",
            "simple_rnn_14 (SimpleRNN)    (None, 128)               32896     \n",
            "_________________________________________________________________\n",
            "dense_37 (Dense)             (None, 1)                 129       \n",
            "=================================================================\n",
            "Total params: 673,025\n",
            "Trainable params: 673,025\n",
            "Non-trainable params: 0\n",
            "_________________________________________________________________\n"
          ],
          "name": "stdout"
        }
      ]
    },
    {
      "metadata": {
        "id": "7HNvO2UlxqZU",
        "colab_type": "code",
        "colab": {}
      },
      "cell_type": "code",
      "source": [
        "model.compile(loss='binary_crossentropy', optimizer='adam', metrics=['accuracy'])"
      ],
      "execution_count": 0,
      "outputs": []
    },
    {
      "metadata": {
        "id": "tOTY1kk_x90x",
        "colab_type": "code",
        "colab": {
          "base_uri": "https://localhost:8080/",
          "height": 386
        },
        "outputId": "4ee91b3b-a4c3-477b-d783-8fcde8d66dd6"
      },
      "cell_type": "code",
      "source": [
        "model.fit(X_train, y_train, batch_size=512, validation_split=0.2, epochs=10)"
      ],
      "execution_count": 65,
      "outputs": [
        {
          "output_type": "stream",
          "text": [
            "Train on 20000 samples, validate on 5000 samples\n",
            "Epoch 1/10\n",
            "20000/20000 [==============================] - 21s 1ms/step - loss: 0.6873 - acc: 0.5516 - val_loss: 0.7012 - val_acc: 0.5134\n",
            "Epoch 2/10\n",
            "20000/20000 [==============================] - 20s 991us/step - loss: 0.6388 - acc: 0.6309 - val_loss: 0.6288 - val_acc: 0.6480\n",
            "Epoch 3/10\n",
            "20000/20000 [==============================] - 20s 983us/step - loss: 0.5691 - acc: 0.7377 - val_loss: 0.5823 - val_acc: 0.6876\n",
            "Epoch 4/10\n",
            "20000/20000 [==============================] - 20s 984us/step - loss: 0.4727 - acc: 0.7865 - val_loss: 0.4204 - val_acc: 0.8186\n",
            "Epoch 5/10\n",
            "20000/20000 [==============================] - 20s 990us/step - loss: 0.3754 - acc: 0.8356 - val_loss: 0.5274 - val_acc: 0.7336\n",
            "Epoch 6/10\n",
            "20000/20000 [==============================] - 20s 982us/step - loss: 0.3067 - acc: 0.8724 - val_loss: 0.4070 - val_acc: 0.8278\n",
            "Epoch 7/10\n",
            "20000/20000 [==============================] - 20s 990us/step - loss: 0.2367 - acc: 0.9067 - val_loss: 0.3854 - val_acc: 0.8474\n",
            "Epoch 8/10\n",
            "20000/20000 [==============================] - 20s 986us/step - loss: 0.1813 - acc: 0.9321 - val_loss: 0.4386 - val_acc: 0.8004\n",
            "Epoch 9/10\n",
            "20000/20000 [==============================] - 20s 988us/step - loss: 0.1571 - acc: 0.9446 - val_loss: 0.3856 - val_acc: 0.8544\n",
            "Epoch 10/10\n",
            "20000/20000 [==============================] - 20s 990us/step - loss: 0.1166 - acc: 0.9619 - val_loss: 0.4303 - val_acc: 0.8328\n"
          ],
          "name": "stdout"
        },
        {
          "output_type": "execute_result",
          "data": {
            "text/plain": [
              "<keras.callbacks.History at 0x7f82fa0b1be0>"
            ]
          },
          "metadata": {
            "tags": []
          },
          "execution_count": 65
        }
      ]
    },
    {
      "metadata": {
        "id": "Bw_48xMKyPuM",
        "colab_type": "code",
        "colab": {
          "base_uri": "https://localhost:8080/",
          "height": 50
        },
        "outputId": "a90d09d6-c8fa-4b59-a98b-a8ed861b3433"
      },
      "cell_type": "code",
      "source": [
        "model.evaluate(X_test, y_test)"
      ],
      "execution_count": 66,
      "outputs": [
        {
          "output_type": "stream",
          "text": [
            "25000/25000 [==============================] - 57s 2ms/step\n"
          ],
          "name": "stdout"
        },
        {
          "output_type": "execute_result",
          "data": {
            "text/plain": [
              "[0.43148196221351626, 0.82928]"
            ]
          },
          "metadata": {
            "tags": []
          },
          "execution_count": 66
        }
      ]
    }
  ]
}