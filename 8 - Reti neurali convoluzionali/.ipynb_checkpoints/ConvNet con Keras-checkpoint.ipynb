{
 "cells": [
  {
   "cell_type": "markdown",
   "metadata": {},
   "source": [
    "# ConvNet con Keras\n",
    "In questo notebook vederemo come possiamo creare una rete neurale convoluzionale (ConvNet) utilizzando Keras. Lo scopo della nostra rete sarà quello di riconoscere capi di abbigliamento, calzature e accessori utilizzando sempre il Fashion-MNIST. Al termine del notebook confronteremo il risultato ottenuto con quello [già ottenuto con un più semplice percettrone multistrato](http://localhost:8888/notebooks/6%20-%20Overfitting%20e%20metodi%20di%20regolarizzazione/Regolarizzazione%20L1%20e%20L2.ipynb).\n",
    "<br><br>\n",
    "Cominciamo ad importare i moduli che ci serviranno."
   ]
  },
  {
   "cell_type": "code",
   "execution_count": 14,
   "metadata": {},
   "outputs": [],
   "source": [
    "import numpy as np\n",
    "import matplotlib.pyplot as plt\n",
    "\n",
    "from keras.models import Sequential\n",
    "from keras.layers import Dense\n",
    "\n",
    "from keras.utils import to_categorical"
   ]
  },
  {
   "cell_type": "markdown",
   "metadata": {},
   "source": [
    "Carichiamo il Fashion-MNIST all'interno di due coppie di array numpy, per addestramento e test, utilizzando direttamente Keras."
   ]
  },
  {
   "cell_type": "code",
   "execution_count": 15,
   "metadata": {},
   "outputs": [
    {
     "name": "stdout",
     "output_type": "stream",
     "text": [
      "Numero totale di proprietà: 28\n",
      "Esempi di training: 60000\n",
      "Esempi di test: 10000\n"
     ]
    }
   ],
   "source": [
    "from keras.datasets import fashion_mnist\n",
    "\n",
    "labels = [\"T-shirt/top\",\"Pantalone\",\"Pullover\",\"Vestito\",\"Cappotto\",\"Sandalo\",\"Maglietta\",\"Sneaker\",\"Borsa\",\"Stivaletto\"]\n",
    "\n",
    "(X_train, y_train), (X_test, y_test) = fashion_mnist.load_data()\n",
    "\n",
    "print(\"Numero totale di proprietà: \"+str(X_train.shape[1]))\n",
    "print(\"Esempi di training: \"+str(X_train.shape[0]))\n",
    "print(\"Esempi di test: \"+str(X_test.shape[0]))"
   ]
  },
  {
   "cell_type": "markdown",
   "metadata": {},
   "source": [
    "Normalizziamo i dati"
   ]
  },
  {
   "cell_type": "code",
   "execution_count": 16,
   "metadata": {},
   "outputs": [],
   "source": [
    "X_train = X_train/255\n",
    "X_test = X_test/255"
   ]
  },
  {
   "cell_type": "code",
   "execution_count": 21,
   "metadata": {},
   "outputs": [],
   "source": [
    "X_train = X_train.reshape(X_train.shape[0], X_train.shape[1], X_train.shape[2], 1)"
   ]
  },
  {
   "cell_type": "code",
   "execution_count": 32,
   "metadata": {},
   "outputs": [],
   "source": [
    "X_test = X_test.reshape(X_test.shape[0], X_test.shape[1], X_test.shape[2], 1)"
   ]
  },
  {
   "cell_type": "markdown",
   "metadata": {},
   "source": [
    "e creiamo delle variabili di comodo per il target"
   ]
  },
  {
   "cell_type": "code",
   "execution_count": 27,
   "metadata": {},
   "outputs": [],
   "source": [
    "y_train = to_categorical(y_train, 10)\n",
    "y_test = to_categorical(y_test, 10)"
   ]
  },
  {
   "cell_type": "markdown",
   "metadata": {},
   "source": [
    "## Creazione del modello"
   ]
  },
  {
   "cell_type": "code",
   "execution_count": 42,
   "metadata": {},
   "outputs": [],
   "source": [
    "from keras.layers import Conv2D, Flatten, Dropout\n",
    "\n",
    "model = Sequential()\n",
    "\n",
    "model.add(Conv2D(filters=64, kernel_size=3, padding='same', activation='relu', input_shape=(28,28,1)))\n",
    "model.add(Flatten())\n",
    "model.add(Dense(128, activation='relu'))\n",
    "model.add(Dropout(0.5))\n",
    "model.add(Dense(10, activation='softmax'))"
   ]
  },
  {
   "cell_type": "code",
   "execution_count": 43,
   "metadata": {},
   "outputs": [
    {
     "name": "stdout",
     "output_type": "stream",
     "text": [
      "_________________________________________________________________\n",
      "Layer (type)                 Output Shape              Param #   \n",
      "=================================================================\n",
      "conv2d_9 (Conv2D)            (None, 28, 28, 64)        640       \n",
      "_________________________________________________________________\n",
      "flatten_7 (Flatten)          (None, 50176)             0         \n",
      "_________________________________________________________________\n",
      "dense_9 (Dense)              (None, 128)               6422656   \n",
      "_________________________________________________________________\n",
      "dropout_1 (Dropout)          (None, 128)               0         \n",
      "_________________________________________________________________\n",
      "dense_10 (Dense)             (None, 10)                1290      \n",
      "=================================================================\n",
      "Total params: 6,424,586\n",
      "Trainable params: 6,424,586\n",
      "Non-trainable params: 0\n",
      "_________________________________________________________________\n"
     ]
    }
   ],
   "source": [
    "model.summary()"
   ]
  },
  {
   "cell_type": "code",
   "execution_count": 44,
   "metadata": {},
   "outputs": [],
   "source": [
    "model.compile(loss='categorical_crossentropy', optimizer='adam', metrics=['accuracy'])"
   ]
  },
  {
   "cell_type": "code",
   "execution_count": 45,
   "metadata": {},
   "outputs": [
    {
     "name": "stdout",
     "output_type": "stream",
     "text": [
      "Train on 48000 samples, validate on 12000 samples\n",
      "Epoch 1/5\n",
      "48000/48000 [==============================] - 36s 748us/step - loss: 0.6180 - acc: 0.7848 - val_loss: 0.3566 - val_acc: 0.8678\n",
      "Epoch 2/5\n",
      "48000/48000 [==============================] - 39s 812us/step - loss: 0.3691 - acc: 0.8706 - val_loss: 0.3075 - val_acc: 0.8878\n",
      "Epoch 3/5\n",
      "48000/48000 [==============================] - 45s 934us/step - loss: 0.3157 - acc: 0.8887 - val_loss: 0.2846 - val_acc: 0.8953\n",
      "Epoch 4/5\n",
      "48000/48000 [==============================] - 56s 1ms/step - loss: 0.2829 - acc: 0.8997 - val_loss: 0.2701 - val_acc: 0.9011\n",
      "Epoch 5/5\n",
      "48000/48000 [==============================] - 43s 890us/step - loss: 0.2583 - acc: 0.9069 - val_loss: 0.2598 - val_acc: 0.9052\n"
     ]
    },
    {
     "data": {
      "text/plain": [
       "<keras.callbacks.History at 0x10dc09da0>"
      ]
     },
     "execution_count": 45,
     "metadata": {},
     "output_type": "execute_result"
    }
   ],
   "source": [
    "model.fit(X_train, y_train, batch_size=512, validation_split=0.2, epochs=5)"
   ]
  },
  {
   "cell_type": "code",
   "execution_count": 46,
   "metadata": {},
   "outputs": [
    {
     "name": "stdout",
     "output_type": "stream",
     "text": [
      "10000/10000 [==============================] - 5s 529us/step\n"
     ]
    },
    {
     "data": {
      "text/plain": [
       "[0.27846266058683394, 0.898]"
      ]
     },
     "execution_count": 46,
     "metadata": {},
     "output_type": "execute_result"
    }
   ],
   "source": [
    "model.evaluate(X_test, y_test)"
   ]
  },
  {
   "cell_type": "code",
   "execution_count": null,
   "metadata": {},
   "outputs": [],
   "source": []
  }
 ],
 "metadata": {
  "kernelspec": {
   "display_name": "Python 3",
   "language": "python",
   "name": "python3"
  },
  "language_info": {
   "codemirror_mode": {
    "name": "ipython",
    "version": 3
   },
   "file_extension": ".py",
   "mimetype": "text/x-python",
   "name": "python",
   "nbconvert_exporter": "python",
   "pygments_lexer": "ipython3",
   "version": "3.6.5"
  }
 },
 "nbformat": 4,
 "nbformat_minor": 2
}
