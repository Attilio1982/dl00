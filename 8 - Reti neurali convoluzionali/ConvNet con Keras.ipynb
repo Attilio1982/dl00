{
  "nbformat": 4,
  "nbformat_minor": 0,
  "metadata": {
    "colab": {
      "name": "ConvNet con Keras.ipynb",
      "version": "0.3.2",
      "provenance": []
    },
    "kernelspec": {
      "name": "python3",
      "display_name": "Python 3"
    },
    "accelerator": "GPU"
  },
  "cells": [
    {
      "metadata": {
        "id": "kj6luhs4vxa9",
        "colab_type": "text"
      },
      "cell_type": "markdown",
      "source": [
        "# ConvNet con Keras\n",
        "In questo notebook vederemo come possiamo creare una rete neurale convoluzionale (ConvNet) utilizzando Keras. Lo scopo della nostra rete sarà quello di riconoscere capi di abbigliamento, calzature e accessori utilizzando sempre il Fashion-MNIST. Al termine del notebook confronteremo il risultato ottenuto con quello [già ottenuto con un più semplice percettrone multistrato](http://localhost:8888/notebooks/6%20-%20Overfitting%20e%20metodi%20di%20regolarizzazione/Regolarizzazione%20L1%20e%20L2.ipynb).\n",
        "<br><br>\n",
        "Cominciamo ad importare i moduli che ci serviranno."
      ]
    },
    {
      "metadata": {
        "id": "V684C4b3vxbA",
        "colab_type": "code",
        "colab": {}
      },
      "cell_type": "code",
      "source": [
        "import numpy as np\n",
        "import matplotlib.pyplot as plt\n",
        "\n",
        "from keras.models import Sequential\n",
        "from keras.layers import Dense\n",
        "\n",
        "from keras.utils import to_categorical"
      ],
      "execution_count": 0,
      "outputs": []
    },
    {
      "metadata": {
        "id": "wd1wI2SEvxbE",
        "colab_type": "text"
      },
      "cell_type": "markdown",
      "source": [
        "Carichiamo il Fashion-MNIST all'interno di due coppie di array numpy, per addestramento e test, utilizzando direttamente Keras."
      ]
    },
    {
      "metadata": {
        "id": "ZBoEBSGwvxbE",
        "colab_type": "code",
        "outputId": "50bacb5d-03fa-4678-9800-db78378d0a1f",
        "colab": {
          "base_uri": "https://localhost:8080/",
          "height": 67
        }
      },
      "cell_type": "code",
      "source": [
        "from keras.datasets import fashion_mnist\n",
        "\n",
        "labels = [\"T-shirt/top\",\"Pantalone\",\"Pullover\",\"Vestito\",\"Cappotto\",\"Sandalo\",\"Maglietta\",\"Sneaker\",\"Borsa\",\"Stivaletto\"]\n",
        "\n",
        "(X_train, y_train), (X_test, y_test) = fashion_mnist.load_data()\n",
        "\n",
        "print(\"Numero totale di proprietà: \"+str(X_train.shape[1]))\n",
        "print(\"Esempi di training: \"+str(X_train.shape[0]))\n",
        "print(\"Esempi di test: \"+str(X_test.shape[0]))"
      ],
      "execution_count": 44,
      "outputs": [
        {
          "output_type": "stream",
          "text": [
            "Numero totale di proprietà: 28\n",
            "Esempi di training: 60000\n",
            "Esempi di test: 10000\n"
          ],
          "name": "stdout"
        }
      ]
    },
    {
      "metadata": {
        "id": "UibG60XBvxbK",
        "colab_type": "text"
      },
      "cell_type": "markdown",
      "source": [
        "Normalizziamo i dati"
      ]
    },
    {
      "metadata": {
        "id": "wPrH_2GRvxbL",
        "colab_type": "code",
        "colab": {}
      },
      "cell_type": "code",
      "source": [
        "X_train = X_train/255\n",
        "X_test = X_test/255"
      ],
      "execution_count": 0,
      "outputs": []
    },
    {
      "metadata": {
        "id": "ljh2RKuGw2hM",
        "colab_type": "text"
      },
      "cell_type": "markdown",
      "source": [
        "L'input di una rete convoluzionale deve avere dimensione del tipo N*H*W*C, dove:\n",
        "* N è il numero di esempi nel dataset\n",
        "* H e W sono rispettivamente altezza e larghezza dell'immagine in pixel\n",
        "* C sono i canali dell'immagine\n",
        "\n",
        "Nel caso di un'immagine a colori (formato RGB) i canali saranno 3, per un immagine in bianco e nero invece abbiamo un solo canale. Utilizziamo il metodo reshape per modificare la dimensione degli array con le features, in modo da conformarci alle specifiche di Keras."
      ]
    },
    {
      "metadata": {
        "id": "94-UbZ1ovxbM",
        "colab_type": "code",
        "colab": {
          "base_uri": "https://localhost:8080/",
          "height": 34
        },
        "outputId": "cb30da03-d3b1-48cc-ae5e-bc5f88fbcb81"
      },
      "cell_type": "code",
      "source": [
        "X_train = X_train.reshape(X_train.shape[0], X_train.shape[1], X_train.shape[2], 1)\n",
        "X_test = X_test.reshape(X_test.shape[0], X_test.shape[1], X_test.shape[2], 1)\n",
        "X_train.shape"
      ],
      "execution_count": 46,
      "outputs": [
        {
          "output_type": "execute_result",
          "data": {
            "text/plain": [
              "(60000, 28, 28, 1)"
            ]
          },
          "metadata": {
            "tags": []
          },
          "execution_count": 46
        }
      ]
    },
    {
      "metadata": {
        "id": "lwcBTopAvxbT",
        "colab_type": "text"
      },
      "cell_type": "markdown",
      "source": [
        "Perfetto! Infine creiamo delle variabili di comodo per il target"
      ]
    },
    {
      "metadata": {
        "id": "aLWPpPOBvxbT",
        "colab_type": "code",
        "colab": {}
      },
      "cell_type": "code",
      "source": [
        "y_train = to_categorical(y_train, 10)\n",
        "y_test = to_categorical(y_test, 10)"
      ],
      "execution_count": 0,
      "outputs": []
    },
    {
      "metadata": {
        "id": "4IvmxqsSvxbW",
        "colab_type": "text"
      },
      "cell_type": "markdown",
      "source": [
        "## Creazione del modello"
      ]
    },
    {
      "metadata": {
        "id": "TRyJO4EjvxbX",
        "colab_type": "code",
        "colab": {}
      },
      "cell_type": "code",
      "source": [
        "from keras.layers import Conv2D, Flatten, Dropout\n",
        "\n",
        "model = Sequential()\n",
        "\n",
        "model.add(Conv2D(filters=64, kernel_size=2, padding='same', activation='relu', input_shape=(28,28,1)))\n",
        "model.add(Flatten())\n",
        "model.add(Dense(128, activation='relu'))\n",
        "model.add(Dropout(0.5))\n",
        "model.add(Dense(10, activation='softmax'))"
      ],
      "execution_count": 0,
      "outputs": []
    },
    {
      "metadata": {
        "id": "1oLuSPzJvxba",
        "colab_type": "code",
        "outputId": "4d0b30d0-0e9f-4248-eb4a-bf3dbb76128e",
        "colab": {
          "base_uri": "https://localhost:8080/",
          "height": 302
        }
      },
      "cell_type": "code",
      "source": [
        "model.summary()"
      ],
      "execution_count": 49,
      "outputs": [
        {
          "output_type": "stream",
          "text": [
            "_________________________________________________________________\n",
            "Layer (type)                 Output Shape              Param #   \n",
            "=================================================================\n",
            "conv2d_16 (Conv2D)           (None, 28, 28, 64)        640       \n",
            "_________________________________________________________________\n",
            "flatten_9 (Flatten)          (None, 50176)             0         \n",
            "_________________________________________________________________\n",
            "dense_17 (Dense)             (None, 128)               6422656   \n",
            "_________________________________________________________________\n",
            "dropout_22 (Dropout)         (None, 128)               0         \n",
            "_________________________________________________________________\n",
            "dense_18 (Dense)             (None, 10)                1290      \n",
            "=================================================================\n",
            "Total params: 6,424,586\n",
            "Trainable params: 6,424,586\n",
            "Non-trainable params: 0\n",
            "_________________________________________________________________\n"
          ],
          "name": "stdout"
        }
      ]
    },
    {
      "metadata": {
        "id": "QS1vANbNvxbe",
        "colab_type": "code",
        "colab": {}
      },
      "cell_type": "code",
      "source": [
        "model.compile(loss='categorical_crossentropy', optimizer='adam', metrics=['accuracy'])"
      ],
      "execution_count": 0,
      "outputs": []
    },
    {
      "metadata": {
        "id": "U_pl63Wevxbh",
        "colab_type": "code",
        "outputId": "b05a7ad6-95e0-4508-a023-76d7880aacd8",
        "colab": {
          "base_uri": "https://localhost:8080/",
          "height": 386
        }
      },
      "cell_type": "code",
      "source": [
        "model.fit(X_train, y_train, batch_size=512, validation_split=0.2, epochs=10)"
      ],
      "execution_count": 77,
      "outputs": [
        {
          "output_type": "stream",
          "text": [
            "Train on 48000 samples, validate on 12000 samples\n",
            "Epoch 1/10\n",
            "48000/48000 [==============================] - 6s 124us/step - loss: 0.6749 - acc: 0.7686 - val_loss: 0.3887 - val_acc: 0.8613\n",
            "Epoch 2/10\n",
            "48000/48000 [==============================] - 4s 88us/step - loss: 0.4055 - acc: 0.8590 - val_loss: 0.3256 - val_acc: 0.8812\n",
            "Epoch 3/10\n",
            "48000/48000 [==============================] - 4s 89us/step - loss: 0.3422 - acc: 0.8809 - val_loss: 0.2949 - val_acc: 0.8933\n",
            "Epoch 4/10\n",
            "48000/48000 [==============================] - 4s 89us/step - loss: 0.3036 - acc: 0.8930 - val_loss: 0.2790 - val_acc: 0.8980\n",
            "Epoch 5/10\n",
            "48000/48000 [==============================] - 4s 89us/step - loss: 0.2787 - acc: 0.9018 - val_loss: 0.2689 - val_acc: 0.9008\n",
            "Epoch 6/10\n",
            "48000/48000 [==============================] - 4s 89us/step - loss: 0.2534 - acc: 0.9093 - val_loss: 0.2675 - val_acc: 0.9030\n",
            "Epoch 7/10\n",
            "48000/48000 [==============================] - 4s 89us/step - loss: 0.2371 - acc: 0.9147 - val_loss: 0.2611 - val_acc: 0.9078\n",
            "Epoch 8/10\n",
            "48000/48000 [==============================] - 4s 89us/step - loss: 0.2209 - acc: 0.9213 - val_loss: 0.2603 - val_acc: 0.9066\n",
            "Epoch 9/10\n",
            "48000/48000 [==============================] - 4s 89us/step - loss: 0.2087 - acc: 0.9247 - val_loss: 0.2535 - val_acc: 0.9104\n",
            "Epoch 10/10\n",
            "48000/48000 [==============================] - 4s 89us/step - loss: 0.1934 - acc: 0.9312 - val_loss: 0.2536 - val_acc: 0.9112\n"
          ],
          "name": "stdout"
        },
        {
          "output_type": "execute_result",
          "data": {
            "text/plain": [
              "<keras.callbacks.History at 0x7f37a846eef0>"
            ]
          },
          "metadata": {
            "tags": []
          },
          "execution_count": 77
        }
      ]
    },
    {
      "metadata": {
        "id": "iRIf2zKWvxbk",
        "colab_type": "code",
        "outputId": "7278441b-1218-468d-9f12-36ea492ba978",
        "colab": {
          "base_uri": "https://localhost:8080/",
          "height": 50
        }
      },
      "cell_type": "code",
      "source": [
        "model.evaluate(X_test, y_test)"
      ],
      "execution_count": 78,
      "outputs": [
        {
          "output_type": "stream",
          "text": [
            "10000/10000 [==============================] - 1s 109us/step\n"
          ],
          "name": "stdout"
        },
        {
          "output_type": "execute_result",
          "data": {
            "text/plain": [
              "[0.27195664439201356, 0.9024]"
            ]
          },
          "metadata": {
            "tags": []
          },
          "execution_count": 78
        }
      ]
    },
    {
      "metadata": {
        "id": "oetA52Whmsed",
        "colab_type": "text"
      },
      "cell_type": "markdown",
      "source": [
        "## Utilizzare uno strato di Pooling"
      ]
    },
    {
      "metadata": {
        "id": "uXbg0Z1wmn_v",
        "colab_type": "code",
        "colab": {}
      },
      "cell_type": "code",
      "source": [
        "from keras.layers import MaxPooling2D\n",
        "\n",
        "model = Sequential()\n",
        "\n",
        "model.add(Conv2D(filters=64, kernel_size=2, padding='same', activation='relu', input_shape=(28,28,1)))\n",
        "model.add(MaxPooling2D(pool_size=2, strides=2))\n",
        "model.add(Dropout(0.3))\n",
        "model.add(Conv2D(filters=32, kernel_size=2, padding='same', activation='relu'))\n",
        "model.add(MaxPooling2D(pool_size=2, strides=2))\n",
        "model.add(Dropout(0.3))\n",
        "model.add(Flatten())\n",
        "model.add(Dense(256, activation='relu'))\n",
        "model.add(Dropout(0.5))\n",
        "model.add(Dense(10, activation='softmax'))"
      ],
      "execution_count": 0,
      "outputs": []
    },
    {
      "metadata": {
        "id": "_CLwanghnrES",
        "colab_type": "code",
        "colab": {
          "base_uri": "https://localhost:8080/",
          "height": 470
        },
        "outputId": "3b7875d4-0a45-42b1-d843-e1d8db46c92e"
      },
      "cell_type": "code",
      "source": [
        "model.summary()"
      ],
      "execution_count": 81,
      "outputs": [
        {
          "output_type": "stream",
          "text": [
            "_________________________________________________________________\n",
            "Layer (type)                 Output Shape              Param #   \n",
            "=================================================================\n",
            "conv2d_28 (Conv2D)           (None, 28, 28, 64)        320       \n",
            "_________________________________________________________________\n",
            "max_pooling2d_23 (MaxPooling (None, 14, 14, 64)        0         \n",
            "_________________________________________________________________\n",
            "dropout_38 (Dropout)         (None, 14, 14, 64)        0         \n",
            "_________________________________________________________________\n",
            "conv2d_29 (Conv2D)           (None, 14, 14, 32)        8224      \n",
            "_________________________________________________________________\n",
            "max_pooling2d_24 (MaxPooling (None, 7, 7, 32)          0         \n",
            "_________________________________________________________________\n",
            "dropout_39 (Dropout)         (None, 7, 7, 32)          0         \n",
            "_________________________________________________________________\n",
            "flatten_16 (Flatten)         (None, 1568)              0         \n",
            "_________________________________________________________________\n",
            "dense_30 (Dense)             (None, 256)               401664    \n",
            "_________________________________________________________________\n",
            "dropout_40 (Dropout)         (None, 256)               0         \n",
            "_________________________________________________________________\n",
            "dense_31 (Dense)             (None, 10)                2570      \n",
            "=================================================================\n",
            "Total params: 412,778\n",
            "Trainable params: 412,778\n",
            "Non-trainable params: 0\n",
            "_________________________________________________________________\n"
          ],
          "name": "stdout"
        }
      ]
    },
    {
      "metadata": {
        "id": "rQ5HzH67nxwu",
        "colab_type": "code",
        "colab": {}
      },
      "cell_type": "code",
      "source": [
        "model.compile(loss='categorical_crossentropy', optimizer='adam', metrics=['accuracy'])"
      ],
      "execution_count": 0,
      "outputs": []
    },
    {
      "metadata": {
        "id": "FJHWNcQFoa_i",
        "colab_type": "code",
        "colab": {
          "base_uri": "https://localhost:8080/",
          "height": 2503
        },
        "outputId": "3c95ccd7-c5f5-4598-fb68-a95ad5651cca"
      },
      "cell_type": "code",
      "source": [
        "from keras.callbacks import History, EarlyStopping \n",
        "\n",
        "history = History()\n",
        "earlyStopping = EarlyStopping(min_delta=0.001, patience=5)\n",
        "\n",
        "\n",
        "model.fit(X_train, y_train, batch_size=512, validation_split=0.2, epochs=100, callbacks=[history, earlyStopping])"
      ],
      "execution_count": 83,
      "outputs": [
        {
          "output_type": "stream",
          "text": [
            "Train on 48000 samples, validate on 12000 samples\n",
            "Epoch 1/100\n",
            "48000/48000 [==============================] - 6s 117us/step - loss: 0.9287 - acc: 0.6519 - val_loss: 0.5252 - val_acc: 0.8071\n",
            "Epoch 2/100\n",
            "48000/48000 [==============================] - 4s 84us/step - loss: 0.5399 - acc: 0.8002 - val_loss: 0.4407 - val_acc: 0.8372\n",
            "Epoch 3/100\n",
            "48000/48000 [==============================] - 4s 84us/step - loss: 0.4723 - acc: 0.8264 - val_loss: 0.3900 - val_acc: 0.8581\n",
            "Epoch 4/100\n",
            "48000/48000 [==============================] - 4s 83us/step - loss: 0.4293 - acc: 0.8456 - val_loss: 0.3594 - val_acc: 0.8703\n",
            "Epoch 5/100\n",
            "48000/48000 [==============================] - 4s 83us/step - loss: 0.4068 - acc: 0.8524 - val_loss: 0.3350 - val_acc: 0.8782\n",
            "Epoch 6/100\n",
            "48000/48000 [==============================] - 4s 84us/step - loss: 0.3883 - acc: 0.8581 - val_loss: 0.3256 - val_acc: 0.8823\n",
            "Epoch 7/100\n",
            "48000/48000 [==============================] - 4s 84us/step - loss: 0.3671 - acc: 0.8656 - val_loss: 0.3129 - val_acc: 0.8853\n",
            "Epoch 8/100\n",
            "48000/48000 [==============================] - 4s 84us/step - loss: 0.3587 - acc: 0.8679 - val_loss: 0.3087 - val_acc: 0.8872\n",
            "Epoch 9/100\n",
            "48000/48000 [==============================] - 4s 84us/step - loss: 0.3444 - acc: 0.8743 - val_loss: 0.2972 - val_acc: 0.8941\n",
            "Epoch 10/100\n",
            "48000/48000 [==============================] - 4s 84us/step - loss: 0.3361 - acc: 0.8757 - val_loss: 0.2907 - val_acc: 0.8939\n",
            "Epoch 11/100\n",
            "48000/48000 [==============================] - 4s 84us/step - loss: 0.3269 - acc: 0.8810 - val_loss: 0.2913 - val_acc: 0.8932\n",
            "Epoch 12/100\n",
            "48000/48000 [==============================] - 4s 84us/step - loss: 0.3153 - acc: 0.8852 - val_loss: 0.2752 - val_acc: 0.8993\n",
            "Epoch 13/100\n",
            "48000/48000 [==============================] - 4s 84us/step - loss: 0.3167 - acc: 0.8846 - val_loss: 0.2710 - val_acc: 0.9014\n",
            "Epoch 14/100\n",
            "48000/48000 [==============================] - 4s 84us/step - loss: 0.3084 - acc: 0.8859 - val_loss: 0.2708 - val_acc: 0.8977\n",
            "Epoch 15/100\n",
            "48000/48000 [==============================] - 4s 83us/step - loss: 0.3034 - acc: 0.8893 - val_loss: 0.2672 - val_acc: 0.9011\n",
            "Epoch 16/100\n",
            "48000/48000 [==============================] - 4s 83us/step - loss: 0.2962 - acc: 0.8907 - val_loss: 0.2696 - val_acc: 0.8992\n",
            "Epoch 17/100\n",
            "48000/48000 [==============================] - 4s 83us/step - loss: 0.2929 - acc: 0.8907 - val_loss: 0.2649 - val_acc: 0.9039\n",
            "Epoch 18/100\n",
            "48000/48000 [==============================] - 4s 83us/step - loss: 0.2879 - acc: 0.8946 - val_loss: 0.2540 - val_acc: 0.9055\n",
            "Epoch 19/100\n",
            "48000/48000 [==============================] - 4s 84us/step - loss: 0.2823 - acc: 0.8955 - val_loss: 0.2505 - val_acc: 0.9074\n",
            "Epoch 20/100\n",
            "48000/48000 [==============================] - 4s 84us/step - loss: 0.2792 - acc: 0.8972 - val_loss: 0.2491 - val_acc: 0.9077\n",
            "Epoch 21/100\n",
            "48000/48000 [==============================] - 4s 84us/step - loss: 0.2740 - acc: 0.8996 - val_loss: 0.2502 - val_acc: 0.9077\n",
            "Epoch 22/100\n",
            "48000/48000 [==============================] - 4s 83us/step - loss: 0.2703 - acc: 0.9014 - val_loss: 0.2479 - val_acc: 0.9080\n",
            "Epoch 23/100\n",
            "48000/48000 [==============================] - 4s 84us/step - loss: 0.2665 - acc: 0.9007 - val_loss: 0.2446 - val_acc: 0.9098\n",
            "Epoch 24/100\n",
            "48000/48000 [==============================] - 4s 83us/step - loss: 0.2640 - acc: 0.9012 - val_loss: 0.2408 - val_acc: 0.9125\n",
            "Epoch 25/100\n",
            "48000/48000 [==============================] - 4s 83us/step - loss: 0.2612 - acc: 0.9046 - val_loss: 0.2429 - val_acc: 0.9105\n",
            "Epoch 26/100\n",
            "48000/48000 [==============================] - 4s 84us/step - loss: 0.2586 - acc: 0.9042 - val_loss: 0.2387 - val_acc: 0.9126\n",
            "Epoch 27/100\n",
            "48000/48000 [==============================] - 4s 84us/step - loss: 0.2534 - acc: 0.9058 - val_loss: 0.2380 - val_acc: 0.9123\n",
            "Epoch 28/100\n",
            "48000/48000 [==============================] - 4s 83us/step - loss: 0.2498 - acc: 0.9077 - val_loss: 0.2323 - val_acc: 0.9156\n",
            "Epoch 29/100\n",
            "48000/48000 [==============================] - 4s 84us/step - loss: 0.2483 - acc: 0.9070 - val_loss: 0.2383 - val_acc: 0.9143\n",
            "Epoch 30/100\n",
            "48000/48000 [==============================] - 4s 84us/step - loss: 0.2468 - acc: 0.9087 - val_loss: 0.2396 - val_acc: 0.9113\n",
            "Epoch 31/100\n",
            "48000/48000 [==============================] - 4s 84us/step - loss: 0.2431 - acc: 0.9101 - val_loss: 0.2316 - val_acc: 0.9164\n",
            "Epoch 32/100\n",
            "48000/48000 [==============================] - 4s 84us/step - loss: 0.2397 - acc: 0.9114 - val_loss: 0.2291 - val_acc: 0.9153\n",
            "Epoch 33/100\n",
            "48000/48000 [==============================] - 4s 83us/step - loss: 0.2367 - acc: 0.9126 - val_loss: 0.2266 - val_acc: 0.9173\n",
            "Epoch 34/100\n",
            "48000/48000 [==============================] - 4s 83us/step - loss: 0.2327 - acc: 0.9134 - val_loss: 0.2282 - val_acc: 0.9154\n",
            "Epoch 35/100\n",
            "48000/48000 [==============================] - 4s 83us/step - loss: 0.2330 - acc: 0.9129 - val_loss: 0.2272 - val_acc: 0.9153\n",
            "Epoch 36/100\n",
            "48000/48000 [==============================] - 4s 83us/step - loss: 0.2296 - acc: 0.9135 - val_loss: 0.2237 - val_acc: 0.9191\n",
            "Epoch 37/100\n",
            "48000/48000 [==============================] - 4s 84us/step - loss: 0.2268 - acc: 0.9160 - val_loss: 0.2241 - val_acc: 0.9195\n",
            "Epoch 38/100\n",
            "48000/48000 [==============================] - 4s 83us/step - loss: 0.2242 - acc: 0.9165 - val_loss: 0.2229 - val_acc: 0.9194\n",
            "Epoch 39/100\n",
            "48000/48000 [==============================] - 4s 84us/step - loss: 0.2204 - acc: 0.9177 - val_loss: 0.2208 - val_acc: 0.9201\n",
            "Epoch 40/100\n",
            "48000/48000 [==============================] - 4s 83us/step - loss: 0.2205 - acc: 0.9195 - val_loss: 0.2179 - val_acc: 0.9218\n",
            "Epoch 41/100\n",
            "48000/48000 [==============================] - 4s 83us/step - loss: 0.2162 - acc: 0.9189 - val_loss: 0.2187 - val_acc: 0.9207\n",
            "Epoch 42/100\n",
            "48000/48000 [==============================] - 4s 83us/step - loss: 0.2185 - acc: 0.9189 - val_loss: 0.2180 - val_acc: 0.9214\n",
            "Epoch 43/100\n",
            "48000/48000 [==============================] - 4s 83us/step - loss: 0.2153 - acc: 0.9197 - val_loss: 0.2176 - val_acc: 0.9225\n",
            "Epoch 44/100\n",
            "48000/48000 [==============================] - 4s 83us/step - loss: 0.2112 - acc: 0.9208 - val_loss: 0.2153 - val_acc: 0.9217\n",
            "Epoch 45/100\n",
            "48000/48000 [==============================] - 4s 83us/step - loss: 0.2098 - acc: 0.9216 - val_loss: 0.2183 - val_acc: 0.9202\n",
            "Epoch 46/100\n",
            "48000/48000 [==============================] - 4s 83us/step - loss: 0.2056 - acc: 0.9224 - val_loss: 0.2156 - val_acc: 0.9212\n",
            "Epoch 47/100\n",
            "48000/48000 [==============================] - 4s 83us/step - loss: 0.2064 - acc: 0.9235 - val_loss: 0.2175 - val_acc: 0.9205\n",
            "Epoch 48/100\n",
            "48000/48000 [==============================] - 4s 84us/step - loss: 0.2038 - acc: 0.9228 - val_loss: 0.2218 - val_acc: 0.9199\n",
            "Epoch 49/100\n",
            "48000/48000 [==============================] - 4s 83us/step - loss: 0.2034 - acc: 0.9237 - val_loss: 0.2134 - val_acc: 0.9241\n",
            "Epoch 50/100\n",
            "48000/48000 [==============================] - 4s 83us/step - loss: 0.1984 - acc: 0.9255 - val_loss: 0.2130 - val_acc: 0.9231\n",
            "Epoch 51/100\n",
            "48000/48000 [==============================] - 4s 84us/step - loss: 0.1977 - acc: 0.9255 - val_loss: 0.2147 - val_acc: 0.9247\n",
            "Epoch 52/100\n",
            "48000/48000 [==============================] - 4s 83us/step - loss: 0.1989 - acc: 0.9259 - val_loss: 0.2148 - val_acc: 0.9224\n",
            "Epoch 53/100\n",
            "48000/48000 [==============================] - 4s 83us/step - loss: 0.1945 - acc: 0.9272 - val_loss: 0.2115 - val_acc: 0.9252\n",
            "Epoch 54/100\n",
            "48000/48000 [==============================] - 4s 83us/step - loss: 0.1940 - acc: 0.9277 - val_loss: 0.2109 - val_acc: 0.9248\n",
            "Epoch 55/100\n",
            "48000/48000 [==============================] - 4s 83us/step - loss: 0.1937 - acc: 0.9273 - val_loss: 0.2132 - val_acc: 0.9237\n",
            "Epoch 56/100\n",
            "48000/48000 [==============================] - 4s 83us/step - loss: 0.1889 - acc: 0.9304 - val_loss: 0.2111 - val_acc: 0.9240\n",
            "Epoch 57/100\n",
            "48000/48000 [==============================] - 4s 83us/step - loss: 0.1897 - acc: 0.9287 - val_loss: 0.2095 - val_acc: 0.9246\n",
            "Epoch 58/100\n",
            "48000/48000 [==============================] - 4s 83us/step - loss: 0.1876 - acc: 0.9291 - val_loss: 0.2091 - val_acc: 0.9242\n",
            "Epoch 59/100\n",
            "48000/48000 [==============================] - 4s 83us/step - loss: 0.1872 - acc: 0.9290 - val_loss: 0.2120 - val_acc: 0.9255\n",
            "Epoch 60/100\n",
            "48000/48000 [==============================] - 4s 84us/step - loss: 0.1861 - acc: 0.9305 - val_loss: 0.2087 - val_acc: 0.9269\n",
            "Epoch 61/100\n",
            "48000/48000 [==============================] - 4s 83us/step - loss: 0.1843 - acc: 0.9300 - val_loss: 0.2084 - val_acc: 0.9263\n",
            "Epoch 62/100\n",
            "48000/48000 [==============================] - 4s 84us/step - loss: 0.1850 - acc: 0.9303 - val_loss: 0.2099 - val_acc: 0.9252\n",
            "Epoch 63/100\n",
            "48000/48000 [==============================] - 4s 84us/step - loss: 0.1792 - acc: 0.9299 - val_loss: 0.2069 - val_acc: 0.9267\n",
            "Epoch 64/100\n",
            "48000/48000 [==============================] - 4s 84us/step - loss: 0.1843 - acc: 0.9313 - val_loss: 0.2073 - val_acc: 0.9268\n",
            "Epoch 65/100\n",
            "48000/48000 [==============================] - 4s 83us/step - loss: 0.1793 - acc: 0.9330 - val_loss: 0.2086 - val_acc: 0.9253\n",
            "Epoch 66/100\n",
            "48000/48000 [==============================] - 4s 83us/step - loss: 0.1790 - acc: 0.9336 - val_loss: 0.2120 - val_acc: 0.9239\n",
            "Epoch 67/100\n",
            "48000/48000 [==============================] - 4s 83us/step - loss: 0.1732 - acc: 0.9345 - val_loss: 0.2082 - val_acc: 0.9271\n",
            "Epoch 68/100\n",
            "48000/48000 [==============================] - 4s 84us/step - loss: 0.1753 - acc: 0.9330 - val_loss: 0.2046 - val_acc: 0.9264\n",
            "Epoch 69/100\n",
            "48000/48000 [==============================] - 4s 84us/step - loss: 0.1768 - acc: 0.9328 - val_loss: 0.2094 - val_acc: 0.9263\n",
            "Epoch 70/100\n",
            "48000/48000 [==============================] - 4s 84us/step - loss: 0.1714 - acc: 0.9350 - val_loss: 0.2098 - val_acc: 0.9249\n",
            "Epoch 71/100\n",
            "48000/48000 [==============================] - 4s 84us/step - loss: 0.1723 - acc: 0.9344 - val_loss: 0.2080 - val_acc: 0.9255\n",
            "Epoch 72/100\n",
            "48000/48000 [==============================] - 4s 84us/step - loss: 0.1717 - acc: 0.9352 - val_loss: 0.2076 - val_acc: 0.9273\n",
            "Epoch 73/100\n",
            "48000/48000 [==============================] - 4s 84us/step - loss: 0.1714 - acc: 0.9354 - val_loss: 0.2081 - val_acc: 0.9248\n"
          ],
          "name": "stdout"
        },
        {
          "output_type": "execute_result",
          "data": {
            "text/plain": [
              "<keras.callbacks.History at 0x7f37a7ee7128>"
            ]
          },
          "metadata": {
            "tags": []
          },
          "execution_count": 83
        }
      ]
    },
    {
      "metadata": {
        "id": "Av2ttik8odjI",
        "colab_type": "code",
        "colab": {
          "base_uri": "https://localhost:8080/",
          "height": 50
        },
        "outputId": "3f0b78fd-b413-49fb-82c1-7a74ace939cb"
      },
      "cell_type": "code",
      "source": [
        "model.evaluate(X_test, y_test)"
      ],
      "execution_count": 84,
      "outputs": [
        {
          "output_type": "stream",
          "text": [
            "10000/10000 [==============================] - 1s 99us/step\n"
          ],
          "name": "stdout"
        },
        {
          "output_type": "execute_result",
          "data": {
            "text/plain": [
              "[0.22296086776852608, 0.9207]"
            ]
          },
          "metadata": {
            "tags": []
          },
          "execution_count": 84
        }
      ]
    },
    {
      "metadata": {
        "id": "emfzPrpAo5T6",
        "colab_type": "code",
        "colab": {}
      },
      "cell_type": "code",
      "source": [
        ""
      ],
      "execution_count": 0,
      "outputs": []
    }
  ]
}