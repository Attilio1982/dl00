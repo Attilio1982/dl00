{
  "nbformat": 4,
  "nbformat_minor": 0,
  "metadata": {
    "colab": {
      "name": "ConvNet con Keras.ipynb",
      "version": "0.3.2",
      "provenance": []
    },
    "kernelspec": {
      "name": "python3",
      "display_name": "Python 3"
    },
    "accelerator": "GPU"
  },
  "cells": [
    {
      "metadata": {
        "id": "kj6luhs4vxa9",
        "colab_type": "text"
      },
      "cell_type": "markdown",
      "source": [
        "# ConvNet con Keras\n",
        "In questo notebook vederemo come possiamo creare una rete neurale convoluzionale (ConvNet) utilizzando Keras. Lo scopo della nostra rete sarà quello di riconoscere capi di abbigliamento, calzature e accessori utilizzando sempre il Fashion-MNIST. Al termine del notebook confronteremo il risultato ottenuto con quello [già ottenuto con un più semplice percettrone multistrato](http://localhost:8888/notebooks/6%20-%20Overfitting%20e%20metodi%20di%20regolarizzazione/Regolarizzazione%20L1%20e%20L2.ipynb).\n",
        "<br><br>\n",
        "Cominciamo ad importare i moduli che ci serviranno."
      ]
    },
    {
      "metadata": {
        "id": "V684C4b3vxbA",
        "colab_type": "code",
        "colab": {
          "base_uri": "https://localhost:8080/",
          "height": 34
        },
        "outputId": "d7921448-30a5-4c85-a450-30a4980a0a3c"
      },
      "cell_type": "code",
      "source": [
        "import numpy as np\n",
        "import matplotlib.pyplot as plt\n",
        "\n",
        "from keras.models import Sequential\n",
        "from keras.layers import Dense\n",
        "\n",
        "from keras.utils import to_categorical"
      ],
      "execution_count": 1,
      "outputs": [
        {
          "output_type": "stream",
          "text": [
            "Using TensorFlow backend.\n"
          ],
          "name": "stderr"
        }
      ]
    },
    {
      "metadata": {
        "id": "wd1wI2SEvxbE",
        "colab_type": "text"
      },
      "cell_type": "markdown",
      "source": [
        "Carichiamo il Fashion-MNIST all'interno di due coppie di array numpy, per addestramento e test, utilizzando direttamente Keras."
      ]
    },
    {
      "metadata": {
        "id": "ZBoEBSGwvxbE",
        "colab_type": "code",
        "colab": {
          "base_uri": "https://localhost:8080/",
          "height": 202
        },
        "outputId": "ce1fea67-ea21-4c63-a40a-9a2a2aa2da10"
      },
      "cell_type": "code",
      "source": [
        "from keras.datasets import fashion_mnist\n",
        "\n",
        "labels = [\"T-shirt/top\",\"Pantalone\",\"Pullover\",\"Vestito\",\"Cappotto\",\"Sandalo\",\"Maglietta\",\"Sneaker\",\"Borsa\",\"Stivaletto\"]\n",
        "\n",
        "(X_train, y_train), (X_test, y_test) = fashion_mnist.load_data()\n",
        "\n",
        "print(\"Numero totale di proprietà: \"+str(X_train.shape[1]))\n",
        "print(\"Esempi di training: \"+str(X_train.shape[0]))\n",
        "print(\"Esempi di test: \"+str(X_test.shape[0]))"
      ],
      "execution_count": 2,
      "outputs": [
        {
          "output_type": "stream",
          "text": [
            "Downloading data from http://fashion-mnist.s3-website.eu-central-1.amazonaws.com/train-labels-idx1-ubyte.gz\n",
            "32768/29515 [=================================] - 0s 8us/step\n",
            "Downloading data from http://fashion-mnist.s3-website.eu-central-1.amazonaws.com/train-images-idx3-ubyte.gz\n",
            "26427392/26421880 [==============================] - 4s 0us/step\n",
            "Downloading data from http://fashion-mnist.s3-website.eu-central-1.amazonaws.com/t10k-labels-idx1-ubyte.gz\n",
            "8192/5148 [===============================================] - 0s 0us/step\n",
            "Downloading data from http://fashion-mnist.s3-website.eu-central-1.amazonaws.com/t10k-images-idx3-ubyte.gz\n",
            "4423680/4422102 [==============================] - 9s 2us/step\n",
            "Numero totale di proprietà: 28\n",
            "Esempi di training: 60000\n",
            "Esempi di test: 10000\n"
          ],
          "name": "stdout"
        }
      ]
    },
    {
      "metadata": {
        "id": "UibG60XBvxbK",
        "colab_type": "text"
      },
      "cell_type": "markdown",
      "source": [
        "Normalizziamo i dati"
      ]
    },
    {
      "metadata": {
        "id": "wPrH_2GRvxbL",
        "colab_type": "code",
        "colab": {}
      },
      "cell_type": "code",
      "source": [
        "X_train = X_train/255\n",
        "X_test = X_test/255"
      ],
      "execution_count": 0,
      "outputs": []
    },
    {
      "metadata": {
        "id": "ljh2RKuGw2hM",
        "colab_type": "text"
      },
      "cell_type": "markdown",
      "source": [
        "L'input di una rete convoluzionale deve avere dimensione del tipo N*H*W*C, dove:\n",
        "* N è il numero di esempi nel dataset\n",
        "* H e W sono rispettivamente altezza e larghezza dell'immagine in pixel\n",
        "* C sono i canali dell'immagine\n",
        "\n",
        "Nel caso di un'immagine a colori (formato RGB) i canali saranno 3, per un immagine in bianco e nero invece abbiamo un solo canale. Utilizziamo il metodo reshape per modificare la dimensione degli array con le features, in modo da conformarci alle specifiche di Keras."
      ]
    },
    {
      "metadata": {
        "id": "94-UbZ1ovxbM",
        "colab_type": "code",
        "colab": {}
      },
      "cell_type": "code",
      "source": [
        "X_train = X_train.reshape(X_train.shape[0], X_train.shape[1], X_train.shape[2], 1)\n",
        "X_test = X_test.reshape(X_test.shape[0], X_test.shape[1], X_test.shape[2], 1)\n",
        "X_train.shape"
      ],
      "execution_count": 0,
      "outputs": []
    },
    {
      "metadata": {
        "id": "lwcBTopAvxbT",
        "colab_type": "text"
      },
      "cell_type": "markdown",
      "source": [
        "Perfetto! Infine creiamo delle variabili di comodo per il target"
      ]
    },
    {
      "metadata": {
        "id": "aLWPpPOBvxbT",
        "colab_type": "code",
        "colab": {}
      },
      "cell_type": "code",
      "source": [
        "y_train = to_categorical(y_train, 10)\n",
        "y_test = to_categorical(y_test, 10)"
      ],
      "execution_count": 0,
      "outputs": []
    },
    {
      "metadata": {
        "id": "4IvmxqsSvxbW",
        "colab_type": "text"
      },
      "cell_type": "markdown",
      "source": [
        "## Creazione del modello"
      ]
    },
    {
      "metadata": {
        "id": "TRyJO4EjvxbX",
        "colab_type": "code",
        "colab": {
          "base_uri": "https://localhost:8080/",
          "height": 138
        },
        "outputId": "9f9527de-3558-46b4-d296-25976f90566c"
      },
      "cell_type": "code",
      "source": [
        "from keras.layers import Conv2D, Flatten, Dropout\n",
        "\n",
        "model = Sequential()\n",
        "\n",
        "model.add(Conv2D(filters=64, kernel_size=3, padding='same', activation='relu', input_shape=(28,28,1)))\n",
        "model.add(Flatten())\n",
        "model.add(Dense(128, activation='relu'))\n",
        "model.add(Dropout(0.5))\n",
        "model.add(Dense(10, activation='softmax'))"
      ],
      "execution_count": 7,
      "outputs": [
        {
          "output_type": "stream",
          "text": [
            "WARNING:tensorflow:From /usr/local/lib/python3.6/dist-packages/tensorflow/python/framework/op_def_library.py:263: colocate_with (from tensorflow.python.framework.ops) is deprecated and will be removed in a future version.\n",
            "Instructions for updating:\n",
            "Colocations handled automatically by placer.\n",
            "WARNING:tensorflow:From /usr/local/lib/python3.6/dist-packages/keras/backend/tensorflow_backend.py:3445: calling dropout (from tensorflow.python.ops.nn_ops) with keep_prob is deprecated and will be removed in a future version.\n",
            "Instructions for updating:\n",
            "Please use `rate` instead of `keep_prob`. Rate should be set to `rate = 1 - keep_prob`.\n"
          ],
          "name": "stdout"
        }
      ]
    },
    {
      "metadata": {
        "id": "1oLuSPzJvxba",
        "colab_type": "code",
        "colab": {
          "base_uri": "https://localhost:8080/",
          "height": 302
        },
        "outputId": "9920b827-d688-438e-8205-207f5ebb476e"
      },
      "cell_type": "code",
      "source": [
        "model.summary()"
      ],
      "execution_count": 8,
      "outputs": [
        {
          "output_type": "stream",
          "text": [
            "_________________________________________________________________\n",
            "Layer (type)                 Output Shape              Param #   \n",
            "=================================================================\n",
            "conv2d_1 (Conv2D)            (None, 28, 28, 64)        640       \n",
            "_________________________________________________________________\n",
            "flatten_1 (Flatten)          (None, 50176)             0         \n",
            "_________________________________________________________________\n",
            "dense_1 (Dense)              (None, 128)               6422656   \n",
            "_________________________________________________________________\n",
            "dropout_1 (Dropout)          (None, 128)               0         \n",
            "_________________________________________________________________\n",
            "dense_2 (Dense)              (None, 10)                1290      \n",
            "=================================================================\n",
            "Total params: 6,424,586\n",
            "Trainable params: 6,424,586\n",
            "Non-trainable params: 0\n",
            "_________________________________________________________________\n"
          ],
          "name": "stdout"
        }
      ]
    },
    {
      "metadata": {
        "id": "QS1vANbNvxbe",
        "colab_type": "code",
        "colab": {}
      },
      "cell_type": "code",
      "source": [
        "model.compile(loss='categorical_crossentropy', optimizer='adam', metrics=['accuracy'])"
      ],
      "execution_count": 0,
      "outputs": []
    },
    {
      "metadata": {
        "id": "U_pl63Wevxbh",
        "colab_type": "code",
        "colab": {
          "base_uri": "https://localhost:8080/",
          "height": 457
        },
        "outputId": "5ffbadf8-aee9-4665-8681-0ac2a4279d0b"
      },
      "cell_type": "code",
      "source": [
        "model.fit(X_train, y_train, batch_size=512, validation_split=0.2, epochs=10)"
      ],
      "execution_count": 10,
      "outputs": [
        {
          "output_type": "stream",
          "text": [
            "WARNING:tensorflow:From /usr/local/lib/python3.6/dist-packages/tensorflow/python/ops/math_ops.py:3066: to_int32 (from tensorflow.python.ops.math_ops) is deprecated and will be removed in a future version.\n",
            "Instructions for updating:\n",
            "Use tf.cast instead.\n",
            "Train on 48000 samples, validate on 12000 samples\n",
            "Epoch 1/10\n",
            "48000/48000 [==============================] - 9s 183us/step - loss: 0.6372 - acc: 0.7801 - val_loss: 0.3632 - val_acc: 0.8672\n",
            "Epoch 2/10\n",
            "48000/48000 [==============================] - 4s 86us/step - loss: 0.3838 - acc: 0.8662 - val_loss: 0.3105 - val_acc: 0.8875\n",
            "Epoch 3/10\n",
            "48000/48000 [==============================] - 4s 86us/step - loss: 0.3261 - acc: 0.8838 - val_loss: 0.2884 - val_acc: 0.8943\n",
            "Epoch 4/10\n",
            "48000/48000 [==============================] - 4s 86us/step - loss: 0.2912 - acc: 0.8962 - val_loss: 0.2690 - val_acc: 0.9022\n",
            "Epoch 5/10\n",
            "48000/48000 [==============================] - 4s 86us/step - loss: 0.2676 - acc: 0.9029 - val_loss: 0.2676 - val_acc: 0.9006\n",
            "Epoch 6/10\n",
            "48000/48000 [==============================] - 4s 86us/step - loss: 0.2505 - acc: 0.9098 - val_loss: 0.2614 - val_acc: 0.9030\n",
            "Epoch 7/10\n",
            "48000/48000 [==============================] - 4s 86us/step - loss: 0.2304 - acc: 0.9164 - val_loss: 0.2544 - val_acc: 0.9089\n",
            "Epoch 8/10\n",
            "48000/48000 [==============================] - 4s 86us/step - loss: 0.2193 - acc: 0.9189 - val_loss: 0.2501 - val_acc: 0.9121\n",
            "Epoch 9/10\n",
            "48000/48000 [==============================] - 4s 86us/step - loss: 0.2045 - acc: 0.9255 - val_loss: 0.2515 - val_acc: 0.9107\n",
            "Epoch 10/10\n",
            "48000/48000 [==============================] - 4s 86us/step - loss: 0.1959 - acc: 0.9274 - val_loss: 0.2539 - val_acc: 0.9110\n"
          ],
          "name": "stdout"
        },
        {
          "output_type": "execute_result",
          "data": {
            "text/plain": [
              "<keras.callbacks.History at 0x7f9aac5d93c8>"
            ]
          },
          "metadata": {
            "tags": []
          },
          "execution_count": 10
        }
      ]
    },
    {
      "metadata": {
        "id": "iRIf2zKWvxbk",
        "colab_type": "code",
        "colab": {
          "base_uri": "https://localhost:8080/",
          "height": 50
        },
        "outputId": "3bfbc53e-1f4b-4d49-9a54-c154bbbb0158"
      },
      "cell_type": "code",
      "source": [
        "model.evaluate(X_test, y_test)"
      ],
      "execution_count": 11,
      "outputs": [
        {
          "output_type": "stream",
          "text": [
            "10000/10000 [==============================] - 1s 100us/step\n"
          ],
          "name": "stdout"
        },
        {
          "output_type": "execute_result",
          "data": {
            "text/plain": [
              "[0.2736757785797119, 0.9052]"
            ]
          },
          "metadata": {
            "tags": []
          },
          "execution_count": 11
        }
      ]
    }
  ]
}